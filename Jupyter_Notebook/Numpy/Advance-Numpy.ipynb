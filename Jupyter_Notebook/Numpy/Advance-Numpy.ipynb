{
 "cells": [
  {
   "cell_type": "code",
   "execution_count": 22,
   "metadata": {},
   "outputs": [
    {
     "name": "stdout",
     "output_type": "stream",
     "text": [
      "range(0, 1000)\n",
      "Size of a list: 28000\n",
      "Size of an Array: 4\n",
      "Size of an Array: 336\n"
     ]
    }
   ],
   "source": [
    "# Numpy vs List: Size\n",
    "import numpy as np\n",
    "import sys\n",
    "\n",
    "# define a list\n",
    "l = range(1000)\n",
    "print(l)\n",
    "print(\"Size of a list:\",sys.getsizeof(1) * len(l))\n",
    "\n",
    "# define a Numpy Array:\n",
    "a = np.array(1000)\n",
    "print(\"Size of an Array:\",a.size * a.itemsize)\n",
    "#print(\"Size of an Array:\",sys.getsizeof(a) * a.itemsize)"
   ]
  },
  {
   "cell_type": "code",
   "execution_count": 31,
   "metadata": {},
   "outputs": [
    {
     "name": "stdout",
     "output_type": "stream",
     "text": [
      "0.001997709274291992 1.695662260055542\n",
      "In this example Numpy is 0.001178129230892098 times faster than a list\n"
     ]
    }
   ],
   "source": [
    "# Numpy vs List:Speed\n",
    "import numpy as np\n",
    "import sys\n",
    "import time\n",
    "\n",
    "def using_List():\n",
    "    t1 = time.time() #Starting/Initial time\n",
    "    x = range(1000)\n",
    "    y = range(1000)\n",
    "    z = [x[i]+y[i] for i in range(len(x))]\n",
    "    return time.time()-t1\n",
    "\n",
    "def using_Numpy():\n",
    "    t1 = time.time() #Starting/Initial time\n",
    "    a = np.arange(100000000)\n",
    "    b = np.arange(100000000)\n",
    "    z = a+b #more convinent than list\n",
    "    return time.time()-t1\n",
    "\n",
    "list_time = using_List()\n",
    "numpy_time = using_Numpy()\n",
    "\n",
    "print(list_time,numpy_time)\n",
    "print(\"In this example Numpy is \"+str(list_time/numpy_time)+\" times faster than a list\")\n",
    "    \n",
    "    "
   ]
  },
  {
   "cell_type": "code",
   "execution_count": null,
   "metadata": {},
   "outputs": [],
   "source": [
    "def cal():\n",
    "    if 2 "
   ]
  }
 ],
 "metadata": {
  "kernelspec": {
   "display_name": "Python 3",
   "language": "python",
   "name": "python3"
  },
  "language_info": {
   "codemirror_mode": {
    "name": "ipython",
    "version": 3
   },
   "file_extension": ".py",
   "mimetype": "text/x-python",
   "name": "python",
   "nbconvert_exporter": "python",
   "pygments_lexer": "ipython3",
   "version": "3.8.3"
  }
 },
 "nbformat": 4,
 "nbformat_minor": 4
}
