{
 "cells": [
  {
   "cell_type": "code",
   "execution_count": 1,
   "metadata": {},
   "outputs": [
    {
     "name": "stdout",
     "output_type": "stream",
     "text": [
      "Numpy Version: 1.18.5\n",
      "[1 2 3 4 5]\n",
      "Data Type: int32\n",
      "Numpy Array shape: (5,)\n",
      "Numpy Array size: 5\n"
     ]
    }
   ],
   "source": [
    "import numpy as np\n",
    "print(\"Numpy Version:\", np.__version__)\n",
    "a = np.array([1, 2, 3, 4, 5])\n",
    "print(a)\n",
    "print(\"Data Type:\", a.dtype)\n",
    "print(\"Numpy Array shape:\", a.shape)\n",
    "print(\"Numpy Array size:\", a.size)"
   ]
  },
  {
   "cell_type": "code",
   "execution_count": 2,
   "metadata": {},
   "outputs": [
    {
     "name": "stdout",
     "output_type": "stream",
     "text": [
      "[[1 2 3]\n",
      " [4 5 6]]\n",
      "Numpy Array shape: (2, 3)\n",
      "Numpy Array size: 6\n"
     ]
    }
   ],
   "source": [
    "import numpy as np\n",
    "a = np.array([[1, 2, 3], [4, 5, 6]])\n",
    "print(a)\n",
    "print(\"Numpy Array shape:\", a.shape)\n",
    "print(\"Numpy Array size:\", a.size)"
   ]
  },
  {
   "cell_type": "code",
   "execution_count": 3,
   "metadata": {
    "scrolled": true
   },
   "outputs": [
    {
     "name": "stdout",
     "output_type": "stream",
     "text": [
      "[[0. 0. 0. 0.]\n",
      " [0. 0. 0. 0.]\n",
      " [0. 0. 0. 0.]]\n",
      "Numpy Array size: 12\n",
      "Data Type: float64\n"
     ]
    }
   ],
   "source": [
    "# Creating an Numpy Array with filled zero.\n",
    "import numpy as np\n",
    "a = np.zeros((3, 4))\n",
    "# a = np.zeroes((rows,columns))\n",
    "print(a)\n",
    "print(\"Numpy Array size:\", a.size)\n",
    "print(\"Data Type:\", a.dtype)"
   ]
  },
  {
   "cell_type": "code",
   "execution_count": 21,
   "metadata": {},
   "outputs": [
    {
     "name": "stdout",
     "output_type": "stream",
     "text": [
      "[0. 0. 0. 0. 0.]\n"
     ]
    }
   ],
   "source": [
    "x = np.zeros(shape=(5))\n",
    "#x = np.zeros(5)\n",
    "print(x)"
   ]
  },
  {
   "cell_type": "code",
   "execution_count": 18,
   "metadata": {},
   "outputs": [
    {
     "name": "stdout",
     "output_type": "stream",
     "text": [
      "[[0. 0. 0. 0.]\n",
      " [0. 0. 0. 0.]\n",
      " [0. 0. 0. 0.]]\n"
     ]
    }
   ],
   "source": [
    "x = np.zeros(shape=(3,4))\n",
    "print(x)"
   ]
  },
  {
   "cell_type": "code",
   "execution_count": 19,
   "metadata": {},
   "outputs": [
    {
     "name": "stdout",
     "output_type": "stream",
     "text": [
      "[[0 0 0 0]\n",
      " [0 0 0 0]\n",
      " [0 0 0 0]]\n"
     ]
    }
   ],
   "source": [
    "x = np.zeros(shape=(3,4), dtype=int)\n",
    "print(x)"
   ]
  },
  {
   "cell_type": "code",
   "execution_count": 4,
   "metadata": {},
   "outputs": [
    {
     "name": "stdout",
     "output_type": "stream",
     "text": [
      "[10 11 12 13 14 15 16 17 18]\n",
      "[10 12 14 16 18]\n"
     ]
    }
   ],
   "source": [
    "import numpy as np\n",
    "a = np.arange(10,19)\n",
    "print(a)\n",
    "\n",
    "b = np.arange(10, 19, 2)\n",
    "print(b)"
   ]
  },
  {
   "cell_type": "code",
   "execution_count": 3,
   "metadata": {},
   "outputs": [
    {
     "name": "stdout",
     "output_type": "stream",
     "text": [
      "[6.   6.06 6.12 6.18 6.24 6.3 ]\n",
      "[2.         4.33333333 6.66666667 9.        ]\n"
     ]
    }
   ],
   "source": [
    "import numpy as np\n",
    "\n",
    "c = np.linspace(6, 6.3, 6)\n",
    "print(c)\n",
    "\n",
    "x = np.linspace(2,9,4)\n",
    "print(x)"
   ]
  },
  {
   "cell_type": "code",
   "execution_count": 2,
   "metadata": {},
   "outputs": [
    {
     "name": "stdout",
     "output_type": "stream",
     "text": [
      "[[5 5 5 5]\n",
      " [5 5 5 5]\n",
      " [5 5 5 5]]\n"
     ]
    }
   ],
   "source": [
    "import numpy as np\n",
    "d = np.full((3, 4), 5)\n",
    "# d =  np.full([3,4],5)\n",
    "print(d)"
   ]
  },
  {
   "cell_type": "code",
   "execution_count": 18,
   "metadata": {},
   "outputs": [
    {
     "name": "stdout",
     "output_type": "stream",
     "text": [
      "[[0.49425045 0.61747867 0.44573464 0.09562772 0.23164    0.87771953]\n",
      " [0.260009   0.6315323  0.35164713 0.94984605 0.16127064 0.42021116]\n",
      " [0.33663254 0.01605446 0.93258701 0.63492012 0.78218692 0.36679697]]\n"
     ]
    }
   ],
   "source": [
    "import numpy as np\n",
    "e = np.random.random((3,6))\n",
    "print(e)"
   ]
  },
  {
   "cell_type": "code",
   "execution_count": 11,
   "metadata": {},
   "outputs": [
    {
     "name": "stdout",
     "output_type": "stream",
     "text": [
      "[11  8  7  6  8 11]\n"
     ]
    }
   ],
   "source": [
    "import numpy as np\n",
    "f = np.random.randint(3,14,6)\n",
    "print(f)"
   ]
  },
  {
   "cell_type": "code",
   "execution_count": 4,
   "metadata": {},
   "outputs": [
    {
     "name": "stdout",
     "output_type": "stream",
     "text": [
      "[[1 2 3 4]\n",
      " [5 6 7 8]]\n"
     ]
    },
    {
     "data": {
      "text/plain": [
       "(2, 4)"
      ]
     },
     "execution_count": 4,
     "metadata": {},
     "output_type": "execute_result"
    }
   ],
   "source": [
    "import numpy as np\n",
    "a = np.array([[1,2,3,4],[5,6,7,8]])\n",
    "print(a)\n",
    "a.shape"
   ]
  },
  {
   "cell_type": "code",
   "execution_count": 8,
   "metadata": {},
   "outputs": [
    {
     "name": "stdout",
     "output_type": "stream",
     "text": [
      "[[1 2]\n",
      " [3 4]\n",
      " [5 6]\n",
      " [7 8]]\n"
     ]
    }
   ],
   "source": [
    "a.shape = (4,2)\n",
    "print(a)\n",
    "# a.shape[0]"
   ]
  },
  {
   "cell_type": "code",
   "execution_count": 7,
   "metadata": {},
   "outputs": [
    {
     "data": {
      "text/plain": [
       "array([[20, 35],\n",
       "       [40, 50]])"
      ]
     },
     "execution_count": 7,
     "metadata": {},
     "output_type": "execute_result"
    }
   ],
   "source": [
    "import numpy as np\n",
    "n1 = np.array([20,35])\n",
    "n2 = np.array([40,50])\n",
    "\n",
    "# stack()\n",
    "np.stack([n1,n2], axis=0)"
   ]
  },
  {
   "cell_type": "code",
   "execution_count": 6,
   "metadata": {},
   "outputs": [
    {
     "data": {
      "text/plain": [
       "array([[20, 40],\n",
       "       [35, 50]])"
      ]
     },
     "execution_count": 6,
     "metadata": {},
     "output_type": "execute_result"
    }
   ],
   "source": [
    "np.stack([n1,n2], axis=1)"
   ]
  },
  {
   "cell_type": "code",
   "execution_count": 8,
   "metadata": {},
   "outputs": [
    {
     "data": {
      "text/plain": [
       "array([[20, 35],\n",
       "       [40, 50]])"
      ]
     },
     "execution_count": 8,
     "metadata": {},
     "output_type": "execute_result"
    }
   ],
   "source": [
    "import numpy as np\n",
    "n1 = np.array([20,35])\n",
    "n2 = np.array([40,50])\n",
    "\n",
    "# vstack()\n",
    "np.vstack([n1,n2])"
   ]
  },
  {
   "cell_type": "code",
   "execution_count": 13,
   "metadata": {},
   "outputs": [
    {
     "data": {
      "text/plain": [
       "array([10, 20, 30, 30, 40, 50])"
      ]
     },
     "execution_count": 13,
     "metadata": {},
     "output_type": "execute_result"
    }
   ],
   "source": [
    "# hstack()\n",
    "np.hstack([n1,n2])"
   ]
  },
  {
   "cell_type": "code",
   "execution_count": 14,
   "metadata": {},
   "outputs": [
    {
     "data": {
      "text/plain": [
       "array([[10, 30],\n",
       "       [20, 40],\n",
       "       [30, 50]])"
      ]
     },
     "execution_count": 14,
     "metadata": {},
     "output_type": "execute_result"
    }
   ],
   "source": [
    "np.column_stack([n1,n2])"
   ]
  },
  {
   "cell_type": "code",
   "execution_count": 15,
   "metadata": {},
   "outputs": [
    {
     "data": {
      "text/plain": [
       "array([24, 25])"
      ]
     },
     "execution_count": 15,
     "metadata": {},
     "output_type": "execute_result"
    }
   ],
   "source": [
    "a = np.arange(24, 26)\n",
    "a"
   ]
  },
  {
   "cell_type": "code",
   "execution_count": 28,
   "metadata": {},
   "outputs": [
    {
     "name": "stdout",
     "output_type": "stream",
     "text": [
      "[]\n",
      "Data Type: float64\n",
      "Numpy Array shape: (0,)\n",
      "Numpy Array size: 0\n",
      "The Dimension: 1\n"
     ]
    }
   ],
   "source": [
    "# Creating an empty Array\n",
    "a = np.array(())\n",
    "print(a)\n",
    "print(\"Data Type:\", a.dtype)\n",
    "print(\"Numpy Array shape:\", a.shape)\n",
    "print(\"Numpy Array size:\", a.size)\n",
    "print(\"The Dimension:\", a.ndim)"
   ]
  },
  {
   "cell_type": "code",
   "execution_count": null,
   "metadata": {},
   "outputs": [],
   "source": []
  }
 ],
 "metadata": {
  "kernelspec": {
   "display_name": "Python 3",
   "language": "python",
   "name": "python3"
  },
  "language_info": {
   "codemirror_mode": {
    "name": "ipython",
    "version": 3
   },
   "file_extension": ".py",
   "mimetype": "text/x-python",
   "name": "python",
   "nbconvert_exporter": "python",
   "pygments_lexer": "ipython3",
   "version": "3.8.3"
  }
 },
 "nbformat": 4,
 "nbformat_minor": 4
}
