{
 "cells": [
  {
   "cell_type": "code",
   "execution_count": 1,
   "metadata": {
    "collapsed": true
   },
   "outputs": [
    {
     "name": "stdout",
     "output_type": "stream",
     "text": [
      "0\n",
      "3\n",
      "6\n",
      "9\n"
     ]
    }
   ],
   "source": [
    "# print 3,6,9\n",
    "x = 0\n",
    "while (x<=10):\n",
    "    print(x)\n",
    "    x = x+3"
   ]
  },
  {
   "cell_type": "code",
   "execution_count": 15,
   "metadata": {
    "collapsed": true
   },
   "outputs": [
    {
     "name": "stdout",
     "output_type": "stream",
     "text": [
      "||\n",
      "---\n",
      "||\n",
      "---\n",
      "||\n",
      "---\n",
      "||\n",
      "---\n",
      "||\n"
     ]
    }
   ],
   "source": [
    "# Print the \n",
    "def parter(x):\n",
    "    for i in range(x):\n",
    "        if (i % 2) ==0:\n",
    "            print(\"||\")\n",
    "        else:\n",
    "            print(\"---\")\n",
    "parter(9)"
   ]
  },
  {
   "cell_type": "code",
   "execution_count": 21,
   "metadata": {
    "collapsed": true
   },
   "outputs": [
    {
     "name": "stdout",
     "output_type": "stream",
     "text": [
      "10\n",
      "9\n",
      "8\n",
      "7\n",
      "6\n",
      "5\n",
      "4\n",
      "3\n",
      "2\n",
      "1\n",
      "0\n"
     ]
    }
   ],
   "source": [
    "x = 10\n",
    "while (x >= 0):\n",
    "    print(x)\n",
    "    x = x -1"
   ]
  },
  {
   "cell_type": "code",
   "execution_count": 11,
   "metadata": {
    "collapsed": true
   },
   "outputs": [
    {
     "name": "stdout",
     "output_type": "stream",
     "text": [
      "99\n",
      "96\n",
      "93\n",
      "90\n",
      "87\n",
      "84\n",
      "81\n",
      "78\n",
      "75\n",
      "72\n",
      "69\n",
      "66\n",
      "63\n",
      "60\n",
      "57\n",
      "54\n",
      "51\n",
      "48\n",
      "45\n",
      "42\n",
      "39\n",
      "36\n",
      "33\n",
      "30\n",
      "27\n",
      "24\n",
      "21\n",
      "18\n",
      "15\n",
      "12\n",
      "9\n",
      "6\n",
      "3\n",
      "0\n"
     ]
    }
   ],
   "source": [
    "x = 99\n",
    "while (x >= 0) :\n",
    "    print(x)\n",
    "    x = x - 3"
   ]
  },
  {
   "cell_type": "code",
   "execution_count": 13,
   "metadata": {},
   "outputs": [
    {
     "data": {
      "text/plain": [
       "array([[1, 2, 3],\n",
       "       [4, 5, 6]])"
      ]
     },
     "execution_count": 13,
     "metadata": {},
     "output_type": "execute_result"
    }
   ],
   "source": [
    "import numpy as np\n",
    "import pandas as pd\n",
    "\n",
    "x = np.array([[1,2,3],[4,5,6]])\n",
    "x"
   ]
  },
  {
   "cell_type": "code",
   "execution_count": 6,
   "metadata": {
    "collapsed": true
   },
   "outputs": [
    {
     "name": "stdout",
     "output_type": "stream",
     "text": [
      "I am printing out: 1\n",
      "I am printing out: 2\n",
      "I am printing out: 3\n",
      "I am printing out: 4\n",
      "I am printing out: 5\n",
      "I am printing out: 6\n",
      "I am printing out: 7\n",
      "I am printing out: 8\n",
      "I am printing out: 9\n",
      "I am printing out: 10\n",
      "I am printing out: 11\n",
      "I am printing out: 12\n",
      "I am printing out: 13\n",
      "I am printing out: 14\n",
      "I am printing out: 15\n",
      "I am printing out: 16\n",
      "I am printing out: 17\n",
      "I am printing out: 18\n",
      "I am printing out: 19\n",
      "I am printing out: 20\n",
      "I am printing out: 21\n",
      "I am printing out: 22\n",
      "I am printing out: 23\n",
      "I am printing out: 24\n",
      "I am printing out: 25\n",
      "I am printing out: 26\n",
      "I am printing out: 27\n",
      "I am printing out: 28\n",
      "I am printing out: 29\n",
      "I am printing out: 30\n",
      "I am printing out: 31\n",
      "I am printing out: 32\n",
      "I am printing out: 33\n",
      "I am printing out: 34\n",
      "I am printing out: 35\n",
      "I am printing out: 36\n",
      "I am printing out: 37\n",
      "I am printing out: 38\n",
      "I am printing out: 39\n"
     ]
    }
   ],
   "source": [
    "for i in range(1,40):\n",
    "    print(\"I am printing out:\",i)\n",
    "    # print(\"I am printing out: {}\".format(i))"
   ]
  },
  {
   "cell_type": "code",
   "execution_count": null,
   "metadata": {},
   "outputs": [],
   "source": []
  }
 ],
 "metadata": {
  "kernelspec": {
   "display_name": "Python 3",
   "language": "python",
   "name": "python3"
  },
  "language_info": {
   "codemirror_mode": {
    "name": "ipython",
    "version": 3
   },
   "file_extension": ".py",
   "mimetype": "text/x-python",
   "name": "python",
   "nbconvert_exporter": "python",
   "pygments_lexer": "ipython3",
   "version": "3.8.3"
  }
 },
 "nbformat": 4,
 "nbformat_minor": 4
}
