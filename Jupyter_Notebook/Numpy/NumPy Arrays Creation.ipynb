{
 "cells": [
  {
   "cell_type": "code",
   "execution_count": 7,
   "metadata": {},
   "outputs": [
    {
     "name": "stdout",
     "output_type": "stream",
     "text": [
      "[1 2 3 4]\n",
      "Typs of Array: <class 'numpy.ndarray'>\n",
      "Data Type: int32\n",
      "Numpy Array shape: (4,)\n",
      "Numpy Array size: 4\n"
     ]
    }
   ],
   "source": [
    "import numpy as np\n",
    "\n",
    "# creating a NumPy Array from a Python List:\n",
    "\n",
    "a = np.array([1,2,3,4])\n",
    "\n",
    "print(a)\n",
    "print(\"Typs of Array:\",type(a))\n",
    "print(\"Data Type:\", a.dtype)\n",
    "print(\"Numpy Array shape:\", a.shape)\n",
    "print(\"Numpy Array size:\", a.size)"
   ]
  },
  {
   "cell_type": "code",
   "execution_count": 38,
   "metadata": {},
   "outputs": [
    {
     "name": "stdout",
     "output_type": "stream",
     "text": [
      "[1 2 3]\n",
      "Typs of Array: <class 'numpy.ndarray'>\n",
      "Data Type: int32\n",
      "Numpy Array shape: (3,)\n",
      "Numpy Array size: 3\n"
     ]
    }
   ],
   "source": [
    "# creating a NumPy Array from a Python Tuple:\n",
    "\n",
    "a = np.array((1,2,3))\n",
    "\n",
    "print(a)\n",
    "print(\"Typs of Array:\",type(a))\n",
    "print(\"Data Type:\", a.dtype)\n",
    "print(\"Numpy Array shape:\", a.shape)\n",
    "print(\"Numpy Array size:\", a.size)"
   ]
  },
  {
   "cell_type": "code",
   "execution_count": 40,
   "metadata": {},
   "outputs": [
    {
     "data": {
      "text/plain": [
       "2"
      ]
     },
     "execution_count": 40,
     "metadata": {},
     "output_type": "execute_result"
    }
   ],
   "source": [
    "a[1]"
   ]
  },
  {
   "cell_type": "code",
   "execution_count": 15,
   "metadata": {},
   "outputs": [
    {
     "name": "stdout",
     "output_type": "stream",
     "text": [
      "{1, 2, 3}\n"
     ]
    }
   ],
   "source": [
    "# creating a NumPy Array from a Python Dict:\n",
    "\n",
    "a = np.array({1,2,3})\n",
    "\n",
    "print(a)"
   ]
  },
  {
   "cell_type": "code",
   "execution_count": 35,
   "metadata": {},
   "outputs": [
    {
     "name": "stdout",
     "output_type": "stream",
     "text": [
      "Data Type: int32\n",
      "Numpy Array shape: (3, 3)\n",
      "Numpy Array size: 9\n",
      "Dimension fo the Array: 2\n"
     ]
    }
   ],
   "source": [
    "import numpy as np\n",
    "a = np.array([[1,2,3],[4,5,6],[7,8,9]])\n",
    "\n",
    "print(\"Data Type:\", a.dtype)\n",
    "print(\"Numpy Array shape:\", a.shape)\n",
    "print(\"Numpy Array size:\", a.size)\n",
    "print(\"Dimension fo the Array:\", a.ndim)"
   ]
  },
  {
   "cell_type": "code",
   "execution_count": 20,
   "metadata": {},
   "outputs": [
    {
     "data": {
      "text/plain": [
       "array([1, 2, 3])"
      ]
     },
     "execution_count": 20,
     "metadata": {},
     "output_type": "execute_result"
    }
   ],
   "source": [
    "# To view the first row\n",
    "a[0]"
   ]
  },
  {
   "cell_type": "code",
   "execution_count": 21,
   "metadata": {},
   "outputs": [
    {
     "data": {
      "text/plain": [
       "array([4, 5, 6])"
      ]
     },
     "execution_count": 21,
     "metadata": {},
     "output_type": "execute_result"
    }
   ],
   "source": [
    "# To view the second row\n",
    "a[1]"
   ]
  },
  {
   "cell_type": "code",
   "execution_count": 23,
   "metadata": {},
   "outputs": [
    {
     "data": {
      "text/plain": [
       "array([7, 8, 9])"
      ]
     },
     "execution_count": 23,
     "metadata": {},
     "output_type": "execute_result"
    }
   ],
   "source": [
    "# To view the third row\n",
    "a[2]"
   ]
  },
  {
   "cell_type": "code",
   "execution_count": 31,
   "metadata": {},
   "outputs": [
    {
     "data": {
      "text/plain": [
       "array([[4, 5, 6],\n",
       "       [7, 8, 9]])"
      ]
     },
     "execution_count": 31,
     "metadata": {},
     "output_type": "execute_result"
    }
   ],
   "source": [
    "# To view the first column\n",
    "a[1:3]"
   ]
  },
  {
   "cell_type": "code",
   "execution_count": null,
   "metadata": {},
   "outputs": [],
   "source": []
  }
 ],
 "metadata": {
  "kernelspec": {
   "display_name": "Python 3",
   "language": "python",
   "name": "python3"
  },
  "language_info": {
   "codemirror_mode": {
    "name": "ipython",
    "version": 3
   },
   "file_extension": ".py",
   "mimetype": "text/x-python",
   "name": "python",
   "nbconvert_exporter": "python",
   "pygments_lexer": "ipython3",
   "version": "3.8.3"
  }
 },
 "nbformat": 4,
 "nbformat_minor": 4
}
