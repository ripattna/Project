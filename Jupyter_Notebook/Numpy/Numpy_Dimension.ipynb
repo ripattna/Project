{
 "cells": [
  {
   "cell_type": "code",
   "execution_count": 31,
   "metadata": {},
   "outputs": [
    {
     "name": "stdout",
     "output_type": "stream",
     "text": [
      "Numpy Version: 1.18.5\n",
      "[1 2 3 4 5]\n",
      "Data Type: int32\n",
      "Numpy Array shape: (5,)\n",
      "Numpy Array size: 5\n",
      "Dimension fo the Array: 1\n"
     ]
    }
   ],
   "source": [
    "import numpy as np\n",
    "print(\"Numpy Version:\", np.__version__)\n",
    "a = np.array([1, 2, 3, 4, 5])\n",
    "print(a)\n",
    "print(\"Data Type:\", a.dtype)\n",
    "print(\"Numpy Array shape:\", a.shape)\n",
    "print(\"Numpy Array size:\", a.size)\n",
    "print(\"Dimension fo the Array:\", a.ndim)"
   ]
  },
  {
   "cell_type": "markdown",
   "metadata": {},
   "source": [
    "# Dimensions in Arrays"
   ]
  },
  {
   "cell_type": "code",
   "execution_count": 8,
   "metadata": {},
   "outputs": [
    {
     "name": "stdout",
     "output_type": "stream",
     "text": [
      "Value of the Array: 42\n",
      "Shape of Array: ()\n",
      "Size of Array: 1\n",
      "Data Type: int32\n",
      "Dimension fo the Array: 0\n"
     ]
    }
   ],
   "source": [
    "# 0-D Arrays\n",
    "import numpy as np\n",
    "x = np.array(42)\n",
    "print(\"Value of the Array:\", x)\n",
    "print(\"Shape of Array:\", x.shape)\n",
    "print(\"Size of Array:\", x.size)\n",
    "print(\"Data Type:\", x.dtype)\n",
    "print(\"Dimension fo the Array:\", x.ndim)"
   ]
  },
  {
   "cell_type": "code",
   "execution_count": 2,
   "metadata": {},
   "outputs": [
    {
     "name": "stdout",
     "output_type": "stream",
     "text": [
      "Value of the Array: [1 2 3 4 5]\n",
      "Shape of Array: (5,)\n",
      "Size of Array: 5\n",
      "Data Type: int32\n",
      "Dimension fo the Array: 1\n"
     ]
    }
   ],
   "source": [
    "# 1-D Arrays\n",
    "import numpy as np\n",
    "x = np.array([1, 2, 3, 4, 5])\n",
    "print(\"Value of the Array:\", x)\n",
    "print(\"Shape of Array:\", x.shape)\n",
    "print(\"Size of Array:\", x.size)\n",
    "print(\"Data Type:\", x.dtype)\n",
    "print(\"Dimension fo the Array:\", x.ndim)"
   ]
  },
  {
   "cell_type": "code",
   "execution_count": 14,
   "metadata": {},
   "outputs": [
    {
     "name": "stdout",
     "output_type": "stream",
     "text": [
      "Value of the array:\n",
      " [[1 2 3]\n",
      " [4 5 6]]\n",
      "Shape of Array: (2, 3)\n",
      "Size of Array: 6\n",
      "Data Type: int32\n",
      "Dimension fo the Array: 2\n"
     ]
    }
   ],
   "source": [
    "# 2-D Arrays\n",
    "import numpy as np\n",
    "x= np.array([[1, 2, 3], [4, 5, 6]])\n",
    "# x= np.array([[1, 2, 3], [4, 5, 6], [7,8,9]])\n",
    "print(\"Value of the array:\\n\", x)\n",
    "print(\"Shape of Array:\", x.shape)\n",
    "print(\"Size of Array:\", x.size)\n",
    "print(\"Data Type:\", x.dtype)\n",
    "print(\"Dimension fo the Array:\", x.ndim)"
   ]
  },
  {
   "cell_type": "code",
   "execution_count": 15,
   "metadata": {},
   "outputs": [
    {
     "name": "stdout",
     "output_type": "stream",
     "text": [
      "Value of the array:\n",
      " [[[1 2 3]\n",
      "  [4 5 6]]\n",
      "\n",
      " [[1 2 3]\n",
      "  [4 5 6]]]\n",
      "Shape of Array: (2, 2, 3)\n",
      "Size of Array: 12\n",
      "Data Type: int32\n",
      "Dimension fo the Array: 3\n"
     ]
    }
   ],
   "source": [
    "# 3-D Arrays\n",
    "x = np.array([[[1, 2, 3], [4, 5, 6]], [[1, 2, 3], [4, 5, 6]]])\n",
    "#= np.array([[[1, 2, 3], [4, 5, 6]],[[1, 2, 3], [4, 5, 6]], [[1, 2, 3], [4, 5, 6]]])\n",
    "print(\"Value of the array:\\n\", x)\n",
    "print(\"Shape of Array:\", x.shape)\n",
    "print(\"Size of Array:\", x.size)\n",
    "print(\"Data Type:\", x.dtype)\n",
    "print(\"Dimension fo the Array:\", x.ndim)"
   ]
  },
  {
   "cell_type": "code",
   "execution_count": null,
   "metadata": {},
   "outputs": [],
   "source": []
  }
 ],
 "metadata": {
  "kernelspec": {
   "display_name": "Python 3",
   "language": "python",
   "name": "python3"
  },
  "language_info": {
   "codemirror_mode": {
    "name": "ipython",
    "version": 3
   },
   "file_extension": ".py",
   "mimetype": "text/x-python",
   "name": "python",
   "nbconvert_exporter": "python",
   "pygments_lexer": "ipython3",
   "version": "3.8.3"
  }
 },
 "nbformat": 4,
 "nbformat_minor": 4
}
