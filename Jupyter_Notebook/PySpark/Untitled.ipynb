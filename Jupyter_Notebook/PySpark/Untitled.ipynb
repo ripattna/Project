{
 "cells": [
  {
   "cell_type": "code",
   "execution_count": 5,
   "id": "1d587b38",
   "metadata": {},
   "outputs": [
    {
     "name": "stdout",
     "output_type": "stream",
     "text": [
      "   Id  Name  Gender  Salary\n",
      "0   1  Mark    Male    8000\n",
      "1   2  John    Male    8000\n",
      "2   3   Pam  Female    5000\n",
      "3   4  Sara  Female    4000\n",
      "4   5  Todd    Male    3500\n",
      "5   6  Mary  Female    6000\n",
      "6   7   Ben    Male    6500\n",
      "7   8  Jodi  Female    4500\n",
      "8   9   Tom    Male    7000\n",
      "9  10   Ron    Male    6800\n",
      "The data type of pdf is:  <class 'pandas.core.frame.DataFrame'>\n"
     ]
    }
   ],
   "source": [
    "import pymysql\n",
    "import pandas as pd\n",
    "\n",
    "# Open database connection\n",
    "dbcon = pymysql.connect(\n",
    "    host=\"localhost\",\n",
    "    user=\"rissan\",\n",
    "    password=\"rissan\",\n",
    "    database=\"demo\")\n",
    "\n",
    "try:\n",
    "    SQL_Query = pd.read_sql_query(\n",
    "        '''select\n",
    "          Id,\n",
    "          Name,\n",
    "          Gender,\n",
    "          Salary\n",
    "          from employee''', dbcon)\n",
    "\n",
    "    pdf = pd.DataFrame(SQL_Query, columns=['Id', 'Name', 'Gender', \"Salary\"])\n",
    "    print(pdf)\n",
    "    print('The data type of pdf is: ', type(pdf))\n",
    "\n",
    "\n",
    "except:\n",
    "    print(\"Error: unable to convert the data\")\n",
    "\n",
    "dbcon.close()\n"
   ]
  },
  {
   "cell_type": "code",
   "execution_count": 6,
   "id": "fc2fd0f8",
   "metadata": {},
   "outputs": [],
   "source": [
    "from pyspark.sql import SparkSession\n",
    "\n",
    "# Creating the SparkSession\n",
    "spark = SparkSession.builder.appName('Test').master(\"local\").getOrCreate()"
   ]
  },
  {
   "cell_type": "code",
   "execution_count": 7,
   "id": "e8e1a165",
   "metadata": {},
   "outputs": [
    {
     "name": "stdout",
     "output_type": "stream",
     "text": [
      "+---+----+------+------+\n",
      "| Id|Name|Gender|Salary|\n",
      "+---+----+------+------+\n",
      "|  1|Mark|  Male|  8000|\n",
      "|  2|John|  Male|  8000|\n",
      "|  3| Pam|Female|  5000|\n",
      "|  4|Sara|Female|  4000|\n",
      "|  5|Todd|  Male|  3500|\n",
      "|  6|Mary|Female|  6000|\n",
      "|  7| Ben|  Male|  6500|\n",
      "|  8|Jodi|Female|  4500|\n",
      "|  9| Tom|  Male|  7000|\n",
      "| 10| Ron|  Male|  6800|\n",
      "+---+----+------+------+\n",
      "\n",
      "The data type of df is:  <class 'pyspark.sql.dataframe.DataFrame'>\n"
     ]
    }
   ],
   "source": [
    "# Create a Spark DataFrame from a Pandas DataFrame\n",
    "\n",
    "df = spark.createDataFrame(pdf)\n",
    "df.show()\n",
    "print('The data type of df is: ', type(df))"
   ]
  },
  {
   "cell_type": "code",
   "execution_count": null,
   "id": "1d913397",
   "metadata": {},
   "outputs": [],
   "source": []
  }
 ],
 "metadata": {
  "kernelspec": {
   "display_name": "Python 3",
   "language": "python",
   "name": "python3"
  },
  "language_info": {
   "codemirror_mode": {
    "name": "ipython",
    "version": 3
   },
   "file_extension": ".py",
   "mimetype": "text/x-python",
   "name": "python",
   "nbconvert_exporter": "python",
   "pygments_lexer": "ipython3",
   "version": "3.8.8"
  }
 },
 "nbformat": 4,
 "nbformat_minor": 5
}
