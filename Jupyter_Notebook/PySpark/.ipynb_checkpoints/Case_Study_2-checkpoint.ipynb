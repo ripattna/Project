{
 "cells": [
  {
   "cell_type": "code",
   "execution_count": null,
   "id": "25573bc3",
   "metadata": {},
   "outputs": [],
   "source": [
    "# Importing the necessary libraries\n",
    "\n",
    "import pyspark\n",
    "import pyspark.sql.functions as F\n",
    "from pyspark.sql import SparkSession,Row\n",
    "from pyspark.sql.functions import max\n",
    "from pyspark.sql.functions import col, lit\n",
    "from pyspark.sql.functions import *\n",
    "from pyspark.sql.functions import broadcast\n",
    "from pyspark.sql.types import StructType, StructField, StringType"
   ]
  },
  {
   "cell_type": "code",
   "execution_count": null,
   "id": "7f0b87a1",
   "metadata": {},
   "outputs": [],
   "source": [
    "# Creating the SparkSession\n",
    "\n",
    "spark = SparkSession \\\n",
    "    .builder \\\n",
    "    .master(\"local\") \\\n",
    "    .appName(\"Case-Study_2\") \\\n",
    "    .getOrCreate()"
   ]
  },
  {
   "cell_type": "code",
   "execution_count": null,
   "id": "9b721115",
   "metadata": {},
   "outputs": [],
   "source": [
    "# Read the CSV file\n",
    "\n",
    "fact = spark.read.format(\"csv\").option(\"header\", \"true\").load(\"C:\\\\BigData\\\\use-case-data-processing-main\\\\fact.csv\")\n",
    "lookup = spark.read.format(\"csv\").option(\"header\", \"true\").load(\"C:\\\\BigData\\\\use-case-data-processing-main\\\\lookup.csv\")"
   ]
  },
  {
   "cell_type": "code",
   "execution_count": null,
   "id": "73ce93ca",
   "metadata": {},
   "outputs": [],
   "source": [
    "# Doing BroadCast Join as a Big-Dataset & Small-Datset is present\n",
    "\n",
    "join_df = fact.join(broadcast(lookup), 'WEB_PAGEID', 'inner').\\\n",
    "    select(\"USER_ID\",\"WEB_PAGEID\",\"VIEW_TIME\",\"WEBPAGE_TYPE\").\\\n",
    "    withColumn(\"DATE_OF_REFERENCE\", to_date(lit('12-10-2019'),'dd-MM-yyyy'))\\\n",
    "\n",
    "# Printing the data\n",
    "join_df.show(5,False)\n",
    "\n",
    "# Printing the Schema\n",
    "join_df.printSchema()"
   ]
  },
  {
   "cell_type": "code",
   "execution_count": null,
   "id": "f1a18a81",
   "metadata": {
    "scrolled": true
   },
   "outputs": [],
   "source": [
    "# Convering View_TIME format to date format('YYYY-MM-DD')\n",
    "# Calculate difference in days between dateofreference()'2019-10-12') and the Invoice_Date\n",
    "\n",
    "df = join_df.withColumn('VIEW_TIME', to_date(unix_timestamp(col('VIEW_TIME'), 'dd/MM/yyyy HH:mm').cast(\"timestamp\")))\\\n",
    "    .withColumn(\"DATE_OF_REFERENCE\", to_date(lit('12-10-2019'),'dd-MM-yyyy'))\\\n",
    "    .withColumn(\"Diff_In_Days\", expr(\"datediff(DATE_OF_REFERENCE, VIEW_TIME)\"))\n",
    "\n",
    "df.show(5, False)\n",
    "df.printSchema()"
   ]
  },
  {
   "cell_type": "code",
   "execution_count": null,
   "id": "724f281a",
   "metadata": {
    "scrolled": true
   },
   "outputs": [],
   "source": [
    "# Calculating the RFM \n",
    "\n",
    "rfm_table = df.groupBy(\"USER_ID\")\\\n",
    "                        .agg(min(\"RecencyDays\").alias(\"Recency\"), \\\n",
    "                             count(\"WEB_PAGEID\").alias(\"Frequency\"))\n",
    "\n",
    "rfm_table.show(5)"
   ]
  },
  {
   "cell_type": "code",
   "execution_count": null,
   "id": "3682b33d",
   "metadata": {},
   "outputs": [],
   "source": [
    "# Create a TempView:\n",
    "\n",
    "df.createOrReplaceTempView(\"records\")"
   ]
  },
  {
   "cell_type": "markdown",
   "id": "01aa6e05",
   "metadata": {},
   "source": [
    "# Calculating 'Frequency'"
   ]
  },
  {
   "cell_type": "markdown",
   "id": "72318be5",
   "metadata": {},
   "source": [
    "# NEWS PAGE_TYPE"
   ]
  },
  {
   "cell_type": "code",
   "execution_count": null,
   "id": "bc162e2d",
   "metadata": {},
   "outputs": [],
   "source": [
    "# timewindow=365  \n",
    "\n",
    "fre_news_365 = spark.sql(\"select USER_ID,count(WEB_PAGEID) as pageview_news_fre_365 from records where WEBPAGE_TYPE = 'news' and RecencyDays < '365' group by USER_ID\")\n",
    "fre_news_365.show(5)"
   ]
  },
  {
   "cell_type": "code",
   "execution_count": null,
   "id": "223e1024",
   "metadata": {},
   "outputs": [],
   "source": [
    "# timewindow=730 \n",
    "\n",
    "fre_news_730 = spark.sql(\"select USER_ID,count(WEB_PAGEID) as pageview_news_fre_730 from records where WEBPAGE_TYPE = 'news' and RecencyDays between '365' and '730' group by USER_ID\")\n",
    "fre_news_730.show(5)"
   ]
  },
  {
   "cell_type": "code",
   "execution_count": null,
   "id": "9b72e7cc",
   "metadata": {},
   "outputs": [],
   "source": [
    "# Join fre_news_365 vs fre_news_730\n",
    "\n",
    "fre_news_join_df1 = fre_news_365.join(fre_news_730, 'USER_ID', 'outer').na.fill(0)\n",
    "fre_news_join_df1.show(5)"
   ]
  },
  {
   "cell_type": "code",
   "execution_count": null,
   "id": "1ae29862",
   "metadata": {
    "scrolled": true
   },
   "outputs": [],
   "source": [
    "# timewindow=1430\n",
    "\n",
    "fre_news_1460 = spark.sql(\"select USER_ID,count(WEB_PAGEID) as pageview_news_fre_1460 from records where WEBPAGE_TYPE = 'news' and RecencyDays between '730' and '1460' group by USER_ID\")\n",
    "fre_news_1460.show(5)"
   ]
  },
  {
   "cell_type": "code",
   "execution_count": null,
   "id": "e112d11a",
   "metadata": {},
   "outputs": [],
   "source": [
    "fre_news_2920 = spark.sql(\"select USER_ID,count(WEB_PAGEID) as pageview_news_fre_2920 from records where WEBPAGE_TYPE = 'news' and RecencyDays between '1460' and '2920' group by USER_ID\")\n",
    "fre_news_2920.show(5)"
   ]
  },
  {
   "cell_type": "code",
   "execution_count": null,
   "id": "baa327d4",
   "metadata": {},
   "outputs": [],
   "source": [
    "# Join fre_news_1460 vs fre_news_2920\n",
    "\n",
    "fre_news_join_df2 = fre_news_1460.join(fre_news_2920, 'USER_ID', 'outer').na.fill(0)\n",
    "fre_news_join_df2.show(5,False)"
   ]
  },
  {
   "cell_type": "code",
   "execution_count": null,
   "id": "37ac1fec",
   "metadata": {},
   "outputs": [],
   "source": [
    "# Final NEWS_frequncy dataset\n",
    "\n",
    "# Join fre_join_df1 vs fre_join_df2\n",
    "\n",
    "fre_news_df = fre_news_join_df1.join(fre_news_join_df2, 'USER_ID', 'outer').na.fill(0) \n",
    "\n",
    "fre_news_df.show(5)"
   ]
  },
  {
   "cell_type": "markdown",
   "id": "4a90299e",
   "metadata": {},
   "source": [
    "# Movie PAGE_TYPE"
   ]
  },
  {
   "cell_type": "code",
   "execution_count": null,
   "id": "693d7829",
   "metadata": {},
   "outputs": [],
   "source": [
    "# Movie_365\n",
    "\n",
    "fre_movies_365 = spark.sql(\"select USER_ID,count(WEB_PAGEID) as pageview_movies_fre_365 from records where WEBPAGE_TYPE = 'movies' and RecencyDays < '365' group by USER_ID\")\n",
    "fre_movies_365.show(5)"
   ]
  },
  {
   "cell_type": "code",
   "execution_count": null,
   "id": "c8a421d0",
   "metadata": {},
   "outputs": [],
   "source": [
    "# Movie_730\n",
    "\n",
    "fre_movies_730 = spark.sql(\"select USER_ID,count(WEB_PAGEID) as pageview_movies_fre_730 from records where WEBPAGE_TYPE = 'movies' and RecencyDays between '365' and '730' group by USER_ID\")\n",
    "fre_movies_730.show(5)"
   ]
  },
  {
   "cell_type": "code",
   "execution_count": null,
   "id": "3c6e4be8",
   "metadata": {},
   "outputs": [],
   "source": [
    "# Join fre_movies_365 vs fre_movies_730\n",
    "\n",
    "fre_movies_join_df1 = fre_movies_365.join(fre_movies_730, 'USER_ID', 'outer').na.fill(0)\n",
    "fre_movies_join_df1.show(5)"
   ]
  },
  {
   "cell_type": "code",
   "execution_count": null,
   "id": "8586a03e",
   "metadata": {},
   "outputs": [],
   "source": [
    "# Movie_1430\n",
    "\n",
    "fre_movies_1460 = spark.sql(\"select USER_ID,count(WEB_PAGEID) as pageview_movies_fre_1460 from records where WEBPAGE_TYPE = 'movies' and RecencyDays between '730' and '1460' group by USER_ID\")\n",
    "fre_movies_1460.show(5)"
   ]
  },
  {
   "cell_type": "code",
   "execution_count": null,
   "id": "091cf9ba",
   "metadata": {},
   "outputs": [],
   "source": [
    "# Movie_2920\n",
    "\n",
    "fre_movies_2920 = spark.sql(\"select USER_ID,count(WEB_PAGEID) as pageview_movies_fre_2920 from records where WEBPAGE_TYPE = 'movies' and RecencyDays between '1460' and '2920' group by USER_ID\")\n",
    "fre_movies_2920.show(5)"
   ]
  },
  {
   "cell_type": "code",
   "execution_count": null,
   "id": "c9c99bfe",
   "metadata": {},
   "outputs": [],
   "source": [
    "# Join fre_movies_1460 vs fre_movies_2920\n",
    "\n",
    "fre_movies_join_df2 = fre_movies_1460.join(fre_movies_2920, 'USER_ID', 'outer').na.fill(0)\n",
    "fre_movies_join_df2.show(5)"
   ]
  },
  {
   "cell_type": "code",
   "execution_count": null,
   "id": "2513f6b5",
   "metadata": {
    "scrolled": true
   },
   "outputs": [],
   "source": [
    "# Final MOVIES_freruency dataset\n",
    "\n",
    "# Join fre_join_df1 vs fre_join_df2\n",
    "\n",
    "fre_movies_df = fre_movies_join_df1.join(fre_movies_join_df2, 'USER_ID', 'outer').na.fill(0) \n",
    "fre_movies_df.show(5)"
   ]
  },
  {
   "cell_type": "markdown",
   "id": "09fdf7da",
   "metadata": {},
   "source": [
    "# Final 'FREQUENCY' Dataset"
   ]
  },
  {
   "cell_type": "code",
   "execution_count": null,
   "id": "ab69a087",
   "metadata": {},
   "outputs": [],
   "source": [
    "# Final \"FREQUENCY\" Dataset\n",
    "\n",
    "fre_df = fre_news_df.join(fre_movies_df, 'USER_ID', 'outer').na.fill(0) \n",
    "fre_df.limit(5).toPandas().head()"
   ]
  },
  {
   "cell_type": "markdown",
   "id": "864d3a98",
   "metadata": {},
   "source": [
    "# Recency"
   ]
  },
  {
   "cell_type": "code",
   "execution_count": null,
   "id": "3ef789ee",
   "metadata": {},
   "outputs": [],
   "source": [
    "# pageview_news_rec\n",
    "\n",
    "pageview_news_rec = spark.sql(\"select USER_ID,min(RecencyDays) as pageview_news_rec from records where WEBPAGE_TYPE = 'news' group by USER_ID\")\n",
    "pageview_news_rec.show(5)"
   ]
  },
  {
   "cell_type": "code",
   "execution_count": null,
   "id": "214bf49a",
   "metadata": {},
   "outputs": [],
   "source": [
    "# pageview_movies_rec\n",
    "\n",
    "pageview_movies_rec = spark.sql(\"select USER_ID,min(RecencyDays) as pageview_movies_rec from records where WEBPAGE_TYPE = 'movies' group by USER_ID\")\n",
    "pageview_movies_rec.show(5)"
   ]
  },
  {
   "cell_type": "code",
   "execution_count": null,
   "id": "0de26a52",
   "metadata": {
    "scrolled": true
   },
   "outputs": [],
   "source": [
    "# Final Recency Dataset\n",
    "\n",
    "rec_df = pageview_news_rec.join(pageview_movies_rec, 'USER_ID', 'outer').na.fill(0) \n",
    "\n",
    "rec_df.show(5)"
   ]
  },
  {
   "cell_type": "markdown",
   "id": "770c65e1",
   "metadata": {},
   "source": [
    "# 'Recency' & 'Frequency' Dataset"
   ]
  },
  {
   "cell_type": "code",
   "execution_count": null,
   "id": "e95b176a",
   "metadata": {},
   "outputs": [],
   "source": [
    "final_df = fre_df.join(rec_df, 'USER_ID', 'outer').na.fill(0) \n",
    "final_df.limit(5).toPandas().head()"
   ]
  },
  {
   "cell_type": "markdown",
   "id": "82c89dba",
   "metadata": {},
   "source": [
    "# Final DataSet"
   ]
  },
  {
   "cell_type": "code",
   "execution_count": null,
   "id": "6b544199",
   "metadata": {},
   "outputs": [],
   "source": [
    "main_df = final_df.join(rfm_table, 'USER_ID', 'outer').na.fill(0)\n",
    "main_df.limit(5).toPandas().head()"
   ]
  }
 ],
 "metadata": {
  "kernelspec": {
   "display_name": "Python 3",
   "language": "python",
   "name": "python3"
  },
  "language_info": {
   "codemirror_mode": {
    "name": "ipython",
    "version": 3
   },
   "file_extension": ".py",
   "mimetype": "text/x-python",
   "name": "python",
   "nbconvert_exporter": "python",
   "pygments_lexer": "ipython3",
   "version": "3.8.8"
  }
 },
 "nbformat": 4,
 "nbformat_minor": 5
}
