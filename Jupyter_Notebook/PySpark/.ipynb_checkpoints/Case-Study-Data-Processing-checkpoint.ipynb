{
 "cells": [
  {
   "cell_type": "code",
   "execution_count": 1,
   "id": "294edf08",
   "metadata": {},
   "outputs": [],
   "source": [
    "import pyspark\n",
    "import pyspark.sql.functions as F\n",
    "from pyspark.sql import SparkSession,Row\n",
    "from pyspark.sql.functions import max\n",
    "from pyspark.sql.functions import col, lit\n",
    "from pyspark.sql.functions import *\n",
    "from pyspark.sql.functions import broadcast\n",
    "from pyspark.sql.types import StructType, StructField, StringType"
   ]
  },
  {
   "cell_type": "code",
   "execution_count": 2,
   "id": "1433b2ea",
   "metadata": {},
   "outputs": [],
   "source": [
    "# Creating the SparkSession\n",
    "\n",
    "spark = SparkSession \\\n",
    "    .builder \\\n",
    "    .master(\"local\") \\\n",
    "    .appName(\"Case-Study-Data-Processing\") \\\n",
    "    .getOrCreate()\n",
    "\n",
    "spark.conf.set(\"spark.sql.repl.eagerEval.enabled\", True)\n",
    "spark.conf.set(\"spark.sql.execution.arrow.pyspark.enabled\", \"true\")"
   ]
  },
  {
   "cell_type": "code",
   "execution_count": 3,
   "id": "0abb1067",
   "metadata": {},
   "outputs": [],
   "source": [
    "# Read the Csv file\n",
    "\n",
    "fact_data = spark.read.format(\"csv\").option(\"header\", \"true\").load(\"C:\\\\BigData\\\\use-case-data-processing-main\\\\fact.csv\")\n",
    "lookup_data = spark.read.format(\"csv\").option(\"header\", \"true\").load(\"C:\\\\BigData\\\\use-case-data-processing-main\\\\lookup.csv\")"
   ]
  },
  {
   "cell_type": "code",
   "execution_count": 4,
   "id": "c011f3d3",
   "metadata": {
    "scrolled": true
   },
   "outputs": [
    {
     "name": "stdout",
     "output_type": "stream",
     "text": [
      "+---------+----------------+----------+------------+\n",
      "|USER_ID  |VIEW_TIME       |WEB_PAGEID|WEBPAGE_TYPE|\n",
      "+---------+----------------+----------+------------+\n",
      "|149977241|10/02/2016 18:54|3740865072|news        |\n",
      "|142413313|21/01/2016 16:10|3621915402|news        |\n",
      "|142413313|21/01/2016 16:20|3621915402|news        |\n",
      "|142413313|21/01/2016 16:00|3621915402|news        |\n",
      "|112797679|12/04/2016 13:05|2276268225|news        |\n",
      "+---------+----------------+----------+------------+\n",
      "only showing top 5 rows\n",
      "\n"
     ]
    }
   ],
   "source": [
    "# Doing BroadCast Join As One Big Data Set and One Small DatSet is present\n",
    "\n",
    "join_data = fact_data.join(broadcast(lookup_data), fact_data.WEB_PAGEID == lookup_data.WEB_PAGEID, \"inner\").drop(lookup_data.WEB_PAGEID)\n",
    "join_data.show(5,False)"
   ]
  },
  {
   "cell_type": "code",
   "execution_count": 5,
   "id": "0a891df6",
   "metadata": {},
   "outputs": [
    {
     "name": "stdout",
     "output_type": "stream",
     "text": [
      "+---------+----------------+----------+------------+----------+\n",
      "|USER_ID  |VIEW_TIME       |WEB_PAGEID|WEBPAGE_TYPE|Date_S    |\n",
      "+---------+----------------+----------+------------+----------+\n",
      "|149977241|10/02/2016 18:54|3740865072|news        |10/02/2016|\n",
      "|142413313|21/01/2016 16:10|3621915402|news        |21/01/2016|\n",
      "|142413313|21/01/2016 16:20|3621915402|news        |21/01/2016|\n",
      "|142413313|21/01/2016 16:00|3621915402|news        |21/01/2016|\n",
      "|112797679|12/04/2016 13:05|2276268225|news        |12/04/2016|\n",
      "+---------+----------------+----------+------------+----------+\n",
      "only showing top 5 rows\n",
      "\n",
      "root\n",
      " |-- USER_ID: string (nullable = true)\n",
      " |-- VIEW_TIME: string (nullable = true)\n",
      " |-- WEB_PAGEID: string (nullable = true)\n",
      " |-- WEBPAGE_TYPE: string (nullable = true)\n",
      " |-- Date_S: string (nullable = true)\n",
      "\n"
     ]
    }
   ],
   "source": [
    "# Convering View_TIME format to 'DD/MM/YYYY' in Column(Data_S)\n",
    "\n",
    "new_data = join_data.withColumn('Date_S',from_unixtime(unix_timestamp(join_data[\"VIEW_TIME\"],'dd/MM/yyyy mm:ss'),'dd/MM/yyyy'))\n",
    "new_data.show(5,False)\n",
    "new_data.printSchema()"
   ]
  },
  {
   "cell_type": "code",
   "execution_count": 6,
   "id": "1e19e2d5",
   "metadata": {},
   "outputs": [
    {
     "name": "stdout",
     "output_type": "stream",
     "text": [
      "+---------+----------------+----------+------------+----------+\n",
      "|USER_ID  |VIEW_TIME       |WEB_PAGEID|WEBPAGE_TYPE|Date      |\n",
      "+---------+----------------+----------+------------+----------+\n",
      "|149977241|10/02/2016 18:54|3740865072|news        |2016-02-10|\n",
      "|142413313|21/01/2016 16:10|3621915402|news        |2016-01-21|\n",
      "|142413313|21/01/2016 16:20|3621915402|news        |2016-01-21|\n",
      "|142413313|21/01/2016 16:00|3621915402|news        |2016-01-21|\n",
      "|112797679|12/04/2016 13:05|2276268225|news        |2016-04-12|\n",
      "+---------+----------------+----------+------------+----------+\n",
      "only showing top 5 rows\n",
      "\n",
      "root\n",
      " |-- USER_ID: string (nullable = true)\n",
      " |-- VIEW_TIME: string (nullable = true)\n",
      " |-- WEB_PAGEID: string (nullable = true)\n",
      " |-- WEBPAGE_TYPE: string (nullable = true)\n",
      " |-- Date: date (nullable = true)\n",
      "\n"
     ]
    }
   ],
   "source": [
    "# Convering Data_S from String datatype to Date format in Date field.\n",
    "\n",
    "data = new_data.withColumn('Date_S',from_unixtime(unix_timestamp(new_data[\"VIEW_TIME\"],'dd/MM/yyyy mm:ss'),'dd/MM/yyyy')) \\\n",
    ".select(col(\"USER_ID\"),(\"VIEW_TIME\"),(\"WEB_PAGEID\"),(\"WEBPAGE_TYPE\"),to_date(col(\"Date_S\"),'dd/MM/yyyy').alias(\"Date\")) \n",
    "\n",
    "data.show(5,False)\n",
    "data.printSchema()"
   ]
  },
  {
   "cell_type": "code",
   "execution_count": 7,
   "id": "4d462344",
   "metadata": {},
   "outputs": [
    {
     "name": "stdout",
     "output_type": "stream",
     "text": [
      "+---------+----------------+----------+------------+----------+-----------+\n",
      "|USER_ID  |VIEW_TIME       |WEB_PAGEID|WEBPAGE_TYPE|Date      |RecencyDays|\n",
      "+---------+----------------+----------+------------+----------+-----------+\n",
      "|149977241|10/02/2016 18:54|3740865072|news        |2016-02-10|1340       |\n",
      "|142413313|21/01/2016 16:10|3621915402|news        |2016-01-21|1360       |\n",
      "|142413313|21/01/2016 16:20|3621915402|news        |2016-01-21|1360       |\n",
      "|142413313|21/01/2016 16:00|3621915402|news        |2016-01-21|1360       |\n",
      "|112797679|12/04/2016 13:05|2276268225|news        |2016-04-12|1278       |\n",
      "+---------+----------------+----------+------------+----------+-----------+\n",
      "only showing top 5 rows\n",
      "\n"
     ]
    }
   ],
   "source": [
    "# Calculate difference in days between 2011-12-31 and the Invoice Date\n",
    "\n",
    "data = data.withColumn(\"RecencyDays\", expr(\"datediff('2019-10-12', Date)\"))\n",
    "\n",
    "data.show(5,False)\n",
    "\n",
    "# data.select('USER_ID').distinct().count()"
   ]
  },
  {
   "cell_type": "code",
   "execution_count": 8,
   "id": "4cd0d678",
   "metadata": {},
   "outputs": [
    {
     "name": "stdout",
     "output_type": "stream",
     "text": [
      "+----------+-------+---------+\n",
      "|   USER_ID|Recency|Frequency|\n",
      "+----------+-------+---------+\n",
      "|  98343030|    932|        3|\n",
      "|  59736608|    914|        2|\n",
      "| 115056661|   1336|        1|\n",
      "|  88602347|   1259|        1|\n",
      "| 162690170|   1263|        1|\n",
      "| 169469168|   1263|        1|\n",
      "| 167725829|   1280|        1|\n",
      "| 264289612|   1009|        2|\n",
      "| 191712149|   1263|        1|\n",
      "|-247361411|    705|        3|\n",
      "|  66612057|   1263|        1|\n",
      "|    788539|   1170|        1|\n",
      "|   8856308|   1282|        1|\n",
      "| 171211230|   1262|        1|\n",
      "| 159147772|   1308|        2|\n",
      "| 161303572|   1263|        1|\n",
      "|  78741118|   1349|        2|\n",
      "|  55620801|   1313|        1|\n",
      "| 159348322|   1262|        1|\n",
      "|  96024291|   1361|        1|\n",
      "+----------+-------+---------+\n",
      "only showing top 20 rows\n",
      "\n"
     ]
    }
   ],
   "source": [
    "rfm_table = data.groupBy(\"USER_ID\")\\\n",
    "                        .agg(min(\"RecencyDays\").alias(\"Recency\"), \\\n",
    "                             count(\"WEB_PAGEID\").alias(\"Frequency\"))\n",
    "\n",
    "rfm_table.show()"
   ]
  },
  {
   "cell_type": "code",
   "execution_count": 9,
   "id": "3e3513e0",
   "metadata": {},
   "outputs": [],
   "source": [
    "# Create a TempView:\n",
    "\n",
    "data.createOrReplaceTempView(\"records\")"
   ]
  },
  {
   "cell_type": "markdown",
   "id": "191ec743",
   "metadata": {},
   "source": [
    "# NEWS PAGE_TYPE"
   ]
  },
  {
   "cell_type": "code",
   "execution_count": 10,
   "id": "84015948",
   "metadata": {},
   "outputs": [
    {
     "name": "stdout",
     "output_type": "stream",
     "text": [
      "+---------------------+\n",
      "|pageview_news_rec_365|\n",
      "+---------------------+\n",
      "|                   65|\n",
      "+---------------------+\n",
      "\n"
     ]
    }
   ],
   "source": [
    "# pageview_news_rec_365\n",
    "\n",
    "pageview_news_rec_365 = spark.sql(\"select count(WEB_PAGEID) as pageview_news_rec_365 from records where WEBPAGE_TYPE = 'news' and RecencyDays < '365'\")\n",
    "pageview_news_rec_365.show()"
   ]
  },
  {
   "cell_type": "code",
   "execution_count": 11,
   "id": "3dc060ee",
   "metadata": {},
   "outputs": [
    {
     "name": "stdout",
     "output_type": "stream",
     "text": [
      "+----------+---------------------+\n",
      "|   USER_ID|pageview_news_rec_365|\n",
      "+----------+---------------------+\n",
      "| -69271739|                    1|\n",
      "|-133621877|                    1|\n",
      "| 157684212|                    1|\n",
      "|-285299518|                    1|\n",
      "|-277209141|                    3|\n",
      "|-151394098|                    3|\n",
      "| 250009214|                    1|\n",
      "| -73385561|                    1|\n",
      "|  78585170|                    1|\n",
      "|-163187677|                    3|\n",
      "|-167528374|                   49|\n",
      "+----------+---------------------+\n",
      "\n"
     ]
    },
    {
     "data": {
      "text/plain": [
       "11"
      ]
     },
     "execution_count": 11,
     "metadata": {},
     "output_type": "execute_result"
    }
   ],
   "source": [
    "# pageview_news_rec_365\n",
    "\n",
    "news_365 = spark.sql(\"select USER_ID,count(*) as pageview_news_rec_365 from records where WEBPAGE_TYPE = 'news' and RecencyDays < '365' group by USER_ID\")\n",
    "news_365.show(11)\n",
    "news_365.count()"
   ]
  },
  {
   "cell_type": "code",
   "execution_count": 12,
   "id": "d4c983f7",
   "metadata": {},
   "outputs": [
    {
     "name": "stdout",
     "output_type": "stream",
     "text": [
      "+---------------------+\n",
      "|pageview_news_rec_730|\n",
      "+---------------------+\n",
      "|                   35|\n",
      "+---------------------+\n",
      "\n"
     ]
    }
   ],
   "source": [
    "# pageview_news_rec_730\n",
    "\n",
    "pageview_news_rec_365 = spark.sql(\"select count(WEB_PAGEID) as pageview_news_rec_730 from records where WEBPAGE_TYPE = 'news' and RecencyDays between '365' and '730'\")\n",
    "pageview_news_rec_365.show()"
   ]
  },
  {
   "cell_type": "code",
   "execution_count": 13,
   "id": "68016df3",
   "metadata": {},
   "outputs": [
    {
     "name": "stdout",
     "output_type": "stream",
     "text": [
      "+----------+---------------------+\n",
      "|   USER_ID|pageview_news_rec_730|\n",
      "+----------+---------------------+\n",
      "|-247361411|                    3|\n",
      "|-231838278|                    1|\n",
      "|-252290668|                    2|\n",
      "| 155111993|                    1|\n",
      "|  24160260|                    2|\n",
      "+----------+---------------------+\n",
      "only showing top 5 rows\n",
      "\n"
     ]
    },
    {
     "data": {
      "text/plain": [
       "24"
      ]
     },
     "execution_count": 13,
     "metadata": {},
     "output_type": "execute_result"
    }
   ],
   "source": [
    "news_730 = spark.sql(\"select USER_ID,count(*) as pageview_news_rec_730 from records where WEBPAGE_TYPE = 'news' and RecencyDays between '365' and '730' group by USER_ID\")\n",
    "news_730.show(5)\n",
    "news_730.count()"
   ]
  },
  {
   "cell_type": "code",
   "execution_count": 14,
   "id": "6294c717",
   "metadata": {},
   "outputs": [
    {
     "name": "stdout",
     "output_type": "stream",
     "text": [
      "+----------+---------------------+---------------------+\n",
      "|USER_ID   |pageview_news_rec_730|pageview_news_rec_365|\n",
      "+----------+---------------------+---------------------+\n",
      "|-247361411|3                    |0                    |\n",
      "|-231838278|1                    |0                    |\n",
      "|-252290668|2                    |0                    |\n",
      "|-69271739 |0                    |1                    |\n",
      "|-133621877|0                    |1                    |\n",
      "+----------+---------------------+---------------------+\n",
      "only showing top 5 rows\n",
      "\n"
     ]
    },
    {
     "data": {
      "text/plain": [
       "35"
      ]
     },
     "execution_count": 14,
     "metadata": {},
     "output_type": "execute_result"
    }
   ],
   "source": [
    "# Join news_365 vs news_730\n",
    "join_df1 = news_730.join(news_365, 'USER_ID', 'outer').na.fill(0)\n",
    "join_df1.show(5,truncate=False)\n",
    "join_df1.count()"
   ]
  },
  {
   "cell_type": "code",
   "execution_count": 15,
   "id": "8205862d",
   "metadata": {},
   "outputs": [
    {
     "name": "stdout",
     "output_type": "stream",
     "text": [
      "+----------------------+\n",
      "|pageview_news_rec_1460|\n",
      "+----------------------+\n",
      "|                   874|\n",
      "+----------------------+\n",
      "\n"
     ]
    }
   ],
   "source": [
    "# pageview_news_rec_1460\n",
    "\n",
    "pageview_news_rec_1460 = spark.sql(\"select count(WEB_PAGEID) as pageview_news_rec_1460 from records where WEBPAGE_TYPE = 'news' and RecencyDays between '730' and '1460'\")\n",
    "pageview_news_rec_1460.show()"
   ]
  },
  {
   "cell_type": "code",
   "execution_count": 16,
   "id": "200e161e",
   "metadata": {
    "scrolled": false
   },
   "outputs": [
    {
     "name": "stdout",
     "output_type": "stream",
     "text": [
      "+---------+----------------------+\n",
      "|  USER_ID|pageview_news_rec_1460|\n",
      "+---------+----------------------+\n",
      "| 98343030|                     3|\n",
      "| 59736608|                     2|\n",
      "|115056661|                     1|\n",
      "|162690170|                     1|\n",
      "|169469168|                     1|\n",
      "+---------+----------------------+\n",
      "only showing top 5 rows\n",
      "\n"
     ]
    },
    {
     "data": {
      "text/plain": [
       "746"
      ]
     },
     "execution_count": 16,
     "metadata": {},
     "output_type": "execute_result"
    }
   ],
   "source": [
    "news_1460 = spark.sql(\"select USER_ID,count(*) as pageview_news_rec_1460 from records where WEBPAGE_TYPE = 'news' and RecencyDays between '730' and '1460' group by USER_ID\")\n",
    "news_1460.show(5)\n",
    "news_1460.count()"
   ]
  },
  {
   "cell_type": "code",
   "execution_count": 17,
   "id": "25b29ea4",
   "metadata": {},
   "outputs": [
    {
     "name": "stdout",
     "output_type": "stream",
     "text": [
      "+----------------------+\n",
      "|pageview_news_rec_2920|\n",
      "+----------------------+\n",
      "|                     0|\n",
      "+----------------------+\n",
      "\n"
     ]
    }
   ],
   "source": [
    "# pageview_news_rec_2920\n",
    "\n",
    "pageview_news_rec_2920 = spark.sql(\"select count(WEB_PAGEID) as pageview_news_rec_2920 from records where WEBPAGE_TYPE = 'news' and RecencyDays between '1460' and '2920'\")\n",
    "pageview_news_rec_2920.show()"
   ]
  },
  {
   "cell_type": "code",
   "execution_count": 18,
   "id": "39d810eb",
   "metadata": {},
   "outputs": [
    {
     "name": "stdout",
     "output_type": "stream",
     "text": [
      "+-------+----------------------+\n",
      "|USER_ID|pageview_news_rec_2920|\n",
      "+-------+----------------------+\n",
      "+-------+----------------------+\n",
      "\n"
     ]
    },
    {
     "data": {
      "text/plain": [
       "0"
      ]
     },
     "execution_count": 18,
     "metadata": {},
     "output_type": "execute_result"
    }
   ],
   "source": [
    "news_2920 = spark.sql(\"select USER_ID,count(*) as pageview_news_rec_2920 from records where WEBPAGE_TYPE = 'news' and RecencyDays between '1460' and '2920' group by USER_ID\")\n",
    "news_2920.show(5)\n",
    "news_2920.count()"
   ]
  },
  {
   "cell_type": "code",
   "execution_count": 19,
   "id": "3dc6cc9e",
   "metadata": {},
   "outputs": [
    {
     "name": "stdout",
     "output_type": "stream",
     "text": [
      "+---------+----------------------+----------------------+\n",
      "|USER_ID  |pageview_news_rec_2920|pageview_news_rec_1460|\n",
      "+---------+----------------------+----------------------+\n",
      "|98343030 |0                     |3                     |\n",
      "|115056661|0                     |1                     |\n",
      "|59736608 |0                     |2                     |\n",
      "|162690170|0                     |1                     |\n",
      "|167725829|0                     |1                     |\n",
      "+---------+----------------------+----------------------+\n",
      "only showing top 5 rows\n",
      "\n"
     ]
    },
    {
     "data": {
      "text/plain": [
       "746"
      ]
     },
     "execution_count": 19,
     "metadata": {},
     "output_type": "execute_result"
    }
   ],
   "source": [
    "# Join news_1460 vs news_2920\n",
    "\n",
    "join_df2 = news_2920.join(news_1460, 'USER_ID', 'outer').na.fill(0)\n",
    "join_df2.show(5,truncate=False)\n",
    "join_df2.count()"
   ]
  },
  {
   "cell_type": "code",
   "execution_count": 20,
   "id": "b8e32050",
   "metadata": {},
   "outputs": [
    {
     "name": "stdout",
     "output_type": "stream",
     "text": [
      "+---------+---------------------+---------------------+----------------------+----------------------+\n",
      "|  USER_ID|pageview_news_rec_365|pageview_news_rec_730|pageview_news_rec_1460|pageview_news_rec_2920|\n",
      "+---------+---------------------+---------------------+----------------------+----------------------+\n",
      "| 98343030|                    0|                    0|                     3|                     0|\n",
      "|115056661|                    0|                    0|                     1|                     0|\n",
      "| 59736608|                    0|                    0|                     2|                     0|\n",
      "|162690170|                    0|                    0|                     1|                     0|\n",
      "|167725829|                    0|                    0|                     1|                     0|\n",
      "+---------+---------------------+---------------------+----------------------+----------------------+\n",
      "only showing top 5 rows\n",
      "\n"
     ]
    }
   ],
   "source": [
    "# Join join_df1 vs join_df2\n",
    "\n",
    "news_df = join_df1.join(join_df2, 'USER_ID', 'outer').drop(join_df2.USER_ID).na.fill(0) \\\n",
    ".select(\"USER_ID\",\"pageview_news_rec_365\",\"pageview_news_rec_730\",\"pageview_news_rec_1460\",\"pageview_news_rec_2920\")\n",
    "\n",
    "news_df.show(5)"
   ]
  },
  {
   "cell_type": "markdown",
   "id": "3a18cbd1",
   "metadata": {},
   "source": [
    "# MOVIES PAGE_TYPE"
   ]
  },
  {
   "cell_type": "code",
   "execution_count": 21,
   "id": "ff789e1c",
   "metadata": {},
   "outputs": [
    {
     "name": "stdout",
     "output_type": "stream",
     "text": [
      "+-----------------------+\n",
      "|pageview_movies_rec_365|\n",
      "+-----------------------+\n",
      "|                      0|\n",
      "+-----------------------+\n",
      "\n"
     ]
    }
   ],
   "source": [
    "# pageview_movies_rec_365\n",
    "\n",
    "# data.createOrReplaceTempView(\"records\")\n",
    "\n",
    "pageview_movies_rec_365 = spark.sql(\"select count(WEB_PAGEID) as pageview_movies_rec_365 from records where WEBPAGE_TYPE = 'movies' and RecencyDays < '365'\")\n",
    "pageview_movies_rec_365.show()"
   ]
  },
  {
   "cell_type": "code",
   "execution_count": 22,
   "id": "98103dfc",
   "metadata": {},
   "outputs": [
    {
     "name": "stdout",
     "output_type": "stream",
     "text": [
      "+-------+-----------------------+\n",
      "|USER_ID|pageview_movies_rec_365|\n",
      "+-------+-----------------------+\n",
      "+-------+-----------------------+\n",
      "\n"
     ]
    },
    {
     "data": {
      "text/plain": [
       "0"
      ]
     },
     "execution_count": 22,
     "metadata": {},
     "output_type": "execute_result"
    }
   ],
   "source": [
    "# pageview_movies_rec_365\n",
    "\n",
    "movies_365 = spark.sql(\"select USER_ID,count(*) as pageview_movies_rec_365 from records where WEBPAGE_TYPE = 'movies' and RecencyDays < '365' group by USER_ID\")\n",
    "movies_365.show(11)\n",
    "movies_365.count()"
   ]
  },
  {
   "cell_type": "code",
   "execution_count": 23,
   "id": "ed92cbb7",
   "metadata": {
    "scrolled": true
   },
   "outputs": [
    {
     "name": "stdout",
     "output_type": "stream",
     "text": [
      "+-----------------------+\n",
      "|pageview_movies_rec_730|\n",
      "+-----------------------+\n",
      "|                      0|\n",
      "+-----------------------+\n",
      "\n"
     ]
    }
   ],
   "source": [
    "# pageview_news_rec_730\n",
    "\n",
    "pageview_movies_rec_730 = spark.sql(\"select count(WEB_PAGEID) as pageview_movies_rec_730 from records where WEBPAGE_TYPE = 'movies' and RecencyDays between '365' and '730'\")\n",
    "pageview_movies_rec_730.show()"
   ]
  },
  {
   "cell_type": "code",
   "execution_count": 24,
   "id": "9fbfe0fb",
   "metadata": {},
   "outputs": [
    {
     "name": "stdout",
     "output_type": "stream",
     "text": [
      "+-------+-----------------------+\n",
      "|USER_ID|pageview_movies_rec_730|\n",
      "+-------+-----------------------+\n",
      "+-------+-----------------------+\n",
      "\n"
     ]
    },
    {
     "data": {
      "text/plain": [
       "0"
      ]
     },
     "execution_count": 24,
     "metadata": {},
     "output_type": "execute_result"
    }
   ],
   "source": [
    "movies_730 = spark.sql(\"select USER_ID,count(*) as pageview_movies_rec_730 from records where WEBPAGE_TYPE = 'movies' and RecencyDays between '365' and '730' group by USER_ID\")\n",
    "movies_730.show(5)\n",
    "movies_730.count()"
   ]
  },
  {
   "cell_type": "code",
   "execution_count": 25,
   "id": "37aa1ebc",
   "metadata": {},
   "outputs": [
    {
     "name": "stdout",
     "output_type": "stream",
     "text": [
      "+-------+-----------------------+-----------------------+\n",
      "|USER_ID|pageview_movies_rec_730|pageview_movies_rec_365|\n",
      "+-------+-----------------------+-----------------------+\n",
      "+-------+-----------------------+-----------------------+\n",
      "\n"
     ]
    },
    {
     "data": {
      "text/plain": [
       "0"
      ]
     },
     "execution_count": 25,
     "metadata": {},
     "output_type": "execute_result"
    }
   ],
   "source": [
    "# Join movies_365 vs movies_730\n",
    "\n",
    "join_df3 = movies_730.join(movies_365, 'USER_ID', 'outer').na.fill(0)\n",
    "join_df3.show(5,truncate=False)\n",
    "join_df3.count()"
   ]
  },
  {
   "cell_type": "code",
   "execution_count": 26,
   "id": "9a1a6385",
   "metadata": {},
   "outputs": [
    {
     "name": "stdout",
     "output_type": "stream",
     "text": [
      "+------------------------+\n",
      "|pageview_movies_rec_1460|\n",
      "+------------------------+\n",
      "|                      26|\n",
      "+------------------------+\n",
      "\n"
     ]
    }
   ],
   "source": [
    "# pageview_movies_rec_1460\n",
    "\n",
    "pageview_movies_rec_1460 = spark.sql(\"select count(WEB_PAGEID) as pageview_movies_rec_1460 from records where WEBPAGE_TYPE = 'movies' and RecencyDays between '730' and '1460'\")\n",
    "pageview_movies_rec_1460.show()"
   ]
  },
  {
   "cell_type": "code",
   "execution_count": 27,
   "id": "4864e6d4",
   "metadata": {},
   "outputs": [
    {
     "name": "stdout",
     "output_type": "stream",
     "text": [
      "+---------+------------------------+\n",
      "|  USER_ID|pageview_movies_rec_1460|\n",
      "+---------+------------------------+\n",
      "| 88602347|                       1|\n",
      "| 78741118|                       2|\n",
      "| 30317072|                       1|\n",
      "|197002823|                       1|\n",
      "|115544304|                       1|\n",
      "+---------+------------------------+\n",
      "only showing top 5 rows\n",
      "\n"
     ]
    },
    {
     "data": {
      "text/plain": [
       "18"
      ]
     },
     "execution_count": 27,
     "metadata": {},
     "output_type": "execute_result"
    }
   ],
   "source": [
    "movies_1460 = spark.sql(\"select USER_ID,count(*) as pageview_movies_rec_1460 from records where WEBPAGE_TYPE = 'movies' and RecencyDays between '730' and '1460' group by USER_ID\")\n",
    "movies_1460.show(5)\n",
    "movies_1460.count()"
   ]
  },
  {
   "cell_type": "code",
   "execution_count": 28,
   "id": "0ab493d7",
   "metadata": {},
   "outputs": [
    {
     "name": "stdout",
     "output_type": "stream",
     "text": [
      "+------------------------+\n",
      "|pageview_movies_rec_2920|\n",
      "+------------------------+\n",
      "|                       0|\n",
      "+------------------------+\n",
      "\n"
     ]
    }
   ],
   "source": [
    "# pageview_movies_rec_2920\n",
    "\n",
    "pageview_movies_rec_2920 = spark.sql(\"select count(WEB_PAGEID) as pageview_movies_rec_2920 from records where WEBPAGE_TYPE = 'movies' and RecencyDays between '1460' and '2920'\")\n",
    "pageview_movies_rec_2920.show()"
   ]
  },
  {
   "cell_type": "code",
   "execution_count": 29,
   "id": "7f27b35f",
   "metadata": {},
   "outputs": [
    {
     "name": "stdout",
     "output_type": "stream",
     "text": [
      "+-------+------------------------+\n",
      "|USER_ID|pageview_movies_rec_2920|\n",
      "+-------+------------------------+\n",
      "+-------+------------------------+\n",
      "\n"
     ]
    },
    {
     "data": {
      "text/plain": [
       "0"
      ]
     },
     "execution_count": 29,
     "metadata": {},
     "output_type": "execute_result"
    }
   ],
   "source": [
    "movies_2920 = spark.sql(\"select USER_ID,count(*) as pageview_movies_rec_2920 from records where WEBPAGE_TYPE = 'movies' and RecencyDays between '1460' and '2920' group by USER_ID\")\n",
    "movies_2920.show(5)\n",
    "movies_2920.count()"
   ]
  },
  {
   "cell_type": "code",
   "execution_count": 30,
   "id": "dbea96fb",
   "metadata": {},
   "outputs": [
    {
     "name": "stdout",
     "output_type": "stream",
     "text": [
      "+---------+------------------------+------------------------+\n",
      "|USER_ID  |pageview_movies_rec_2920|pageview_movies_rec_1460|\n",
      "+---------+------------------------+------------------------+\n",
      "|88602347 |0                       |1                       |\n",
      "|78741118 |0                       |2                       |\n",
      "|30317072 |0                       |1                       |\n",
      "|197002823|0                       |1                       |\n",
      "|115544304|0                       |1                       |\n",
      "+---------+------------------------+------------------------+\n",
      "only showing top 5 rows\n",
      "\n"
     ]
    },
    {
     "data": {
      "text/plain": [
       "18"
      ]
     },
     "execution_count": 30,
     "metadata": {},
     "output_type": "execute_result"
    }
   ],
   "source": [
    "# Join movies_1460 vs movies_2920\n",
    "\n",
    "join_df4 = movies_2920.join(movies_1460, 'USER_ID', \"outer\").na.fill(0)\n",
    "join_df4.show(5,truncate=False)\n",
    "join_df4.count()"
   ]
  },
  {
   "cell_type": "code",
   "execution_count": 31,
   "id": "8dbb4ec8",
   "metadata": {
    "scrolled": true
   },
   "outputs": [
    {
     "name": "stdout",
     "output_type": "stream",
     "text": [
      "+---------+-----------------------+-----------------------+------------------------+------------------------+\n",
      "|  USER_ID|pageview_movies_rec_365|pageview_movies_rec_730|pageview_movies_rec_1460|pageview_movies_rec_2920|\n",
      "+---------+-----------------------+-----------------------+------------------------+------------------------+\n",
      "| 88602347|                      0|                      0|                       1|                       0|\n",
      "| 78741118|                      0|                      0|                       2|                       0|\n",
      "| 30317072|                      0|                      0|                       1|                       0|\n",
      "|197002823|                      0|                      0|                       1|                       0|\n",
      "|115544304|                      0|                      0|                       1|                       0|\n",
      "+---------+-----------------------+-----------------------+------------------------+------------------------+\n",
      "only showing top 5 rows\n",
      "\n"
     ]
    }
   ],
   "source": [
    "# Join join_df3 vs join_df4\n",
    "\n",
    "movie_df = join_df3.join(join_df4, 'USER_ID', 'outer').na.fill(0) \\\n",
    ".select(\"USER_ID\",\"pageview_movies_rec_365\",\"pageview_movies_rec_730\",\"pageview_movies_rec_1460\",\"pageview_movies_rec_2920\")\n",
    "\n",
    "movie_df.show(5)"
   ]
  },
  {
   "cell_type": "markdown",
   "id": "91b77ef8",
   "metadata": {},
   "source": [
    "# Final 'Dur' DataSet"
   ]
  },
  {
   "cell_type": "code",
   "execution_count": 32,
   "id": "a4734a1a",
   "metadata": {
    "scrolled": false
   },
   "outputs": [
    {
     "data": {
      "text/html": [
       "<div>\n",
       "<style scoped>\n",
       "    .dataframe tbody tr th:only-of-type {\n",
       "        vertical-align: middle;\n",
       "    }\n",
       "\n",
       "    .dataframe tbody tr th {\n",
       "        vertical-align: top;\n",
       "    }\n",
       "\n",
       "    .dataframe thead th {\n",
       "        text-align: right;\n",
       "    }\n",
       "</style>\n",
       "<table border=\"1\" class=\"dataframe\">\n",
       "  <thead>\n",
       "    <tr style=\"text-align: right;\">\n",
       "      <th></th>\n",
       "      <th>USER_ID</th>\n",
       "      <th>pageview_news_rec_365</th>\n",
       "      <th>pageview_news_rec_730</th>\n",
       "      <th>pageview_news_rec_1460</th>\n",
       "      <th>pageview_news_rec_2920</th>\n",
       "      <th>pageview_movies_rec_365</th>\n",
       "      <th>pageview_movies_rec_730</th>\n",
       "      <th>pageview_movies_rec_1460</th>\n",
       "      <th>pageview_movies_rec_2920</th>\n",
       "    </tr>\n",
       "  </thead>\n",
       "  <tbody>\n",
       "    <tr>\n",
       "      <th>0</th>\n",
       "      <td>98343030</td>\n",
       "      <td>0</td>\n",
       "      <td>0</td>\n",
       "      <td>3</td>\n",
       "      <td>0</td>\n",
       "      <td>0</td>\n",
       "      <td>0</td>\n",
       "      <td>0</td>\n",
       "      <td>0</td>\n",
       "    </tr>\n",
       "    <tr>\n",
       "      <th>1</th>\n",
       "      <td>115056661</td>\n",
       "      <td>0</td>\n",
       "      <td>0</td>\n",
       "      <td>1</td>\n",
       "      <td>0</td>\n",
       "      <td>0</td>\n",
       "      <td>0</td>\n",
       "      <td>0</td>\n",
       "      <td>0</td>\n",
       "    </tr>\n",
       "    <tr>\n",
       "      <th>2</th>\n",
       "      <td>59736608</td>\n",
       "      <td>0</td>\n",
       "      <td>0</td>\n",
       "      <td>2</td>\n",
       "      <td>0</td>\n",
       "      <td>0</td>\n",
       "      <td>0</td>\n",
       "      <td>0</td>\n",
       "      <td>0</td>\n",
       "    </tr>\n",
       "    <tr>\n",
       "      <th>3</th>\n",
       "      <td>88602347</td>\n",
       "      <td>0</td>\n",
       "      <td>0</td>\n",
       "      <td>0</td>\n",
       "      <td>0</td>\n",
       "      <td>0</td>\n",
       "      <td>0</td>\n",
       "      <td>1</td>\n",
       "      <td>0</td>\n",
       "    </tr>\n",
       "    <tr>\n",
       "      <th>4</th>\n",
       "      <td>162690170</td>\n",
       "      <td>0</td>\n",
       "      <td>0</td>\n",
       "      <td>1</td>\n",
       "      <td>0</td>\n",
       "      <td>0</td>\n",
       "      <td>0</td>\n",
       "      <td>0</td>\n",
       "      <td>0</td>\n",
       "    </tr>\n",
       "  </tbody>\n",
       "</table>\n",
       "</div>"
      ],
      "text/plain": [
       "     USER_ID  pageview_news_rec_365  pageview_news_rec_730  \\\n",
       "0   98343030                      0                      0   \n",
       "1  115056661                      0                      0   \n",
       "2   59736608                      0                      0   \n",
       "3   88602347                      0                      0   \n",
       "4  162690170                      0                      0   \n",
       "\n",
       "   pageview_news_rec_1460  pageview_news_rec_2920  pageview_movies_rec_365  \\\n",
       "0                       3                       0                        0   \n",
       "1                       1                       0                        0   \n",
       "2                       2                       0                        0   \n",
       "3                       0                       0                        0   \n",
       "4                       1                       0                        0   \n",
       "\n",
       "   pageview_movies_rec_730  pageview_movies_rec_1460  pageview_movies_rec_2920  \n",
       "0                        0                         0                         0  \n",
       "1                        0                         0                         0  \n",
       "2                        0                         0                         0  \n",
       "3                        0                         1                         0  \n",
       "4                        0                         0                         0  "
      ]
     },
     "execution_count": 32,
     "metadata": {},
     "output_type": "execute_result"
    }
   ],
   "source": [
    "# Joining Movie_df vs News_df\n",
    "\n",
    "result_df = news_df.join(movie_df, 'USER_ID', 'outer').na.fill(0) \\\n",
    "# select(\"USER_ID\",\"pageview_news_rec_365\",\"pageview_news_rec_730\",\"pageview_news_rec_1460\",\"pageview_news_rec_2920\",\"pageview_movies_rec_365\",\"pageview_movies_rec_730\",\"pageview_movies_rec_1460\",\"pageview_movies_rec_2920\")\n",
    "\n",
    "result_df.limit(5).toPandas().head()"
   ]
  },
  {
   "cell_type": "markdown",
   "id": "7295d830",
   "metadata": {},
   "source": [
    "# Calculating 'Fre'"
   ]
  },
  {
   "cell_type": "markdown",
   "id": "89b7887b",
   "metadata": {},
   "source": [
    "# NEWS PAGE_TYPE"
   ]
  },
  {
   "cell_type": "code",
   "execution_count": 59,
   "id": "171073bb",
   "metadata": {
    "scrolled": true
   },
   "outputs": [
    {
     "name": "stdout",
     "output_type": "stream",
     "text": [
      "+----------+---------------------+\n",
      "|   USER_ID|pageview_news_fre_365|\n",
      "+----------+---------------------+\n",
      "| -69271739|                    1|\n",
      "|-133621877|                    1|\n",
      "| 157684212|                    1|\n",
      "|-285299518|                    1|\n",
      "|-277209141|                    3|\n",
      "+----------+---------------------+\n",
      "only showing top 5 rows\n",
      "\n"
     ]
    },
    {
     "data": {
      "text/plain": [
       "11"
      ]
     },
     "execution_count": 59,
     "metadata": {},
     "output_type": "execute_result"
    }
   ],
   "source": [
    "fre_news_365 = spark.sql(\"select USER_ID,count(WEB_PAGEID) as pageview_news_fre_365 from records where WEBPAGE_TYPE = 'news' and RecencyDays < '365' group by USER_ID\")\n",
    "fre_news_365.show(5)\n",
    "fre_news_365.count()"
   ]
  },
  {
   "cell_type": "code",
   "execution_count": 48,
   "id": "463a6b92",
   "metadata": {
    "scrolled": true
   },
   "outputs": [
    {
     "name": "stdout",
     "output_type": "stream",
     "text": [
      "+----------+---------------------+\n",
      "|   USER_ID|pageview_news_fre_730|\n",
      "+----------+---------------------+\n",
      "|-247361411|                    3|\n",
      "|-231838278|                    1|\n",
      "|-252290668|                    2|\n",
      "| 155111993|                    1|\n",
      "|  24160260|                    2|\n",
      "+----------+---------------------+\n",
      "only showing top 5 rows\n",
      "\n"
     ]
    },
    {
     "data": {
      "text/plain": [
       "24"
      ]
     },
     "execution_count": 48,
     "metadata": {},
     "output_type": "execute_result"
    }
   ],
   "source": [
    "fre_news_730 = spark.sql(\"select USER_ID,count(WEB_PAGEID) as pageview_news_fre_730 from records where WEBPAGE_TYPE = 'news' and RecencyDays between '365' and '730' group by USER_ID\")\n",
    "fre_news_730.show(5)\n",
    "fre_news_730.count()"
   ]
  },
  {
   "cell_type": "code",
   "execution_count": 69,
   "id": "f7ffd8cf",
   "metadata": {},
   "outputs": [
    {
     "name": "stdout",
     "output_type": "stream",
     "text": [
      "+----------+---------------------+---------------------+\n",
      "|USER_ID   |pageview_news_fre_365|pageview_news_fre_730|\n",
      "+----------+---------------------+---------------------+\n",
      "|-247361411|0                    |3                    |\n",
      "|-231838278|0                    |1                    |\n",
      "|-252290668|0                    |2                    |\n",
      "|-69271739 |1                    |0                    |\n",
      "|-133621877|1                    |0                    |\n",
      "+----------+---------------------+---------------------+\n",
      "only showing top 5 rows\n",
      "\n"
     ]
    },
    {
     "data": {
      "text/plain": [
       "35"
      ]
     },
     "execution_count": 69,
     "metadata": {},
     "output_type": "execute_result"
    }
   ],
   "source": [
    "# Join news_365 vs news_730\n",
    "\n",
    "fre_join_df1 = fre_news_365.join(fre_news_730, 'USER_ID', 'outer').na.fill(0)\n",
    "fre_join_df1.show(5)\n",
    "fre_join_df1.count()"
   ]
  },
  {
   "cell_type": "code",
   "execution_count": 65,
   "id": "c23e40f3",
   "metadata": {},
   "outputs": [
    {
     "name": "stdout",
     "output_type": "stream",
     "text": [
      "+---------+----------------------+\n",
      "|  USER_ID|pageview_news_fre_1460|\n",
      "+---------+----------------------+\n",
      "| 98343030|                     3|\n",
      "| 59736608|                     2|\n",
      "|115056661|                     1|\n",
      "|162690170|                     1|\n",
      "|169469168|                     1|\n",
      "+---------+----------------------+\n",
      "only showing top 5 rows\n",
      "\n"
     ]
    },
    {
     "data": {
      "text/plain": [
       "746"
      ]
     },
     "execution_count": 65,
     "metadata": {},
     "output_type": "execute_result"
    }
   ],
   "source": [
    "fre_news_1460 = spark.sql(\"select USER_ID,count(WEB_PAGEID) as pageview_news_fre_1460 from records where WEBPAGE_TYPE = 'news' and RecencyDays between '730' and '1460' group by USER_ID\")\n",
    "fre_news_1460.show(5)\n",
    "fre_news_1460.count()"
   ]
  },
  {
   "cell_type": "code",
   "execution_count": 66,
   "id": "1497455e",
   "metadata": {},
   "outputs": [
    {
     "name": "stdout",
     "output_type": "stream",
     "text": [
      "+-------+----------------------+\n",
      "|USER_ID|pageview_news_fre_2920|\n",
      "+-------+----------------------+\n",
      "+-------+----------------------+\n",
      "\n"
     ]
    },
    {
     "data": {
      "text/plain": [
       "0"
      ]
     },
     "execution_count": 66,
     "metadata": {},
     "output_type": "execute_result"
    }
   ],
   "source": [
    "fre_news_2920 = spark.sql(\"select USER_ID,count(WEB_PAGEID) as pageview_news_fre_2920 from records where WEBPAGE_TYPE = 'news' and RecencyDays between '1460' and '2920' group by USER_ID\")\n",
    "fre_news_2920.show(5)\n",
    "fre_news_2920.count()"
   ]
  },
  {
   "cell_type": "code",
   "execution_count": 67,
   "id": "96935cdc",
   "metadata": {},
   "outputs": [
    {
     "name": "stdout",
     "output_type": "stream",
     "text": [
      "+---------+----------------------+----------------------+\n",
      "|USER_ID  |pageview_news_fre_1460|pageview_news_fre_2920|\n",
      "+---------+----------------------+----------------------+\n",
      "|98343030 |3                     |0                     |\n",
      "|115056661|1                     |0                     |\n",
      "|59736608 |2                     |0                     |\n",
      "|162690170|1                     |0                     |\n",
      "|167725829|1                     |0                     |\n",
      "+---------+----------------------+----------------------+\n",
      "only showing top 5 rows\n",
      "\n"
     ]
    },
    {
     "data": {
      "text/plain": [
       "746"
      ]
     },
     "execution_count": 67,
     "metadata": {},
     "output_type": "execute_result"
    }
   ],
   "source": [
    "# Join fre_news_1460 vs fre_news_2920\n",
    "\n",
    "fre_join_df2 = fre_news_1460.join(fre_news_2920, 'USER_ID', 'outer').na.fill(0)\n",
    "fre_join_df2.show(5,truncate=False)\n",
    "fre_join_df2.count()"
   ]
  },
  {
   "cell_type": "code",
   "execution_count": 70,
   "id": "18e1ee89",
   "metadata": {},
   "outputs": [
    {
     "name": "stdout",
     "output_type": "stream",
     "text": [
      "+---------+---------------------+---------------------+----------------------+----------------------+\n",
      "|  USER_ID|pageview_news_fre_365|pageview_news_fre_730|pageview_news_fre_1460|pageview_news_fre_2920|\n",
      "+---------+---------------------+---------------------+----------------------+----------------------+\n",
      "| 98343030|                    0|                    0|                     3|                     0|\n",
      "|115056661|                    0|                    0|                     1|                     0|\n",
      "| 59736608|                    0|                    0|                     2|                     0|\n",
      "|162690170|                    0|                    0|                     1|                     0|\n",
      "|167725829|                    0|                    0|                     1|                     0|\n",
      "+---------+---------------------+---------------------+----------------------+----------------------+\n",
      "only showing top 5 rows\n",
      "\n"
     ]
    }
   ],
   "source": [
    "# Join fre_join_df1 vs fre_join_df2\n",
    "\n",
    "fre_news_df = fre_join_df1.join(fre_join_df2, 'USER_ID', 'outer').drop(join_df2.USER_ID).na.fill(0) \n",
    "\n",
    "fre_news_df.show(5)"
   ]
  },
  {
   "cell_type": "markdown",
   "id": "effb4d74",
   "metadata": {},
   "source": [
    "# Movie PAGE_TYPE"
   ]
  },
  {
   "cell_type": "code",
   "execution_count": 72,
   "id": "0d43231c",
   "metadata": {},
   "outputs": [
    {
     "name": "stdout",
     "output_type": "stream",
     "text": [
      "+-------+-----------------------+\n",
      "|USER_ID|pageview_movies_fre_365|\n",
      "+-------+-----------------------+\n",
      "+-------+-----------------------+\n",
      "\n"
     ]
    },
    {
     "data": {
      "text/plain": [
       "0"
      ]
     },
     "execution_count": 72,
     "metadata": {},
     "output_type": "execute_result"
    }
   ],
   "source": [
    "fre_movies_365 = spark.sql(\"select USER_ID,count(WEB_PAGEID) as pageview_movies_fre_365 from records where WEBPAGE_TYPE = 'movies' and RecencyDays < '365' group by USER_ID\")\n",
    "fre_movies_365.show(5)\n",
    "fre_movies_365.count()"
   ]
  },
  {
   "cell_type": "code",
   "execution_count": 74,
   "id": "0c52d048",
   "metadata": {},
   "outputs": [
    {
     "name": "stdout",
     "output_type": "stream",
     "text": [
      "+-------+-----------------------+\n",
      "|USER_ID|pageview_movies_fre_365|\n",
      "+-------+-----------------------+\n",
      "+-------+-----------------------+\n",
      "\n"
     ]
    },
    {
     "data": {
      "text/plain": [
       "0"
      ]
     },
     "execution_count": 74,
     "metadata": {},
     "output_type": "execute_result"
    }
   ],
   "source": [
    "fre_movies_730 = spark.sql(\"select USER_ID,count(WEB_PAGEID) as pageview_movies_fre_365 from records where WEBPAGE_TYPE = 'movies' and RecencyDays between '365' and '730' group by USER_ID\")\n",
    "fre_movies_730.show(5)\n",
    "fre_movies_730.count()"
   ]
  },
  {
   "cell_type": "code",
   "execution_count": 75,
   "id": "bfc3c810",
   "metadata": {},
   "outputs": [
    {
     "name": "stdout",
     "output_type": "stream",
     "text": [
      "+---------+-----------------------+\n",
      "|  USER_ID|pageview_movies_fre_365|\n",
      "+---------+-----------------------+\n",
      "| 88602347|                      1|\n",
      "| 78741118|                      2|\n",
      "| 30317072|                      1|\n",
      "|197002823|                      1|\n",
      "|115544304|                      1|\n",
      "+---------+-----------------------+\n",
      "only showing top 5 rows\n",
      "\n"
     ]
    },
    {
     "data": {
      "text/plain": [
       "18"
      ]
     },
     "execution_count": 75,
     "metadata": {},
     "output_type": "execute_result"
    }
   ],
   "source": [
    "fre_movies_1460 = spark.sql(\"select USER_ID,count(WEB_PAGEID) as pageview_movies_fre_365 from records where WEBPAGE_TYPE = 'movies' and RecencyDays between '730' and '1460' group by USER_ID\")\n",
    "fre_movies_1460.show(5)\n",
    "fre_movies_1460.count()"
   ]
  },
  {
   "cell_type": "code",
   "execution_count": 76,
   "id": "28cb7cda",
   "metadata": {},
   "outputs": [
    {
     "name": "stdout",
     "output_type": "stream",
     "text": [
      "+-------+-----------------------+\n",
      "|USER_ID|pageview_movies_fre_365|\n",
      "+-------+-----------------------+\n",
      "+-------+-----------------------+\n",
      "\n"
     ]
    },
    {
     "data": {
      "text/plain": [
       "0"
      ]
     },
     "execution_count": 76,
     "metadata": {},
     "output_type": "execute_result"
    }
   ],
   "source": [
    "fre_movies_2920 = spark.sql(\"select USER_ID,count(WEB_PAGEID) as pageview_movies_fre_365 from records where WEBPAGE_TYPE = 'movies' and RecencyDays between '1460' and '2920' group by USER_ID\")\n",
    "fre_movies_2920.show(5)\n",
    "fre_movies_2920.count()"
   ]
  },
  {
   "cell_type": "code",
   "execution_count": null,
   "id": "37d03d66",
   "metadata": {},
   "outputs": [],
   "source": [
    "# Join movies_1460 vs movies_2920\n",
    "\n",
    "join_df4 = movies_2920.join(movies_1460, 'USER_ID', \"outer\").na.fill(0)\n",
    "join_df4.show(5,truncate=False)\n",
    "join_df4.count()"
   ]
  },
  {
   "cell_type": "markdown",
   "id": "37d8dc01",
   "metadata": {},
   "source": [
    "# Final DataSet"
   ]
  },
  {
   "cell_type": "code",
   "execution_count": 33,
   "id": "f9e299fc",
   "metadata": {},
   "outputs": [
    {
     "data": {
      "text/html": [
       "<div>\n",
       "<style scoped>\n",
       "    .dataframe tbody tr th:only-of-type {\n",
       "        vertical-align: middle;\n",
       "    }\n",
       "\n",
       "    .dataframe tbody tr th {\n",
       "        vertical-align: top;\n",
       "    }\n",
       "\n",
       "    .dataframe thead th {\n",
       "        text-align: right;\n",
       "    }\n",
       "</style>\n",
       "<table border=\"1\" class=\"dataframe\">\n",
       "  <thead>\n",
       "    <tr style=\"text-align: right;\">\n",
       "      <th></th>\n",
       "      <th>USER_ID</th>\n",
       "      <th>Recency</th>\n",
       "      <th>Frequency</th>\n",
       "      <th>pageview_news_rec_365</th>\n",
       "      <th>pageview_news_rec_730</th>\n",
       "      <th>pageview_news_rec_1460</th>\n",
       "      <th>pageview_news_rec_2920</th>\n",
       "      <th>pageview_movies_rec_365</th>\n",
       "      <th>pageview_movies_rec_730</th>\n",
       "      <th>pageview_movies_rec_1460</th>\n",
       "      <th>pageview_movies_rec_2920</th>\n",
       "    </tr>\n",
       "  </thead>\n",
       "  <tbody>\n",
       "    <tr>\n",
       "      <th>0</th>\n",
       "      <td>98343030</td>\n",
       "      <td>932</td>\n",
       "      <td>3</td>\n",
       "      <td>0</td>\n",
       "      <td>0</td>\n",
       "      <td>3</td>\n",
       "      <td>0</td>\n",
       "      <td>0</td>\n",
       "      <td>0</td>\n",
       "      <td>0</td>\n",
       "      <td>0</td>\n",
       "    </tr>\n",
       "    <tr>\n",
       "      <th>1</th>\n",
       "      <td>115056661</td>\n",
       "      <td>1336</td>\n",
       "      <td>1</td>\n",
       "      <td>0</td>\n",
       "      <td>0</td>\n",
       "      <td>1</td>\n",
       "      <td>0</td>\n",
       "      <td>0</td>\n",
       "      <td>0</td>\n",
       "      <td>0</td>\n",
       "      <td>0</td>\n",
       "    </tr>\n",
       "    <tr>\n",
       "      <th>2</th>\n",
       "      <td>59736608</td>\n",
       "      <td>914</td>\n",
       "      <td>2</td>\n",
       "      <td>0</td>\n",
       "      <td>0</td>\n",
       "      <td>2</td>\n",
       "      <td>0</td>\n",
       "      <td>0</td>\n",
       "      <td>0</td>\n",
       "      <td>0</td>\n",
       "      <td>0</td>\n",
       "    </tr>\n",
       "    <tr>\n",
       "      <th>3</th>\n",
       "      <td>88602347</td>\n",
       "      <td>1259</td>\n",
       "      <td>1</td>\n",
       "      <td>0</td>\n",
       "      <td>0</td>\n",
       "      <td>0</td>\n",
       "      <td>0</td>\n",
       "      <td>0</td>\n",
       "      <td>0</td>\n",
       "      <td>1</td>\n",
       "      <td>0</td>\n",
       "    </tr>\n",
       "    <tr>\n",
       "      <th>4</th>\n",
       "      <td>162690170</td>\n",
       "      <td>1263</td>\n",
       "      <td>1</td>\n",
       "      <td>0</td>\n",
       "      <td>0</td>\n",
       "      <td>1</td>\n",
       "      <td>0</td>\n",
       "      <td>0</td>\n",
       "      <td>0</td>\n",
       "      <td>0</td>\n",
       "      <td>0</td>\n",
       "    </tr>\n",
       "  </tbody>\n",
       "</table>\n",
       "</div>"
      ],
      "text/plain": [
       "     USER_ID  Recency  Frequency  pageview_news_rec_365  \\\n",
       "0   98343030      932          3                      0   \n",
       "1  115056661     1336          1                      0   \n",
       "2   59736608      914          2                      0   \n",
       "3   88602347     1259          1                      0   \n",
       "4  162690170     1263          1                      0   \n",
       "\n",
       "   pageview_news_rec_730  pageview_news_rec_1460  pageview_news_rec_2920  \\\n",
       "0                      0                       3                       0   \n",
       "1                      0                       1                       0   \n",
       "2                      0                       2                       0   \n",
       "3                      0                       0                       0   \n",
       "4                      0                       1                       0   \n",
       "\n",
       "   pageview_movies_rec_365  pageview_movies_rec_730  pageview_movies_rec_1460  \\\n",
       "0                        0                        0                         0   \n",
       "1                        0                        0                         0   \n",
       "2                        0                        0                         0   \n",
       "3                        0                        0                         1   \n",
       "4                        0                        0                         0   \n",
       "\n",
       "   pageview_movies_rec_2920  \n",
       "0                         0  \n",
       "1                         0  \n",
       "2                         0  \n",
       "3                         0  \n",
       "4                         0  "
      ]
     },
     "execution_count": 33,
     "metadata": {},
     "output_type": "execute_result"
    }
   ],
   "source": [
    "final_df = rfm_table.join(result_df, 'USER_ID', 'outer').na.fill(0)\n",
    "final_df.limit(5).toPandas().head()"
   ]
  }
 ],
 "metadata": {
  "kernelspec": {
   "display_name": "Python 3",
   "language": "python",
   "name": "python3"
  },
  "language_info": {
   "codemirror_mode": {
    "name": "ipython",
    "version": 3
   },
   "file_extension": ".py",
   "mimetype": "text/x-python",
   "name": "python",
   "nbconvert_exporter": "python",
   "pygments_lexer": "ipython3",
   "version": "3.8.8"
  }
 },
 "nbformat": 4,
 "nbformat_minor": 5
}
