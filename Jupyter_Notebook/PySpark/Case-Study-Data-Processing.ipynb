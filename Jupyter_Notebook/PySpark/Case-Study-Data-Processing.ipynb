{
 "cells": [
  {
   "cell_type": "code",
   "execution_count": 1,
   "id": "294edf08",
   "metadata": {},
   "outputs": [],
   "source": [
    "import pyspark\n",
    "import pyspark.sql.functions as F\n",
    "from pyspark.sql import SparkSession,Row\n",
    "from pyspark.sql.functions import max\n",
    "from pyspark.sql.functions import col, lit\n",
    "from pyspark.sql.functions import *\n",
    "from pyspark.sql.functions import broadcast\n",
    "from pyspark.sql.types import StructType, StructField, StringType"
   ]
  },
  {
   "cell_type": "code",
   "execution_count": 2,
   "id": "1433b2ea",
   "metadata": {},
   "outputs": [],
   "source": [
    "# Creating the SparkSession\n",
    "\n",
    "spark = SparkSession \\\n",
    "    .builder \\\n",
    "    .master(\"local\") \\\n",
    "    .appName(\"Case-Study-Data-Processing\") \\\n",
    "    .getOrCreate()"
   ]
  },
  {
   "cell_type": "code",
   "execution_count": 3,
   "id": "0abb1067",
   "metadata": {},
   "outputs": [],
   "source": [
    "# Read the Csv file\n",
    "\n",
    "fact_data = spark.read.format(\"csv\").option(\"header\", \"true\").load(\"C:\\\\BigData\\\\use-case-data-processing-main\\\\fact.csv\")\n",
    "lookup_data = spark.read.format(\"csv\").option(\"header\", \"true\").load(\"C:\\\\BigData\\\\use-case-data-processing-main\\\\lookup.csv\")"
   ]
  },
  {
   "cell_type": "code",
   "execution_count": 4,
   "id": "c011f3d3",
   "metadata": {
    "scrolled": true
   },
   "outputs": [
    {
     "name": "stdout",
     "output_type": "stream",
     "text": [
      "+---------+----------------+----------+------------+\n",
      "|USER_ID  |VIEW_TIME       |WEB_PAGEID|WEBPAGE_TYPE|\n",
      "+---------+----------------+----------+------------+\n",
      "|149921285|10/02/2016 15:03|3739328152|movies      |\n",
      "|null     |null            |null      |news        |\n",
      "|null     |null            |null      |news        |\n",
      "|51792571 |16/02/2016 12:07|3771917324|news        |\n",
      "|51753953 |16/02/2016 12:07|3771917324|news        |\n",
      "+---------+----------------+----------+------------+\n",
      "only showing top 5 rows\n",
      "\n",
      "root\n",
      " |-- USER_ID: string (nullable = true)\n",
      " |-- VIEW_TIME: string (nullable = true)\n",
      " |-- WEB_PAGEID: string (nullable = true)\n",
      " |-- WEBPAGE_TYPE: string (nullable = true)\n",
      "\n"
     ]
    },
    {
     "data": {
      "text/plain": [
       "1100"
      ]
     },
     "execution_count": 4,
     "metadata": {},
     "output_type": "execute_result"
    }
   ],
   "source": [
    "# Doing BroadCast Join As One Big Data Set and One Small DatSet is present\n",
    "\n",
    "join_data = fact_data.join(broadcast(lookup_data), fact_data.WEB_PAGEID == lookup_data.WEB_PAGEID, \"outer\").drop(lookup_data.WEB_PAGEID)\n",
    "join_data.show(5,False)\n",
    "join_data.printSchema()\n",
    "join_data.count()"
   ]
  },
  {
   "cell_type": "code",
   "execution_count": 5,
   "id": "44315e02",
   "metadata": {},
   "outputs": [],
   "source": [
    "# join_df = fact_data.join(lookup_data, fact_data.WEB_PAGEID ==  lookup_data.WEB_PAGEID, \"outer\").drop(fact_data.WEB_PAGEID) \n",
    "# join_df.show(5,truncate=False)\n",
    "# join_df.count()"
   ]
  },
  {
   "cell_type": "code",
   "execution_count": 6,
   "id": "0a891df6",
   "metadata": {},
   "outputs": [
    {
     "name": "stdout",
     "output_type": "stream",
     "text": [
      "+---------+----------------+----------+------------+----------+\n",
      "|USER_ID  |VIEW_TIME       |WEB_PAGEID|WEBPAGE_TYPE|Date_S    |\n",
      "+---------+----------------+----------+------------+----------+\n",
      "|149921285|10/02/2016 15:03|3739328152|movies      |10/02/2016|\n",
      "|null     |null            |null      |news        |null      |\n",
      "|null     |null            |null      |news        |null      |\n",
      "|51792571 |16/02/2016 12:07|3771917324|news        |16/02/2016|\n",
      "|51753953 |16/02/2016 12:07|3771917324|news        |16/02/2016|\n",
      "+---------+----------------+----------+------------+----------+\n",
      "only showing top 5 rows\n",
      "\n",
      "root\n",
      " |-- USER_ID: string (nullable = true)\n",
      " |-- VIEW_TIME: string (nullable = true)\n",
      " |-- WEB_PAGEID: string (nullable = true)\n",
      " |-- WEBPAGE_TYPE: string (nullable = true)\n",
      " |-- Date_S: string (nullable = true)\n",
      "\n"
     ]
    }
   ],
   "source": [
    "# Convering View_TIME format to 'DD/MM/YYYY' in Column(Data_S)\n",
    "\n",
    "new_data = join_data.withColumn('Date_S',from_unixtime(unix_timestamp(join_data[\"VIEW_TIME\"],'dd/MM/yyyy mm:ss'),'dd/MM/yyyy'))\n",
    "new_data.show(5,False)\n",
    "new_data.printSchema()"
   ]
  },
  {
   "cell_type": "code",
   "execution_count": 7,
   "id": "1e19e2d5",
   "metadata": {},
   "outputs": [
    {
     "name": "stdout",
     "output_type": "stream",
     "text": [
      "+---------+----------------+----------+------------+----------+\n",
      "|USER_ID  |VIEW_TIME       |WEB_PAGEID|WEBPAGE_TYPE|Date      |\n",
      "+---------+----------------+----------+------------+----------+\n",
      "|149921285|10/02/2016 15:03|3739328152|movies      |2016-02-10|\n",
      "|null     |null            |null      |news        |null      |\n",
      "|null     |null            |null      |news        |null      |\n",
      "|51792571 |16/02/2016 12:07|3771917324|news        |2016-02-16|\n",
      "|51753953 |16/02/2016 12:07|3771917324|news        |2016-02-16|\n",
      "+---------+----------------+----------+------------+----------+\n",
      "only showing top 5 rows\n",
      "\n",
      "root\n",
      " |-- USER_ID: string (nullable = true)\n",
      " |-- VIEW_TIME: string (nullable = true)\n",
      " |-- WEB_PAGEID: string (nullable = true)\n",
      " |-- WEBPAGE_TYPE: string (nullable = true)\n",
      " |-- Date: date (nullable = true)\n",
      "\n"
     ]
    }
   ],
   "source": [
    "# Convering Data_S from String datatype to Date formatin Date field.\n",
    "\n",
    "data = new_data.withColumn('Date_S',from_unixtime(unix_timestamp(new_data[\"VIEW_TIME\"],'dd/MM/yyyy mm:ss'),'dd/MM/yyyy')) \\\n",
    ".select(col(\"USER_ID\"),(\"VIEW_TIME\"),(\"WEB_PAGEID\"),(\"WEBPAGE_TYPE\"),to_date(col(\"Date_S\"),'dd/MM/yyyy').alias(\"Date\")) \n",
    "\n",
    "data.show(5,False)\n",
    "data.printSchema()"
   ]
  },
  {
   "cell_type": "code",
   "execution_count": 8,
   "id": "4d462344",
   "metadata": {
    "scrolled": false
   },
   "outputs": [
    {
     "name": "stdout",
     "output_type": "stream",
     "text": [
      "+---------+----------------+----------+------------+----------+-----------+\n",
      "|USER_ID  |VIEW_TIME       |WEB_PAGEID|WEBPAGE_TYPE|Date      |RecencyDays|\n",
      "+---------+----------------+----------+------------+----------+-----------+\n",
      "|149921285|10/02/2016 15:03|3739328152|movies      |2016-02-10|1340       |\n",
      "|null     |null            |null      |news        |null      |null       |\n",
      "|null     |null            |null      |news        |null      |null       |\n",
      "|51792571 |16/02/2016 12:07|3771917324|news        |2016-02-16|1334       |\n",
      "|51753953 |16/02/2016 12:07|3771917324|news        |2016-02-16|1334       |\n",
      "+---------+----------------+----------+------------+----------+-----------+\n",
      "only showing top 5 rows\n",
      "\n"
     ]
    }
   ],
   "source": [
    "# Calculate difference in days between 2011-12-31 and the Invoice Date\n",
    "\n",
    "data = data.withColumn(\"RecencyDays\", expr(\"datediff('2019-10-12', Date)\"))\n",
    "\n",
    "data.show(5,False)"
   ]
  },
  {
   "cell_type": "code",
   "execution_count": 9,
   "id": "cd168f80",
   "metadata": {},
   "outputs": [
    {
     "data": {
      "text/plain": [
       "800"
      ]
     },
     "execution_count": 9,
     "metadata": {},
     "output_type": "execute_result"
    }
   ],
   "source": [
    "data.select('USER_ID').distinct().count()"
   ]
  },
  {
   "cell_type": "code",
   "execution_count": 10,
   "id": "53eddcf4",
   "metadata": {},
   "outputs": [],
   "source": [
    "# Create a TempView:\n",
    "\n",
    "data.createOrReplaceTempView(\"records\")"
   ]
  },
  {
   "cell_type": "code",
   "execution_count": 11,
   "id": "959ad3ff",
   "metadata": {},
   "outputs": [
    {
     "name": "stdout",
     "output_type": "stream",
     "text": [
      "+---------------------+\n",
      "|pageview_news_rec_365|\n",
      "+---------------------+\n",
      "|                   65|\n",
      "+---------------------+\n",
      "\n"
     ]
    }
   ],
   "source": [
    "# pageview_news_rec_365\n",
    "\n",
    "pageview_news_rec_365 = spark.sql(\"select count(WEB_PAGEID) as pageview_news_rec_365 from records where WEBPAGE_TYPE = 'news' and RecencyDays < '365'\")\n",
    "pageview_news_rec_365.show(10)"
   ]
  },
  {
   "cell_type": "code",
   "execution_count": 12,
   "id": "3dc060ee",
   "metadata": {
    "scrolled": false
   },
   "outputs": [
    {
     "name": "stdout",
     "output_type": "stream",
     "text": [
      "+----------+---------------------+\n",
      "|   USER_ID|pageview_news_rec_365|\n",
      "+----------+---------------------+\n",
      "| -69271739|                    1|\n",
      "|-133621877|                    1|\n",
      "| 157684212|                    1|\n",
      "|-285299518|                    1|\n",
      "|-277209141|                    3|\n",
      "|-151394098|                    3|\n",
      "| 250009214|                    1|\n",
      "| -73385561|                    1|\n",
      "|  78585170|                    1|\n",
      "|-163187677|                    3|\n",
      "|-167528374|                   49|\n",
      "+----------+---------------------+\n",
      "\n"
     ]
    },
    {
     "data": {
      "text/plain": [
       "11"
      ]
     },
     "execution_count": 12,
     "metadata": {},
     "output_type": "execute_result"
    }
   ],
   "source": [
    "# pageview_news_rec_365\n",
    "\n",
    "news_365 = spark.sql(\"select USER_ID,count(*) as pageview_news_rec_365 from records where WEBPAGE_TYPE = 'news' and RecencyDays < '365' group by USER_ID\")\n",
    "news_365.show(11)\n",
    "news_365.count()"
   ]
  },
  {
   "cell_type": "code",
   "execution_count": 13,
   "id": "05d48211",
   "metadata": {},
   "outputs": [
    {
     "name": "stdout",
     "output_type": "stream",
     "text": [
      "+---------------------+\n",
      "|pageview_news_rec_730|\n",
      "+---------------------+\n",
      "|                   35|\n",
      "+---------------------+\n",
      "\n"
     ]
    }
   ],
   "source": [
    "# pageview_news_rec_730\n",
    "\n",
    "pageview_news_rec_365 = spark.sql(\"select count(WEB_PAGEID) as pageview_news_rec_730 from records where WEBPAGE_TYPE = 'news' and RecencyDays > '365' and RecencyDays < '730'\")\n",
    "pageview_news_rec_365.show(10)"
   ]
  },
  {
   "cell_type": "code",
   "execution_count": 14,
   "id": "f990ee51",
   "metadata": {},
   "outputs": [
    {
     "name": "stdout",
     "output_type": "stream",
     "text": [
      "+----------+---------------------+\n",
      "|   USER_ID|pageview_news_rec_730|\n",
      "+----------+---------------------+\n",
      "|-247361411|                    3|\n",
      "|-231838278|                    1|\n",
      "|-252290668|                    2|\n",
      "| 155111993|                    1|\n",
      "|  24160260|                    2|\n",
      "|-166177270|                    2|\n",
      "|   9007149|                    1|\n",
      "|  80169642|                    1|\n",
      "|-263669125|                    1|\n",
      "|  61732038|                    4|\n",
      "|-251309617|                    1|\n",
      "| 253384086|                    1|\n",
      "|   1870160|                    1|\n",
      "| 273780833|                    2|\n",
      "|  48489723|                    2|\n",
      "|    951885|                    1|\n",
      "|   5864422|                    1|\n",
      "|-244059746|                    1|\n",
      "|-253796619|                    1|\n",
      "| 208233177|                    1|\n",
      "|-216136513|                    2|\n",
      "| 166709198|                    1|\n",
      "| 104684497|                    1|\n",
      "|-175376335|                    1|\n",
      "+----------+---------------------+\n",
      "\n"
     ]
    },
    {
     "data": {
      "text/plain": [
       "24"
      ]
     },
     "execution_count": 14,
     "metadata": {},
     "output_type": "execute_result"
    }
   ],
   "source": [
    "\n",
    "news_730 = spark.sql(\"select USER_ID,count(*) as pageview_news_rec_730 from records where WEBPAGE_TYPE = 'news' and RecencyDays > '365' and RecencyDays < '730' group by USER_ID\")\n",
    "news_730.show(100)\n",
    "news_730.count()"
   ]
  },
  {
   "cell_type": "code",
   "execution_count": 15,
   "id": "d8ea4a2b",
   "metadata": {},
   "outputs": [
    {
     "name": "stdout",
     "output_type": "stream",
     "text": [
      "+---------------------+----------+---------------------+\n",
      "|pageview_news_rec_730|USER_ID   |pageview_news_rec_365|\n",
      "+---------------------+----------+---------------------+\n",
      "|null                 |-69271739 |1                    |\n",
      "|null                 |-133621877|1                    |\n",
      "|null                 |157684212 |1                    |\n",
      "|null                 |-285299518|1                    |\n",
      "|null                 |-277209141|3                    |\n",
      "|null                 |-151394098|3                    |\n",
      "|null                 |250009214 |1                    |\n",
      "|null                 |-73385561 |1                    |\n",
      "|null                 |78585170  |1                    |\n",
      "|null                 |-163187677|3                    |\n",
      "|null                 |-167528374|49                   |\n",
      "+---------------------+----------+---------------------+\n",
      "\n"
     ]
    },
    {
     "data": {
      "text/plain": [
       "11"
      ]
     },
     "execution_count": 15,
     "metadata": {},
     "output_type": "execute_result"
    }
   ],
   "source": [
    "# Join news_365 vs news_730\n",
    "join_df = news_730.join(news_365, news_730.USER_ID ==  news_365.USER_ID, \"right\").drop(news_730.USER_ID) \n",
    "join_df.show(500,truncate=False)\n",
    "join_df.count()"
   ]
  },
  {
   "cell_type": "code",
   "execution_count": 16,
   "id": "58e2dabe",
   "metadata": {},
   "outputs": [
    {
     "name": "stdout",
     "output_type": "stream",
     "text": [
      "+----------------------+\n",
      "|pageview_news_rec_1460|\n",
      "+----------------------+\n",
      "|                   874|\n",
      "+----------------------+\n",
      "\n"
     ]
    }
   ],
   "source": [
    "# pageview_news_rec_1460\n",
    "\n",
    "pageview_news_rec_1460 = spark.sql(\"select count(WEB_PAGEID) as pageview_news_rec_1460 from records where WEBPAGE_TYPE = 'news' and RecencyDays > '730' and RecencyDays < '1460'\")\n",
    "pageview_news_rec_1460.show(10)"
   ]
  },
  {
   "cell_type": "code",
   "execution_count": 17,
   "id": "200e161e",
   "metadata": {
    "scrolled": true
   },
   "outputs": [
    {
     "name": "stdout",
     "output_type": "stream",
     "text": [
      "+---------+----------------------+\n",
      "|  USER_ID|pageview_news_rec_1460|\n",
      "+---------+----------------------+\n",
      "| 98343030|                     3|\n",
      "| 59736608|                     2|\n",
      "|115056661|                     1|\n",
      "|162690170|                     1|\n",
      "|169469168|                     1|\n",
      "|167725829|                     1|\n",
      "|264289612|                     2|\n",
      "|191712149|                     1|\n",
      "| 66612057|                     1|\n",
      "|   788539|                     1|\n",
      "+---------+----------------------+\n",
      "only showing top 10 rows\n",
      "\n"
     ]
    },
    {
     "data": {
      "text/plain": [
       "746"
      ]
     },
     "execution_count": 17,
     "metadata": {},
     "output_type": "execute_result"
    }
   ],
   "source": [
    "news_1460 = spark.sql(\"select USER_ID,count(*) as pageview_news_rec_1460 from records where WEBPAGE_TYPE = 'news' and RecencyDays > '730' and RecencyDays < '1460' group by USER_ID\")\n",
    "news_1460.show(10)\n",
    "news_1460.count()"
   ]
  },
  {
   "cell_type": "code",
   "execution_count": 18,
   "id": "b7bc9c0a",
   "metadata": {},
   "outputs": [
    {
     "name": "stdout",
     "output_type": "stream",
     "text": [
      "+---------------------+---------+----------------------+\n",
      "|pageview_news_rec_730|USER_ID  |pageview_news_rec_1460|\n",
      "+---------------------+---------+----------------------+\n",
      "|null                 |98343030 |3                     |\n",
      "|null                 |115056661|1                     |\n",
      "|null                 |59736608 |2                     |\n",
      "|null                 |162690170|1                     |\n",
      "|null                 |167725829|1                     |\n",
      "+---------------------+---------+----------------------+\n",
      "only showing top 5 rows\n",
      "\n"
     ]
    },
    {
     "data": {
      "text/plain": [
       "770"
      ]
     },
     "execution_count": 18,
     "metadata": {},
     "output_type": "execute_result"
    }
   ],
   "source": [
    "# Join news_730 vs news_1460\n",
    "join_df = news_730.join(news_1460, news_730.USER_ID ==  news_1460.USER_ID, \"outer\").drop(news_730.USER_ID) \n",
    "join_df.show(5,truncate=False)\n",
    "join_df.count()"
   ]
  },
  {
   "cell_type": "code",
   "execution_count": 19,
   "id": "5f31f0da",
   "metadata": {},
   "outputs": [
    {
     "name": "stdout",
     "output_type": "stream",
     "text": [
      "+----------+-------+---------+\n",
      "|   USER_ID|Recency|Frequency|\n",
      "+----------+-------+---------+\n",
      "|  98343030|    932|        3|\n",
      "|  59736608|    914|        2|\n",
      "| 115056661|   1336|        1|\n",
      "|  88602347|   1259|        1|\n",
      "| 167725829|   1280|        1|\n",
      "| 162690170|   1263|        1|\n",
      "| 169469168|   1263|        1|\n",
      "|-247361411|    705|        3|\n",
      "| 159147772|   1308|        2|\n",
      "| 264289612|   1009|        2|\n",
      "| 191712149|   1263|        1|\n",
      "|  66612057|   1263|        1|\n",
      "|   8856308|   1282|        1|\n",
      "| 171211230|   1262|        1|\n",
      "| 161303572|   1263|        1|\n",
      "|    788539|   1170|        1|\n",
      "|  78741118|   1349|        2|\n",
      "|  55620801|   1313|        1|\n",
      "| 159348322|   1262|        1|\n",
      "|  96024291|   1361|        1|\n",
      "+----------+-------+---------+\n",
      "only showing top 20 rows\n",
      "\n"
     ]
    }
   ],
   "source": [
    "rfm_table = data.groupBy(\"USER_ID\")\\\n",
    "                        .agg(min(\"RecencyDays\").alias(\"Recency\"), \\\n",
    "                             count(\"WEB_PAGEID\").alias(\"Frequency\"))\n",
    "\n",
    "rfm_table.show()"
   ]
  },
  {
   "cell_type": "code",
   "execution_count": 20,
   "id": "184adc78",
   "metadata": {},
   "outputs": [
    {
     "name": "stdout",
     "output_type": "stream",
     "text": [
      "+----------+-------+---------+----------+----------+---------+\n",
      "|   USER_ID|Recency|Frequency|R_Quartile|F_Quartile|RFM_Score|\n",
      "+----------+-------+---------+----------+----------+---------+\n",
      "|  98343030|    932|        3|         4|         4|       44|\n",
      "|  59736608|    914|        2|         4|         4|       44|\n",
      "| 115056661|   1336|        1|         1|         1|       11|\n",
      "|  88602347|   1259|        1|         3|         1|       31|\n",
      "| 167725829|   1280|        1|         2|         1|       21|\n",
      "| 162690170|   1263|        1|         2|         1|       21|\n",
      "| 169469168|   1263|        1|         2|         1|       21|\n",
      "|-247361411|    705|        3|         4|         4|       44|\n",
      "| 159147772|   1308|        2|         2|         4|       24|\n",
      "| 264289612|   1009|        2|         4|         4|       44|\n",
      "| 191712149|   1263|        1|         2|         1|       21|\n",
      "|  66612057|   1263|        1|         2|         1|       21|\n",
      "|   8856308|   1282|        1|         2|         1|       21|\n",
      "| 171211230|   1262|        1|         3|         1|       31|\n",
      "| 161303572|   1263|        1|         2|         1|       21|\n",
      "|    788539|   1170|        1|         4|         1|       41|\n",
      "|  78741118|   1349|        2|         1|         4|       14|\n",
      "|  55620801|   1313|        1|         2|         1|       21|\n",
      "| 159348322|   1262|        1|         3|         1|       31|\n",
      "|  96024291|   1361|        1|         1|         1|       11|\n",
      "+----------+-------+---------+----------+----------+---------+\n",
      "only showing top 20 rows\n",
      "\n"
     ]
    }
   ],
   "source": [
    "r_quartile = rfm_table.approxQuantile(\"Recency\", [0.25, 0.5, 0.75], 0)\n",
    "f_quartile = rfm_table.approxQuantile(\"Frequency\", [0.25, 0.5, 0.75], 0)\n",
    "\n",
    "rfm_table = rfm_table.withColumn(\"R_Quartile\", \\\n",
    "                                 when(col(\"Recency\") >= r_quartile[2] , 1).\\\n",
    "                                 when(col(\"Recency\") >= r_quartile[1] , 2).\\\n",
    "                                 when(col(\"Recency\") >= r_quartile[0] , 3).\\\n",
    "                                 otherwise(4))\n",
    "\n",
    "rfm_table = rfm_table.withColumn(\"F_Quartile\", \\\n",
    "                                 when(col(\"Frequency\") > f_quartile[2] , 4).\\\n",
    "                                 when(col(\"Frequency\") > f_quartile[1] , 3).\\\n",
    "                                 when(col(\"Frequency\") > f_quartile[0] , 2).\\\n",
    "                                 otherwise(1))\n",
    "\n",
    "rfm_table = rfm_table.withColumn(\"RFM_Score\", concat(col(\"R_Quartile\"), col(\"F_Quartile\")))\n",
    "\n",
    "rfm_table.show()"
   ]
  },
  {
   "cell_type": "code",
   "execution_count": null,
   "id": "e762b395",
   "metadata": {},
   "outputs": [],
   "source": []
  }
 ],
 "metadata": {
  "kernelspec": {
   "display_name": "Python 3",
   "language": "python",
   "name": "python3"
  },
  "language_info": {
   "codemirror_mode": {
    "name": "ipython",
    "version": 3
   },
   "file_extension": ".py",
   "mimetype": "text/x-python",
   "name": "python",
   "nbconvert_exporter": "python",
   "pygments_lexer": "ipython3",
   "version": "3.8.8"
  }
 },
 "nbformat": 4,
 "nbformat_minor": 5
}
