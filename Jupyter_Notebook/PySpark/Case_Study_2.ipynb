{
 "cells": [
  {
   "cell_type": "code",
   "execution_count": 1,
   "id": "25573bc3",
   "metadata": {},
   "outputs": [],
   "source": [
    "# Importing the necessary libraries\n",
    "\n",
    "import pyspark\n",
    "import pyspark.sql.functions as F\n",
    "from pyspark.sql import SparkSession,Row\n",
    "from pyspark.sql.functions import max\n",
    "from pyspark.sql.functions import col, lit\n",
    "from pyspark.sql.functions import *\n",
    "from pyspark.sql.functions import broadcast\n",
    "from pyspark.sql.types import StructType, StructField, StringType"
   ]
  },
  {
   "cell_type": "code",
   "execution_count": 2,
   "id": "7f0b87a1",
   "metadata": {},
   "outputs": [],
   "source": [
    "# Creating the SparkSession\n",
    "\n",
    "spark = SparkSession \\\n",
    "    .builder \\\n",
    "    .master(\"local\") \\\n",
    "    .appName(\"Case-Study_2\") \\\n",
    "    .getOrCreate()"
   ]
  },
  {
   "cell_type": "code",
   "execution_count": 3,
   "id": "9b721115",
   "metadata": {},
   "outputs": [],
   "source": [
    "# Read the Csv file\n",
    "\n",
    "fact_data = spark.read.format(\"csv\").option(\"header\", \"true\").load(\"C:\\\\BigData\\\\use-case-data-processing-main\\\\fact.csv\")\n",
    "lookup_data = spark.read.format(\"csv\").option(\"header\", \"true\").load(\"C:\\\\BigData\\\\use-case-data-processing-main\\\\lookup.csv\")"
   ]
  },
  {
   "cell_type": "code",
   "execution_count": 4,
   "id": "73ce93ca",
   "metadata": {},
   "outputs": [
    {
     "name": "stdout",
     "output_type": "stream",
     "text": [
      "+---------+----------------+----------+------------+\n",
      "|USER_ID  |VIEW_TIME       |WEB_PAGEID|WEBPAGE_TYPE|\n",
      "+---------+----------------+----------+------------+\n",
      "|149977241|10/02/2016 18:54|3740865072|news        |\n",
      "|142413313|21/01/2016 16:10|3621915402|news        |\n",
      "|142413313|21/01/2016 16:20|3621915402|news        |\n",
      "|142413313|21/01/2016 16:00|3621915402|news        |\n",
      "|112797679|12/04/2016 13:05|2276268225|news        |\n",
      "+---------+----------------+----------+------------+\n",
      "only showing top 5 rows\n",
      "\n"
     ]
    }
   ],
   "source": [
    "# Doing BroadCast Join As One Big Data Set and One Small DatSet is present\n",
    "\n",
    "join_data = fact_data.join(broadcast(lookup_data), fact_data.WEB_PAGEID == lookup_data.WEB_PAGEID, \"inner\").drop(lookup_data.WEB_PAGEID)\n",
    "join_data.show(5,False)"
   ]
  },
  {
   "cell_type": "code",
   "execution_count": 5,
   "id": "8131cb5e",
   "metadata": {},
   "outputs": [
    {
     "name": "stdout",
     "output_type": "stream",
     "text": [
      "+---------+----------------+----------+------------+----------+\n",
      "|USER_ID  |VIEW_TIME       |WEB_PAGEID|WEBPAGE_TYPE|Date_S    |\n",
      "+---------+----------------+----------+------------+----------+\n",
      "|149977241|10/02/2016 18:54|3740865072|news        |10/02/2016|\n",
      "|142413313|21/01/2016 16:10|3621915402|news        |21/01/2016|\n",
      "|142413313|21/01/2016 16:20|3621915402|news        |21/01/2016|\n",
      "|142413313|21/01/2016 16:00|3621915402|news        |21/01/2016|\n",
      "|112797679|12/04/2016 13:05|2276268225|news        |12/04/2016|\n",
      "+---------+----------------+----------+------------+----------+\n",
      "only showing top 5 rows\n",
      "\n",
      "root\n",
      " |-- USER_ID: string (nullable = true)\n",
      " |-- VIEW_TIME: string (nullable = true)\n",
      " |-- WEB_PAGEID: string (nullable = true)\n",
      " |-- WEBPAGE_TYPE: string (nullable = true)\n",
      " |-- Date_S: string (nullable = true)\n",
      "\n"
     ]
    }
   ],
   "source": [
    "# Convering View_TIME format to 'DD/MM/YYYY' in Column(Data_S)\n",
    "\n",
    "new_data = join_data.withColumn('Date_S',from_unixtime(unix_timestamp(join_data[\"VIEW_TIME\"],'dd/MM/yyyy mm:ss'),'dd/MM/yyyy'))\n",
    "new_data.show(5,False)\n",
    "new_data.printSchema()"
   ]
  },
  {
   "cell_type": "code",
   "execution_count": 6,
   "id": "e6af9c69",
   "metadata": {
    "scrolled": true
   },
   "outputs": [
    {
     "name": "stdout",
     "output_type": "stream",
     "text": [
      "+---------+----------------+----------+------------+----------+\n",
      "|USER_ID  |VIEW_TIME       |WEB_PAGEID|WEBPAGE_TYPE|Date      |\n",
      "+---------+----------------+----------+------------+----------+\n",
      "|149977241|10/02/2016 18:54|3740865072|news        |2016-02-10|\n",
      "|142413313|21/01/2016 16:10|3621915402|news        |2016-01-21|\n",
      "|142413313|21/01/2016 16:20|3621915402|news        |2016-01-21|\n",
      "|142413313|21/01/2016 16:00|3621915402|news        |2016-01-21|\n",
      "|112797679|12/04/2016 13:05|2276268225|news        |2016-04-12|\n",
      "+---------+----------------+----------+------------+----------+\n",
      "only showing top 5 rows\n",
      "\n",
      "root\n",
      " |-- USER_ID: string (nullable = true)\n",
      " |-- VIEW_TIME: string (nullable = true)\n",
      " |-- WEB_PAGEID: string (nullable = true)\n",
      " |-- WEBPAGE_TYPE: string (nullable = true)\n",
      " |-- Date: date (nullable = true)\n",
      "\n"
     ]
    }
   ],
   "source": [
    "# Convering Data_S from String datatype to Date format in Date field.\n",
    "\n",
    "data = new_data.withColumn('Date_S',from_unixtime(unix_timestamp(new_data[\"VIEW_TIME\"],'dd/MM/yyyy mm:ss'),'dd/MM/yyyy')) \\\n",
    ".select(col(\"USER_ID\"),(\"VIEW_TIME\"),(\"WEB_PAGEID\"),(\"WEBPAGE_TYPE\"),to_date(col(\"Date_S\"),'dd/MM/yyyy').alias(\"Date\")) \n",
    "\n",
    "data.show(5,False)\n",
    "data.printSchema()"
   ]
  },
  {
   "cell_type": "code",
   "execution_count": 7,
   "id": "5b1ab9eb",
   "metadata": {
    "scrolled": true
   },
   "outputs": [
    {
     "name": "stdout",
     "output_type": "stream",
     "text": [
      "+---------+----------------+----------+------------+----------+-----------+\n",
      "|USER_ID  |VIEW_TIME       |WEB_PAGEID|WEBPAGE_TYPE|Date      |RecencyDays|\n",
      "+---------+----------------+----------+------------+----------+-----------+\n",
      "|149977241|10/02/2016 18:54|3740865072|news        |2016-02-10|1340       |\n",
      "|142413313|21/01/2016 16:10|3621915402|news        |2016-01-21|1360       |\n",
      "|142413313|21/01/2016 16:20|3621915402|news        |2016-01-21|1360       |\n",
      "|142413313|21/01/2016 16:00|3621915402|news        |2016-01-21|1360       |\n",
      "|112797679|12/04/2016 13:05|2276268225|news        |2016-04-12|1278       |\n",
      "+---------+----------------+----------+------------+----------+-----------+\n",
      "only showing top 5 rows\n",
      "\n"
     ]
    }
   ],
   "source": [
    "# Calculate difference in days between 2011-12-31 and the Invoice Date\n",
    "\n",
    "data = data.withColumn(\"RecencyDays\", expr(\"datediff('2019-10-12', Date)\"))\n",
    "\n",
    "data.show(5,False)"
   ]
  },
  {
   "cell_type": "code",
   "execution_count": 8,
   "id": "724f281a",
   "metadata": {
    "scrolled": true
   },
   "outputs": [
    {
     "name": "stdout",
     "output_type": "stream",
     "text": [
      "+---------+-------+---------+\n",
      "|  USER_ID|Recency|Frequency|\n",
      "+---------+-------+---------+\n",
      "| 98343030|    932|        3|\n",
      "| 59736608|    914|        2|\n",
      "|115056661|   1336|        1|\n",
      "| 88602347|   1259|        1|\n",
      "|162690170|   1263|        1|\n",
      "+---------+-------+---------+\n",
      "only showing top 5 rows\n",
      "\n"
     ]
    }
   ],
   "source": [
    "# Calculating the RFM \n",
    "\n",
    "rfm_table = data.groupBy(\"USER_ID\")\\\n",
    "                        .agg(min(\"RecencyDays\").alias(\"Recency\"), \\\n",
    "                             count(\"WEB_PAGEID\").alias(\"Frequency\"))\n",
    "\n",
    "rfm_table.show(5)"
   ]
  },
  {
   "cell_type": "code",
   "execution_count": 9,
   "id": "3682b33d",
   "metadata": {},
   "outputs": [],
   "source": [
    "# Create a TempView:\n",
    "\n",
    "data.createOrReplaceTempView(\"records\")"
   ]
  },
  {
   "cell_type": "markdown",
   "id": "01aa6e05",
   "metadata": {},
   "source": [
    "# Calculating 'Frequency'"
   ]
  },
  {
   "cell_type": "markdown",
   "id": "72318be5",
   "metadata": {},
   "source": [
    "# NEWS PAGE_TYPE"
   ]
  },
  {
   "cell_type": "code",
   "execution_count": 10,
   "id": "bc162e2d",
   "metadata": {},
   "outputs": [
    {
     "name": "stdout",
     "output_type": "stream",
     "text": [
      "+----------+---------------------+\n",
      "|   USER_ID|pageview_news_fre_365|\n",
      "+----------+---------------------+\n",
      "| -69271739|                    1|\n",
      "|-133621877|                    1|\n",
      "| 157684212|                    1|\n",
      "|-285299518|                    1|\n",
      "|-277209141|                    3|\n",
      "+----------+---------------------+\n",
      "only showing top 5 rows\n",
      "\n"
     ]
    },
    {
     "data": {
      "text/plain": [
       "11"
      ]
     },
     "execution_count": 10,
     "metadata": {},
     "output_type": "execute_result"
    }
   ],
   "source": [
    "# timewindow=365  \n",
    "\n",
    "fre_news_365 = spark.sql(\"select USER_ID,count(WEB_PAGEID) as pageview_news_fre_365 from records where WEBPAGE_TYPE = 'news' and RecencyDays < '365' group by USER_ID\")\n",
    "fre_news_365.show(5)\n",
    "fre_news_365.count()"
   ]
  },
  {
   "cell_type": "code",
   "execution_count": 11,
   "id": "223e1024",
   "metadata": {},
   "outputs": [
    {
     "name": "stdout",
     "output_type": "stream",
     "text": [
      "+----------+---------------------+\n",
      "|   USER_ID|pageview_news_fre_730|\n",
      "+----------+---------------------+\n",
      "|-247361411|                    3|\n",
      "|-231838278|                    1|\n",
      "|-252290668|                    2|\n",
      "| 155111993|                    1|\n",
      "|  24160260|                    2|\n",
      "+----------+---------------------+\n",
      "only showing top 5 rows\n",
      "\n"
     ]
    },
    {
     "data": {
      "text/plain": [
       "24"
      ]
     },
     "execution_count": 11,
     "metadata": {},
     "output_type": "execute_result"
    }
   ],
   "source": [
    "# timewindow=730 \n",
    "\n",
    "fre_news_730 = spark.sql(\"select USER_ID,count(WEB_PAGEID) as pageview_news_fre_730 from records where WEBPAGE_TYPE = 'news' and RecencyDays between '365' and '730' group by USER_ID\")\n",
    "fre_news_730.show(5)\n",
    "fre_news_730.count()"
   ]
  },
  {
   "cell_type": "code",
   "execution_count": 12,
   "id": "9b72e7cc",
   "metadata": {},
   "outputs": [
    {
     "name": "stdout",
     "output_type": "stream",
     "text": [
      "+----------+---------------------+---------------------+\n",
      "|   USER_ID|pageview_news_fre_365|pageview_news_fre_730|\n",
      "+----------+---------------------+---------------------+\n",
      "|-247361411|                    0|                    3|\n",
      "|-231838278|                    0|                    1|\n",
      "|-252290668|                    0|                    2|\n",
      "| -69271739|                    1|                    0|\n",
      "|-133621877|                    1|                    0|\n",
      "+----------+---------------------+---------------------+\n",
      "only showing top 5 rows\n",
      "\n"
     ]
    },
    {
     "data": {
      "text/plain": [
       "35"
      ]
     },
     "execution_count": 12,
     "metadata": {},
     "output_type": "execute_result"
    }
   ],
   "source": [
    "# Join fre_news_365 vs fre_news_730\n",
    "\n",
    "fre_news_join_df1 = fre_news_365.join(fre_news_730, 'USER_ID', 'outer').na.fill(0)\n",
    "fre_news_join_df1.show(5)\n",
    "fre_news_join_df1.count()"
   ]
  },
  {
   "cell_type": "code",
   "execution_count": 13,
   "id": "1ae29862",
   "metadata": {
    "scrolled": true
   },
   "outputs": [
    {
     "name": "stdout",
     "output_type": "stream",
     "text": [
      "+---------+----------------------+\n",
      "|  USER_ID|pageview_news_fre_1460|\n",
      "+---------+----------------------+\n",
      "| 98343030|                     3|\n",
      "| 59736608|                     2|\n",
      "|115056661|                     1|\n",
      "|162690170|                     1|\n",
      "|169469168|                     1|\n",
      "+---------+----------------------+\n",
      "only showing top 5 rows\n",
      "\n"
     ]
    },
    {
     "data": {
      "text/plain": [
       "746"
      ]
     },
     "execution_count": 13,
     "metadata": {},
     "output_type": "execute_result"
    }
   ],
   "source": [
    "# timewindow=1430\n",
    "\n",
    "fre_news_1460 = spark.sql(\"select USER_ID,count(WEB_PAGEID) as pageview_news_fre_1460 from records where WEBPAGE_TYPE = 'news' and RecencyDays between '730' and '1460' group by USER_ID\")\n",
    "fre_news_1460.show(5)\n",
    "fre_news_1460.count()"
   ]
  },
  {
   "cell_type": "code",
   "execution_count": 14,
   "id": "e112d11a",
   "metadata": {},
   "outputs": [
    {
     "name": "stdout",
     "output_type": "stream",
     "text": [
      "+-------+----------------------+\n",
      "|USER_ID|pageview_news_fre_2920|\n",
      "+-------+----------------------+\n",
      "+-------+----------------------+\n",
      "\n"
     ]
    },
    {
     "data": {
      "text/plain": [
       "0"
      ]
     },
     "execution_count": 14,
     "metadata": {},
     "output_type": "execute_result"
    }
   ],
   "source": [
    "fre_news_2920 = spark.sql(\"select USER_ID,count(WEB_PAGEID) as pageview_news_fre_2920 from records where WEBPAGE_TYPE = 'news' and RecencyDays between '1460' and '2920' group by USER_ID\")\n",
    "fre_news_2920.show(5)\n",
    "fre_news_2920.count()"
   ]
  },
  {
   "cell_type": "code",
   "execution_count": 15,
   "id": "baa327d4",
   "metadata": {},
   "outputs": [
    {
     "name": "stdout",
     "output_type": "stream",
     "text": [
      "+---------+----------------------+----------------------+\n",
      "|USER_ID  |pageview_news_fre_1460|pageview_news_fre_2920|\n",
      "+---------+----------------------+----------------------+\n",
      "|98343030 |3                     |0                     |\n",
      "|115056661|1                     |0                     |\n",
      "|59736608 |2                     |0                     |\n",
      "|162690170|1                     |0                     |\n",
      "|167725829|1                     |0                     |\n",
      "+---------+----------------------+----------------------+\n",
      "only showing top 5 rows\n",
      "\n"
     ]
    },
    {
     "data": {
      "text/plain": [
       "746"
      ]
     },
     "execution_count": 15,
     "metadata": {},
     "output_type": "execute_result"
    }
   ],
   "source": [
    "# Join fre_news_1460 vs fre_news_2920\n",
    "\n",
    "fre_news_join_df2 = fre_news_1460.join(fre_news_2920, 'USER_ID', 'outer').na.fill(0)\n",
    "fre_news_join_df2.show(5,truncate=False)\n",
    "fre_news_join_df2.count()"
   ]
  },
  {
   "cell_type": "code",
   "execution_count": 16,
   "id": "37ac1fec",
   "metadata": {},
   "outputs": [
    {
     "name": "stdout",
     "output_type": "stream",
     "text": [
      "+---------+---------------------+---------------------+----------------------+----------------------+\n",
      "|  USER_ID|pageview_news_fre_365|pageview_news_fre_730|pageview_news_fre_1460|pageview_news_fre_2920|\n",
      "+---------+---------------------+---------------------+----------------------+----------------------+\n",
      "| 98343030|                    0|                    0|                     3|                     0|\n",
      "|115056661|                    0|                    0|                     1|                     0|\n",
      "| 59736608|                    0|                    0|                     2|                     0|\n",
      "|162690170|                    0|                    0|                     1|                     0|\n",
      "|167725829|                    0|                    0|                     1|                     0|\n",
      "+---------+---------------------+---------------------+----------------------+----------------------+\n",
      "only showing top 5 rows\n",
      "\n"
     ]
    }
   ],
   "source": [
    "# Final NEWS_frequncy dataset\n",
    "\n",
    "# Join fre_join_df1 vs fre_join_df2\n",
    "\n",
    "fre_news_df = fre_news_join_df1.join(fre_news_join_df2, 'USER_ID', 'outer').na.fill(0) \n",
    "\n",
    "fre_news_df.show(5)"
   ]
  },
  {
   "cell_type": "markdown",
   "id": "4a90299e",
   "metadata": {},
   "source": [
    "# Movie PAGE_TYPE"
   ]
  },
  {
   "cell_type": "code",
   "execution_count": 17,
   "id": "693d7829",
   "metadata": {},
   "outputs": [
    {
     "name": "stdout",
     "output_type": "stream",
     "text": [
      "+-------+-----------------------+\n",
      "|USER_ID|pageview_movies_fre_365|\n",
      "+-------+-----------------------+\n",
      "+-------+-----------------------+\n",
      "\n"
     ]
    },
    {
     "data": {
      "text/plain": [
       "0"
      ]
     },
     "execution_count": 17,
     "metadata": {},
     "output_type": "execute_result"
    }
   ],
   "source": [
    "# Movie_365\n",
    "\n",
    "fre_movies_365 = spark.sql(\"select USER_ID,count(WEB_PAGEID) as pageview_movies_fre_365 from records where WEBPAGE_TYPE = 'movies' and RecencyDays < '365' group by USER_ID\")\n",
    "fre_movies_365.show(5)\n",
    "fre_movies_365.count()"
   ]
  },
  {
   "cell_type": "code",
   "execution_count": 18,
   "id": "c8a421d0",
   "metadata": {},
   "outputs": [
    {
     "name": "stdout",
     "output_type": "stream",
     "text": [
      "+-------+-----------------------+\n",
      "|USER_ID|pageview_movies_fre_730|\n",
      "+-------+-----------------------+\n",
      "+-------+-----------------------+\n",
      "\n"
     ]
    },
    {
     "data": {
      "text/plain": [
       "0"
      ]
     },
     "execution_count": 18,
     "metadata": {},
     "output_type": "execute_result"
    }
   ],
   "source": [
    "# Movie_730\n",
    "\n",
    "fre_movies_730 = spark.sql(\"select USER_ID,count(WEB_PAGEID) as pageview_movies_fre_730 from records where WEBPAGE_TYPE = 'movies' and RecencyDays between '365' and '730' group by USER_ID\")\n",
    "fre_movies_730.show(5)\n",
    "fre_movies_730.count()"
   ]
  },
  {
   "cell_type": "code",
   "execution_count": 19,
   "id": "3c6e4be8",
   "metadata": {},
   "outputs": [
    {
     "name": "stdout",
     "output_type": "stream",
     "text": [
      "+-------+-----------------------+-----------------------+\n",
      "|USER_ID|pageview_movies_fre_365|pageview_movies_fre_730|\n",
      "+-------+-----------------------+-----------------------+\n",
      "+-------+-----------------------+-----------------------+\n",
      "\n"
     ]
    },
    {
     "data": {
      "text/plain": [
       "0"
      ]
     },
     "execution_count": 19,
     "metadata": {},
     "output_type": "execute_result"
    }
   ],
   "source": [
    "# Join fre_movies_365 vs fre_movies_730\n",
    "\n",
    "fre_movies_join_df1 = fre_movies_365.join(fre_movies_730, 'USER_ID', 'outer').na.fill(0)\n",
    "fre_movies_join_df1.show(5)\n",
    "fre_movies_join_df1.count()"
   ]
  },
  {
   "cell_type": "code",
   "execution_count": 20,
   "id": "8586a03e",
   "metadata": {},
   "outputs": [
    {
     "name": "stdout",
     "output_type": "stream",
     "text": [
      "+---------+------------------------+\n",
      "|  USER_ID|pageview_movies_fre_1460|\n",
      "+---------+------------------------+\n",
      "| 88602347|                       1|\n",
      "| 78741118|                       2|\n",
      "| 30317072|                       1|\n",
      "|197002823|                       1|\n",
      "|115544304|                       1|\n",
      "+---------+------------------------+\n",
      "only showing top 5 rows\n",
      "\n"
     ]
    },
    {
     "data": {
      "text/plain": [
       "18"
      ]
     },
     "execution_count": 20,
     "metadata": {},
     "output_type": "execute_result"
    }
   ],
   "source": [
    "# Movie_1430\n",
    "\n",
    "fre_movies_1460 = spark.sql(\"select USER_ID,count(WEB_PAGEID) as pageview_movies_fre_1460 from records where WEBPAGE_TYPE = 'movies' and RecencyDays between '730' and '1460' group by USER_ID\")\n",
    "fre_movies_1460.show(5)\n",
    "fre_movies_1460.count()"
   ]
  },
  {
   "cell_type": "code",
   "execution_count": 21,
   "id": "091cf9ba",
   "metadata": {},
   "outputs": [
    {
     "name": "stdout",
     "output_type": "stream",
     "text": [
      "+-------+------------------------+\n",
      "|USER_ID|pageview_movies_fre_2920|\n",
      "+-------+------------------------+\n",
      "+-------+------------------------+\n",
      "\n"
     ]
    }
   ],
   "source": [
    "# Movie_2920\n",
    "\n",
    "fre_movies_2920 = spark.sql(\"select USER_ID,count(WEB_PAGEID) as pageview_movies_fre_2920 from records where WEBPAGE_TYPE = 'movies' and RecencyDays between '1460' and '2920' group by USER_ID\")\n",
    "fre_movies_2920.show(5)"
   ]
  },
  {
   "cell_type": "code",
   "execution_count": 22,
   "id": "c9c99bfe",
   "metadata": {},
   "outputs": [
    {
     "name": "stdout",
     "output_type": "stream",
     "text": [
      "+---------+------------------------+------------------------+\n",
      "|  USER_ID|pageview_movies_fre_1460|pageview_movies_fre_2920|\n",
      "+---------+------------------------+------------------------+\n",
      "| 88602347|                       1|                       0|\n",
      "| 78741118|                       2|                       0|\n",
      "| 30317072|                       1|                       0|\n",
      "|197002823|                       1|                       0|\n",
      "|115544304|                       1|                       0|\n",
      "+---------+------------------------+------------------------+\n",
      "only showing top 5 rows\n",
      "\n"
     ]
    },
    {
     "data": {
      "text/plain": [
       "18"
      ]
     },
     "execution_count": 22,
     "metadata": {},
     "output_type": "execute_result"
    }
   ],
   "source": [
    "# Join fre_movies_1460 vs fre_movies_2920\n",
    "\n",
    "fre_movies_join_df2 = fre_movies_1460.join(fre_movies_2920, 'USER_ID', 'outer').na.fill(0)\n",
    "fre_movies_join_df2.show(5)\n",
    "fre_movies_join_df2.count()"
   ]
  },
  {
   "cell_type": "code",
   "execution_count": 23,
   "id": "2513f6b5",
   "metadata": {
    "scrolled": true
   },
   "outputs": [
    {
     "name": "stdout",
     "output_type": "stream",
     "text": [
      "+---------+-----------------------+-----------------------+------------------------+------------------------+\n",
      "|  USER_ID|pageview_movies_fre_365|pageview_movies_fre_730|pageview_movies_fre_1460|pageview_movies_fre_2920|\n",
      "+---------+-----------------------+-----------------------+------------------------+------------------------+\n",
      "| 88602347|                      0|                      0|                       1|                       0|\n",
      "| 78741118|                      0|                      0|                       2|                       0|\n",
      "| 30317072|                      0|                      0|                       1|                       0|\n",
      "|197002823|                      0|                      0|                       1|                       0|\n",
      "|115544304|                      0|                      0|                       1|                       0|\n",
      "+---------+-----------------------+-----------------------+------------------------+------------------------+\n",
      "only showing top 5 rows\n",
      "\n"
     ]
    }
   ],
   "source": [
    "# Final MOVIES_freruency dataset\n",
    "\n",
    "# Join fre_join_df1 vs fre_join_df2\n",
    "\n",
    "fre_movies_df = fre_movies_join_df1.join(fre_movies_join_df2, 'USER_ID', 'outer').na.fill(0) \n",
    "\n",
    "fre_movies_df.show(5)"
   ]
  },
  {
   "cell_type": "markdown",
   "id": "09fdf7da",
   "metadata": {},
   "source": [
    "# Final 'FREQUENCY' DataSet"
   ]
  },
  {
   "cell_type": "code",
   "execution_count": 24,
   "id": "ab69a087",
   "metadata": {},
   "outputs": [
    {
     "data": {
      "text/html": [
       "<div>\n",
       "<style scoped>\n",
       "    .dataframe tbody tr th:only-of-type {\n",
       "        vertical-align: middle;\n",
       "    }\n",
       "\n",
       "    .dataframe tbody tr th {\n",
       "        vertical-align: top;\n",
       "    }\n",
       "\n",
       "    .dataframe thead th {\n",
       "        text-align: right;\n",
       "    }\n",
       "</style>\n",
       "<table border=\"1\" class=\"dataframe\">\n",
       "  <thead>\n",
       "    <tr style=\"text-align: right;\">\n",
       "      <th></th>\n",
       "      <th>USER_ID</th>\n",
       "      <th>pageview_news_fre_365</th>\n",
       "      <th>pageview_news_fre_730</th>\n",
       "      <th>pageview_news_fre_1460</th>\n",
       "      <th>pageview_news_fre_2920</th>\n",
       "      <th>pageview_movies_fre_365</th>\n",
       "      <th>pageview_movies_fre_730</th>\n",
       "      <th>pageview_movies_fre_1460</th>\n",
       "      <th>pageview_movies_fre_2920</th>\n",
       "    </tr>\n",
       "  </thead>\n",
       "  <tbody>\n",
       "    <tr>\n",
       "      <th>0</th>\n",
       "      <td>98343030</td>\n",
       "      <td>0</td>\n",
       "      <td>0</td>\n",
       "      <td>3</td>\n",
       "      <td>0</td>\n",
       "      <td>0</td>\n",
       "      <td>0</td>\n",
       "      <td>0</td>\n",
       "      <td>0</td>\n",
       "    </tr>\n",
       "    <tr>\n",
       "      <th>1</th>\n",
       "      <td>115056661</td>\n",
       "      <td>0</td>\n",
       "      <td>0</td>\n",
       "      <td>1</td>\n",
       "      <td>0</td>\n",
       "      <td>0</td>\n",
       "      <td>0</td>\n",
       "      <td>0</td>\n",
       "      <td>0</td>\n",
       "    </tr>\n",
       "    <tr>\n",
       "      <th>2</th>\n",
       "      <td>59736608</td>\n",
       "      <td>0</td>\n",
       "      <td>0</td>\n",
       "      <td>2</td>\n",
       "      <td>0</td>\n",
       "      <td>0</td>\n",
       "      <td>0</td>\n",
       "      <td>0</td>\n",
       "      <td>0</td>\n",
       "    </tr>\n",
       "    <tr>\n",
       "      <th>3</th>\n",
       "      <td>88602347</td>\n",
       "      <td>0</td>\n",
       "      <td>0</td>\n",
       "      <td>0</td>\n",
       "      <td>0</td>\n",
       "      <td>0</td>\n",
       "      <td>0</td>\n",
       "      <td>1</td>\n",
       "      <td>0</td>\n",
       "    </tr>\n",
       "    <tr>\n",
       "      <th>4</th>\n",
       "      <td>162690170</td>\n",
       "      <td>0</td>\n",
       "      <td>0</td>\n",
       "      <td>1</td>\n",
       "      <td>0</td>\n",
       "      <td>0</td>\n",
       "      <td>0</td>\n",
       "      <td>0</td>\n",
       "      <td>0</td>\n",
       "    </tr>\n",
       "  </tbody>\n",
       "</table>\n",
       "</div>"
      ],
      "text/plain": [
       "     USER_ID  pageview_news_fre_365  pageview_news_fre_730  \\\n",
       "0   98343030                      0                      0   \n",
       "1  115056661                      0                      0   \n",
       "2   59736608                      0                      0   \n",
       "3   88602347                      0                      0   \n",
       "4  162690170                      0                      0   \n",
       "\n",
       "   pageview_news_fre_1460  pageview_news_fre_2920  pageview_movies_fre_365  \\\n",
       "0                       3                       0                        0   \n",
       "1                       1                       0                        0   \n",
       "2                       2                       0                        0   \n",
       "3                       0                       0                        0   \n",
       "4                       1                       0                        0   \n",
       "\n",
       "   pageview_movies_fre_730  pageview_movies_fre_1460  pageview_movies_fre_2920  \n",
       "0                        0                         0                         0  \n",
       "1                        0                         0                         0  \n",
       "2                        0                         0                         0  \n",
       "3                        0                         1                         0  \n",
       "4                        0                         0                         0  "
      ]
     },
     "execution_count": 24,
     "metadata": {},
     "output_type": "execute_result"
    }
   ],
   "source": [
    "fre_df = fre_news_df.join(fre_movies_df, 'USER_ID', 'outer').na.fill(0) \n",
    "fre_df.limit(5).toPandas().head()"
   ]
  },
  {
   "cell_type": "code",
   "execution_count": null,
   "id": "816d6df1",
   "metadata": {},
   "outputs": [],
   "source": []
  },
  {
   "cell_type": "markdown",
   "id": "864d3a98",
   "metadata": {},
   "source": [
    "# Recency"
   ]
  },
  {
   "cell_type": "code",
   "execution_count": 25,
   "id": "3ef789ee",
   "metadata": {},
   "outputs": [
    {
     "name": "stdout",
     "output_type": "stream",
     "text": [
      "+---------+-----------------+\n",
      "|  USER_ID|pageview_news_rec|\n",
      "+---------+-----------------+\n",
      "| 98343030|              932|\n",
      "| 59736608|              914|\n",
      "|115056661|             1336|\n",
      "|162690170|             1263|\n",
      "|169469168|             1263|\n",
      "+---------+-----------------+\n",
      "only showing top 5 rows\n",
      "\n"
     ]
    }
   ],
   "source": [
    "# pageview_news_rec\n",
    "\n",
    "pageview_news_rec = spark.sql(\"select USER_ID,min(RecencyDays) as pageview_news_rec from records where WEBPAGE_TYPE = 'news' group by USER_ID\")\n",
    "pageview_news_rec.show(5)"
   ]
  },
  {
   "cell_type": "code",
   "execution_count": 26,
   "id": "214bf49a",
   "metadata": {},
   "outputs": [
    {
     "name": "stdout",
     "output_type": "stream",
     "text": [
      "+---------+-------------------+\n",
      "|  USER_ID|pageview_movies_rec|\n",
      "+---------+-------------------+\n",
      "| 88602347|               1259|\n",
      "| 78741118|               1349|\n",
      "| 30317072|               1361|\n",
      "|197002823|               1181|\n",
      "|115544304|               1331|\n",
      "+---------+-------------------+\n",
      "only showing top 5 rows\n",
      "\n"
     ]
    }
   ],
   "source": [
    "# pageview_movies_rec\n",
    "\n",
    "pageview_movies_rec = spark.sql(\"select USER_ID,min(RecencyDays) as pageview_movies_rec from records where WEBPAGE_TYPE = 'movies' group by USER_ID\")\n",
    "pageview_movies_rec.show(5)"
   ]
  },
  {
   "cell_type": "code",
   "execution_count": 27,
   "id": "0de26a52",
   "metadata": {
    "scrolled": true
   },
   "outputs": [
    {
     "name": "stdout",
     "output_type": "stream",
     "text": [
      "+---------+-----------------+-------------------+\n",
      "|  USER_ID|pageview_news_rec|pageview_movies_rec|\n",
      "+---------+-----------------+-------------------+\n",
      "| 98343030|              932|                  0|\n",
      "|115056661|             1336|                  0|\n",
      "| 59736608|              914|                  0|\n",
      "| 88602347|                0|               1259|\n",
      "|162690170|             1263|                  0|\n",
      "+---------+-----------------+-------------------+\n",
      "only showing top 5 rows\n",
      "\n"
     ]
    }
   ],
   "source": [
    "# Final Recency Dataset\n",
    "\n",
    "rec_df = pageview_news_rec.join(pageview_movies_rec, 'USER_ID', 'outer').na.fill(0) \n",
    "\n",
    "rec_df.show(5)"
   ]
  },
  {
   "cell_type": "markdown",
   "id": "770c65e1",
   "metadata": {},
   "source": [
    "# 'Recency' & 'Frequency' Dataset"
   ]
  },
  {
   "cell_type": "code",
   "execution_count": 28,
   "id": "e95b176a",
   "metadata": {},
   "outputs": [
    {
     "data": {
      "text/html": [
       "<div>\n",
       "<style scoped>\n",
       "    .dataframe tbody tr th:only-of-type {\n",
       "        vertical-align: middle;\n",
       "    }\n",
       "\n",
       "    .dataframe tbody tr th {\n",
       "        vertical-align: top;\n",
       "    }\n",
       "\n",
       "    .dataframe thead th {\n",
       "        text-align: right;\n",
       "    }\n",
       "</style>\n",
       "<table border=\"1\" class=\"dataframe\">\n",
       "  <thead>\n",
       "    <tr style=\"text-align: right;\">\n",
       "      <th></th>\n",
       "      <th>USER_ID</th>\n",
       "      <th>pageview_news_fre_365</th>\n",
       "      <th>pageview_news_fre_730</th>\n",
       "      <th>pageview_news_fre_1460</th>\n",
       "      <th>pageview_news_fre_2920</th>\n",
       "      <th>pageview_movies_fre_365</th>\n",
       "      <th>pageview_movies_fre_730</th>\n",
       "      <th>pageview_movies_fre_1460</th>\n",
       "      <th>pageview_movies_fre_2920</th>\n",
       "      <th>pageview_news_rec</th>\n",
       "      <th>pageview_movies_rec</th>\n",
       "    </tr>\n",
       "  </thead>\n",
       "  <tbody>\n",
       "    <tr>\n",
       "      <th>0</th>\n",
       "      <td>98343030</td>\n",
       "      <td>0</td>\n",
       "      <td>0</td>\n",
       "      <td>3</td>\n",
       "      <td>0</td>\n",
       "      <td>0</td>\n",
       "      <td>0</td>\n",
       "      <td>0</td>\n",
       "      <td>0</td>\n",
       "      <td>932</td>\n",
       "      <td>0</td>\n",
       "    </tr>\n",
       "    <tr>\n",
       "      <th>1</th>\n",
       "      <td>115056661</td>\n",
       "      <td>0</td>\n",
       "      <td>0</td>\n",
       "      <td>1</td>\n",
       "      <td>0</td>\n",
       "      <td>0</td>\n",
       "      <td>0</td>\n",
       "      <td>0</td>\n",
       "      <td>0</td>\n",
       "      <td>1336</td>\n",
       "      <td>0</td>\n",
       "    </tr>\n",
       "    <tr>\n",
       "      <th>2</th>\n",
       "      <td>59736608</td>\n",
       "      <td>0</td>\n",
       "      <td>0</td>\n",
       "      <td>2</td>\n",
       "      <td>0</td>\n",
       "      <td>0</td>\n",
       "      <td>0</td>\n",
       "      <td>0</td>\n",
       "      <td>0</td>\n",
       "      <td>914</td>\n",
       "      <td>0</td>\n",
       "    </tr>\n",
       "    <tr>\n",
       "      <th>3</th>\n",
       "      <td>88602347</td>\n",
       "      <td>0</td>\n",
       "      <td>0</td>\n",
       "      <td>0</td>\n",
       "      <td>0</td>\n",
       "      <td>0</td>\n",
       "      <td>0</td>\n",
       "      <td>1</td>\n",
       "      <td>0</td>\n",
       "      <td>0</td>\n",
       "      <td>1259</td>\n",
       "    </tr>\n",
       "    <tr>\n",
       "      <th>4</th>\n",
       "      <td>162690170</td>\n",
       "      <td>0</td>\n",
       "      <td>0</td>\n",
       "      <td>1</td>\n",
       "      <td>0</td>\n",
       "      <td>0</td>\n",
       "      <td>0</td>\n",
       "      <td>0</td>\n",
       "      <td>0</td>\n",
       "      <td>1263</td>\n",
       "      <td>0</td>\n",
       "    </tr>\n",
       "  </tbody>\n",
       "</table>\n",
       "</div>"
      ],
      "text/plain": [
       "     USER_ID  pageview_news_fre_365  pageview_news_fre_730  \\\n",
       "0   98343030                      0                      0   \n",
       "1  115056661                      0                      0   \n",
       "2   59736608                      0                      0   \n",
       "3   88602347                      0                      0   \n",
       "4  162690170                      0                      0   \n",
       "\n",
       "   pageview_news_fre_1460  pageview_news_fre_2920  pageview_movies_fre_365  \\\n",
       "0                       3                       0                        0   \n",
       "1                       1                       0                        0   \n",
       "2                       2                       0                        0   \n",
       "3                       0                       0                        0   \n",
       "4                       1                       0                        0   \n",
       "\n",
       "   pageview_movies_fre_730  pageview_movies_fre_1460  \\\n",
       "0                        0                         0   \n",
       "1                        0                         0   \n",
       "2                        0                         0   \n",
       "3                        0                         1   \n",
       "4                        0                         0   \n",
       "\n",
       "   pageview_movies_fre_2920  pageview_news_rec  pageview_movies_rec  \n",
       "0                         0                932                    0  \n",
       "1                         0               1336                    0  \n",
       "2                         0                914                    0  \n",
       "3                         0                  0                 1259  \n",
       "4                         0               1263                    0  "
      ]
     },
     "execution_count": 28,
     "metadata": {},
     "output_type": "execute_result"
    }
   ],
   "source": [
    "final_df = fre_df.join(rec_df, 'USER_ID', 'outer').na.fill(0) \n",
    "final_df.limit(5).toPandas().head()"
   ]
  },
  {
   "cell_type": "markdown",
   "id": "82c89dba",
   "metadata": {},
   "source": [
    "# Final DataSet"
   ]
  },
  {
   "cell_type": "code",
   "execution_count": 29,
   "id": "6b544199",
   "metadata": {},
   "outputs": [
    {
     "data": {
      "text/html": [
       "<div>\n",
       "<style scoped>\n",
       "    .dataframe tbody tr th:only-of-type {\n",
       "        vertical-align: middle;\n",
       "    }\n",
       "\n",
       "    .dataframe tbody tr th {\n",
       "        vertical-align: top;\n",
       "    }\n",
       "\n",
       "    .dataframe thead th {\n",
       "        text-align: right;\n",
       "    }\n",
       "</style>\n",
       "<table border=\"1\" class=\"dataframe\">\n",
       "  <thead>\n",
       "    <tr style=\"text-align: right;\">\n",
       "      <th></th>\n",
       "      <th>USER_ID</th>\n",
       "      <th>pageview_news_fre_365</th>\n",
       "      <th>pageview_news_fre_730</th>\n",
       "      <th>pageview_news_fre_1460</th>\n",
       "      <th>pageview_news_fre_2920</th>\n",
       "      <th>pageview_movies_fre_365</th>\n",
       "      <th>pageview_movies_fre_730</th>\n",
       "      <th>pageview_movies_fre_1460</th>\n",
       "      <th>pageview_movies_fre_2920</th>\n",
       "      <th>pageview_news_rec</th>\n",
       "      <th>pageview_movies_rec</th>\n",
       "      <th>Recency</th>\n",
       "      <th>Frequency</th>\n",
       "    </tr>\n",
       "  </thead>\n",
       "  <tbody>\n",
       "    <tr>\n",
       "      <th>0</th>\n",
       "      <td>98343030</td>\n",
       "      <td>0</td>\n",
       "      <td>0</td>\n",
       "      <td>3</td>\n",
       "      <td>0</td>\n",
       "      <td>0</td>\n",
       "      <td>0</td>\n",
       "      <td>0</td>\n",
       "      <td>0</td>\n",
       "      <td>932</td>\n",
       "      <td>0</td>\n",
       "      <td>932</td>\n",
       "      <td>3</td>\n",
       "    </tr>\n",
       "    <tr>\n",
       "      <th>1</th>\n",
       "      <td>115056661</td>\n",
       "      <td>0</td>\n",
       "      <td>0</td>\n",
       "      <td>1</td>\n",
       "      <td>0</td>\n",
       "      <td>0</td>\n",
       "      <td>0</td>\n",
       "      <td>0</td>\n",
       "      <td>0</td>\n",
       "      <td>1336</td>\n",
       "      <td>0</td>\n",
       "      <td>1336</td>\n",
       "      <td>1</td>\n",
       "    </tr>\n",
       "    <tr>\n",
       "      <th>2</th>\n",
       "      <td>59736608</td>\n",
       "      <td>0</td>\n",
       "      <td>0</td>\n",
       "      <td>2</td>\n",
       "      <td>0</td>\n",
       "      <td>0</td>\n",
       "      <td>0</td>\n",
       "      <td>0</td>\n",
       "      <td>0</td>\n",
       "      <td>914</td>\n",
       "      <td>0</td>\n",
       "      <td>914</td>\n",
       "      <td>2</td>\n",
       "    </tr>\n",
       "    <tr>\n",
       "      <th>3</th>\n",
       "      <td>88602347</td>\n",
       "      <td>0</td>\n",
       "      <td>0</td>\n",
       "      <td>0</td>\n",
       "      <td>0</td>\n",
       "      <td>0</td>\n",
       "      <td>0</td>\n",
       "      <td>1</td>\n",
       "      <td>0</td>\n",
       "      <td>0</td>\n",
       "      <td>1259</td>\n",
       "      <td>1259</td>\n",
       "      <td>1</td>\n",
       "    </tr>\n",
       "    <tr>\n",
       "      <th>4</th>\n",
       "      <td>162690170</td>\n",
       "      <td>0</td>\n",
       "      <td>0</td>\n",
       "      <td>1</td>\n",
       "      <td>0</td>\n",
       "      <td>0</td>\n",
       "      <td>0</td>\n",
       "      <td>0</td>\n",
       "      <td>0</td>\n",
       "      <td>1263</td>\n",
       "      <td>0</td>\n",
       "      <td>1263</td>\n",
       "      <td>1</td>\n",
       "    </tr>\n",
       "  </tbody>\n",
       "</table>\n",
       "</div>"
      ],
      "text/plain": [
       "     USER_ID  pageview_news_fre_365  pageview_news_fre_730  \\\n",
       "0   98343030                      0                      0   \n",
       "1  115056661                      0                      0   \n",
       "2   59736608                      0                      0   \n",
       "3   88602347                      0                      0   \n",
       "4  162690170                      0                      0   \n",
       "\n",
       "   pageview_news_fre_1460  pageview_news_fre_2920  pageview_movies_fre_365  \\\n",
       "0                       3                       0                        0   \n",
       "1                       1                       0                        0   \n",
       "2                       2                       0                        0   \n",
       "3                       0                       0                        0   \n",
       "4                       1                       0                        0   \n",
       "\n",
       "   pageview_movies_fre_730  pageview_movies_fre_1460  \\\n",
       "0                        0                         0   \n",
       "1                        0                         0   \n",
       "2                        0                         0   \n",
       "3                        0                         1   \n",
       "4                        0                         0   \n",
       "\n",
       "   pageview_movies_fre_2920  pageview_news_rec  pageview_movies_rec  Recency  \\\n",
       "0                         0                932                    0      932   \n",
       "1                         0               1336                    0     1336   \n",
       "2                         0                914                    0      914   \n",
       "3                         0                  0                 1259     1259   \n",
       "4                         0               1263                    0     1263   \n",
       "\n",
       "   Frequency  \n",
       "0          3  \n",
       "1          1  \n",
       "2          2  \n",
       "3          1  \n",
       "4          1  "
      ]
     },
     "execution_count": 29,
     "metadata": {},
     "output_type": "execute_result"
    }
   ],
   "source": [
    "main_df = final_df.join(rfm_table, 'USER_ID', 'outer').na.fill(0)\n",
    "main_df.limit(5).toPandas().head()"
   ]
  },
  {
   "cell_type": "code",
   "execution_count": null,
   "id": "51f67dc6",
   "metadata": {},
   "outputs": [],
   "source": []
  }
 ],
 "metadata": {
  "kernelspec": {
   "display_name": "Python 3",
   "language": "python",
   "name": "python3"
  },
  "language_info": {
   "codemirror_mode": {
    "name": "ipython",
    "version": 3
   },
   "file_extension": ".py",
   "mimetype": "text/x-python",
   "name": "python",
   "nbconvert_exporter": "python",
   "pygments_lexer": "ipython3",
   "version": "3.8.8"
  }
 },
 "nbformat": 4,
 "nbformat_minor": 5
}
