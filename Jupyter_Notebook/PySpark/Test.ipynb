{
 "cells": [
  {
   "cell_type": "code",
   "execution_count": 1,
   "id": "23c1214b",
   "metadata": {},
   "outputs": [],
   "source": [
    "import pyspark\n",
    "import pandas as pd\n",
    "from pyspark.sql import SparkSession\n",
    "from pyspark.sql.functions import col\n",
    "from pyspark.sql.functions import col\n",
    "from pyspark.sql.types import StructType,StructField, StringType\n",
    "\n",
    "# Creating the SparkSession\n",
    "spark = SparkSession.builder.appName('Test').master(\"local\").getOrCreate()"
   ]
  },
  {
   "cell_type": "code",
   "execution_count": 2,
   "id": "a24755ab",
   "metadata": {},
   "outputs": [
    {
     "name": "stdout",
     "output_type": "stream",
     "text": [
      "+-------------------+------------+-----+-----------+-------+\n",
      "|               City|RecordNumber|State|ZipCodeType|Zipcode|\n",
      "+-------------------+------------+-----+-----------+-------+\n",
      "|PASEO COSTA DEL SUR|           1|   PR|   STANDARD|    701|\n",
      "|       BDA SAN LUIS|           2|   PR|   STANDARD|    702|\n",
      "|               null|           3|   PR|   STANDARD|    703|\n",
      "|PASEO COSTA DEL SUR|           4|   PR|   STANDARD|    704|\n",
      "|            Cuttack|           5|   PR|   STANDARD|    705|\n",
      "|              Delhi|           6|   PR|   STANDARD|     12|\n",
      "+-------------------+------------+-----+-----------+-------+\n",
      "\n",
      "root\n",
      " |-- City: string (nullable = true)\n",
      " |-- RecordNumber: long (nullable = true)\n",
      " |-- State: string (nullable = true)\n",
      " |-- ZipCodeType: string (nullable = true)\n",
      " |-- Zipcode: long (nullable = true)\n",
      "\n"
     ]
    }
   ],
   "source": [
    "# Loading the data\n",
    "path = \"C:\\\\Project\\\\Files\\\\Input\\\\json\\\\Sample-JSON_1.json\"\n",
    "df = spark.read.option(\"multiline\", \"true\").json(path)\n",
    "\n",
    "df.show()\n",
    "df.printSchema()"
   ]
  },
  {
   "cell_type": "code",
   "execution_count": 3,
   "id": "78d6f9df",
   "metadata": {},
   "outputs": [
    {
     "name": "stdout",
     "output_type": "stream",
     "text": [
      "+-------------------+------------+-----+-----------+-------+\n",
      "|               City|RecordNumber|State|ZipCodeType|Zipcode|\n",
      "+-------------------+------------+-----+-----------+-------+\n",
      "|PASEO COSTA DEL SUR|           1|   PR|   STANDARD|    701|\n",
      "|       BDA SAN LUIS|           2|   PR|   STANDARD|    702|\n",
      "|PASEO COSTA DEL SUR|           4|   PR|   STANDARD|    704|\n",
      "|            Cuttack|           5|   PR|   STANDARD|    705|\n",
      "|              Delhi|           6|   PR|   STANDARD|     12|\n",
      "+-------------------+------------+-----+-----------+-------+\n",
      "\n"
     ]
    }
   ],
   "source": [
    "# Filtering the data where the City is null\n",
    "\n",
    "# df.where(col(\"City\").isNotNull()).show()\n",
    "without_null_df = df.filter(df.City.isNotNull()).show()"
   ]
  },
  {
   "cell_type": "code",
   "execution_count": 4,
   "id": "f4089dce",
   "metadata": {},
   "outputs": [
    {
     "data": {
      "text/plain": [
       "5"
      ]
     },
     "execution_count": 4,
     "metadata": {},
     "output_type": "execute_result"
    }
   ],
   "source": [
    "df.filter(\"City IS NOT NULL\").count()"
   ]
  },
  {
   "cell_type": "code",
   "execution_count": 5,
   "id": "9e77ae47",
   "metadata": {},
   "outputs": [
    {
     "name": "stdout",
     "output_type": "stream",
     "text": [
      "+-------+-------+\n",
      "|Zipcode|   City|\n",
      "+-------+-------+\n",
      "|    705|Cuttack|\n",
      "+-------+-------+\n",
      "\n",
      "None\n"
     ]
    }
   ],
   "source": [
    "# Creating a Temp View from the DataFrame\n",
    "\n",
    "df.createOrReplaceTempView(\"records\")\n",
    "\n",
    "sql_df = spark.sql(\"select Zipcode,City from(select *, dense_rank() over(order by Zipcode desc)r from records) where r=1\")\n",
    "print(sql_df.show(1))"
   ]
  },
  {
   "cell_type": "code",
   "execution_count": 6,
   "id": "a75bc0a7",
   "metadata": {},
   "outputs": [
    {
     "name": "stdout",
     "output_type": "stream",
     "text": [
      "<class 'pandas.core.frame.DataFrame'>\n"
     ]
    },
    {
     "data": {
      "text/html": [
       "<div>\n",
       "<style scoped>\n",
       "    .dataframe tbody tr th:only-of-type {\n",
       "        vertical-align: middle;\n",
       "    }\n",
       "\n",
       "    .dataframe tbody tr th {\n",
       "        vertical-align: top;\n",
       "    }\n",
       "\n",
       "    .dataframe thead th {\n",
       "        text-align: right;\n",
       "    }\n",
       "</style>\n",
       "<table border=\"1\" class=\"dataframe\">\n",
       "  <thead>\n",
       "    <tr style=\"text-align: right;\">\n",
       "      <th></th>\n",
       "      <th>0</th>\n",
       "      <th>1</th>\n",
       "      <th>2</th>\n",
       "    </tr>\n",
       "  </thead>\n",
       "  <tbody>\n",
       "    <tr>\n",
       "      <th>0</th>\n",
       "      <td>0.111739</td>\n",
       "      <td>0.231393</td>\n",
       "      <td>0.879764</td>\n",
       "    </tr>\n",
       "    <tr>\n",
       "      <th>1</th>\n",
       "      <td>0.201488</td>\n",
       "      <td>0.776239</td>\n",
       "      <td>0.037592</td>\n",
       "    </tr>\n",
       "    <tr>\n",
       "      <th>2</th>\n",
       "      <td>0.205363</td>\n",
       "      <td>0.642324</td>\n",
       "      <td>0.015205</td>\n",
       "    </tr>\n",
       "    <tr>\n",
       "      <th>3</th>\n",
       "      <td>0.660667</td>\n",
       "      <td>0.935614</td>\n",
       "      <td>0.815210</td>\n",
       "    </tr>\n",
       "    <tr>\n",
       "      <th>4</th>\n",
       "      <td>0.739469</td>\n",
       "      <td>0.327542</td>\n",
       "      <td>0.162796</td>\n",
       "    </tr>\n",
       "    <tr>\n",
       "      <th>...</th>\n",
       "      <td>...</td>\n",
       "      <td>...</td>\n",
       "      <td>...</td>\n",
       "    </tr>\n",
       "    <tr>\n",
       "      <th>95</th>\n",
       "      <td>0.566710</td>\n",
       "      <td>0.221150</td>\n",
       "      <td>0.338994</td>\n",
       "    </tr>\n",
       "    <tr>\n",
       "      <th>96</th>\n",
       "      <td>0.632269</td>\n",
       "      <td>0.975356</td>\n",
       "      <td>0.281749</td>\n",
       "    </tr>\n",
       "    <tr>\n",
       "      <th>97</th>\n",
       "      <td>0.227194</td>\n",
       "      <td>0.519037</td>\n",
       "      <td>0.614162</td>\n",
       "    </tr>\n",
       "    <tr>\n",
       "      <th>98</th>\n",
       "      <td>0.971867</td>\n",
       "      <td>0.673837</td>\n",
       "      <td>0.028385</td>\n",
       "    </tr>\n",
       "    <tr>\n",
       "      <th>99</th>\n",
       "      <td>0.822530</td>\n",
       "      <td>0.315578</td>\n",
       "      <td>0.946763</td>\n",
       "    </tr>\n",
       "  </tbody>\n",
       "</table>\n",
       "<p>100 rows × 3 columns</p>\n",
       "</div>"
      ],
      "text/plain": [
       "           0         1         2\n",
       "0   0.111739  0.231393  0.879764\n",
       "1   0.201488  0.776239  0.037592\n",
       "2   0.205363  0.642324  0.015205\n",
       "3   0.660667  0.935614  0.815210\n",
       "4   0.739469  0.327542  0.162796\n",
       "..       ...       ...       ...\n",
       "95  0.566710  0.221150  0.338994\n",
       "96  0.632269  0.975356  0.281749\n",
       "97  0.227194  0.519037  0.614162\n",
       "98  0.971867  0.673837  0.028385\n",
       "99  0.822530  0.315578  0.946763\n",
       "\n",
       "[100 rows x 3 columns]"
      ]
     },
     "execution_count": 6,
     "metadata": {},
     "output_type": "execute_result"
    }
   ],
   "source": [
    "import numpy as np\n",
    "import pandas as pd\n",
    "import pyspark\n",
    "from pyspark.sql import SparkSession\n",
    "\n",
    "# Creating the SparkSession\n",
    "spark = SparkSession.builder.appName('Test').master(\"local\").getOrCreate()\n",
    "\n",
    "# Enable Arrow-based columnar data transfers\n",
    "# spark.conf.set(\"spark.sql.execution.arrow.pyspark.enabled\", \"true\")\n",
    "\n",
    "# Generate a Pandas DataFrame\n",
    "pdf = pd.DataFrame(np.random.rand(100, 3))\n",
    "print(type(pdf))\n",
    "\n",
    "# Create a Spark DataFrame from a Pandas DataFrame using Arrow\n",
    "df = spark.createDataFrame(pdf)\n",
    "\n",
    "# Convert the Spark DataFrame back to a Pandas DataFrame using Arrow\n",
    "result_pdf = df.select(\"*\").toPandas()\n",
    "result_pdf"
   ]
  },
  {
   "cell_type": "code",
   "execution_count": null,
   "id": "d5d124a8",
   "metadata": {},
   "outputs": [],
   "source": []
  }
 ],
 "metadata": {
  "kernelspec": {
   "display_name": "Python 3",
   "language": "python",
   "name": "python3"
  },
  "language_info": {
   "codemirror_mode": {
    "name": "ipython",
    "version": 3
   },
   "file_extension": ".py",
   "mimetype": "text/x-python",
   "name": "python",
   "nbconvert_exporter": "python",
   "pygments_lexer": "ipython3",
   "version": "3.8.8"
  }
 },
 "nbformat": 4,
 "nbformat_minor": 5
}
