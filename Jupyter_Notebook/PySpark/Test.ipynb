{
 "cells": [
  {
   "cell_type": "code",
   "execution_count": 81,
   "id": "23c1214b",
   "metadata": {},
   "outputs": [],
   "source": [
    "import pyspark\n",
    "import pandas as pd\n",
    "from pyspark.sql import SparkSession\n",
    "from pyspark.sql.functions import col\n",
    "from pyspark.sql.functions import col\n",
    "from pyspark.sql.types import StructType,StructField, StringType\n",
    "\n",
    "# Creating the SparkSession\n",
    "spark = SparkSession.builder.appName('Test').master(\"local\").getOrCreate()\n",
    "\n",
    "path = \"C:\\\\Project\\\\Files\\\\Input\\\\json\\\\Sample-JSON_1.json\"\n",
    "df = spark.read.option(\"multiline\", \"true\").json(path)"
   ]
  },
  {
   "cell_type": "code",
   "execution_count": 82,
   "id": "a24755ab",
   "metadata": {},
   "outputs": [
    {
     "name": "stdout",
     "output_type": "stream",
     "text": [
      "DataFrame[City: string, RecordNumber: bigint, State: string, ZipCodeType: string, Zipcode: bigint]\n",
      "+-------------------+------------+-----+-----------+-------+\n",
      "|               City|RecordNumber|State|ZipCodeType|Zipcode|\n",
      "+-------------------+------------+-----+-----------+-------+\n",
      "|PASEO COSTA DEL SUR|           1|   PR|   STANDARD|    701|\n",
      "|       BDA SAN LUIS|           2|   PR|   STANDARD|    702|\n",
      "|               null|           3|   PR|   STANDARD|    703|\n",
      "|PASEO COSTA DEL SUR|           4|   PR|   STANDARD|    704|\n",
      "|            Cuttack|           5|   PR|   STANDARD|    705|\n",
      "|              Delhi|           6|   PR|   STANDARD|     12|\n",
      "+-------------------+------------+-----+-----------+-------+\n",
      "\n",
      "root\n",
      " |-- City: string (nullable = true)\n",
      " |-- RecordNumber: long (nullable = true)\n",
      " |-- State: string (nullable = true)\n",
      " |-- ZipCodeType: string (nullable = true)\n",
      " |-- Zipcode: long (nullable = true)\n",
      "\n"
     ]
    }
   ],
   "source": [
    "print(df)\n",
    "df.show()\n",
    "df.printSchema()"
   ]
  },
  {
   "cell_type": "code",
   "execution_count": 69,
   "id": "78d6f9df",
   "metadata": {
    "collapsed": true
   },
   "outputs": [
    {
     "name": "stdout",
     "output_type": "stream",
     "text": [
      "+-------------------+------------+-----+-----------+-------+\n",
      "|               City|RecordNumber|State|ZipCodeType|Zipcode|\n",
      "+-------------------+------------+-----+-----------+-------+\n",
      "|PASEO COSTA DEL SUR|           1|   PR|   STANDARD|    701|\n",
      "|       BDA SAN LUIS|           2|   PR|   STANDARD|    702|\n",
      "|PASEO COSTA DEL SUR|           4|   PR|   STANDARD|    704|\n",
      "|            Cuttack|           5|   PR|   STANDARD|    705|\n",
      "|              Delhi|           6|   PR|   STANDARD|     12|\n",
      "+-------------------+------------+-----+-----------+-------+\n",
      "\n"
     ]
    }
   ],
   "source": [
    "# Filtering the data where the City is null\n",
    "# df.where(col(\"City\").isNotNull()).show()\n",
    "without_null_df = df.filter(df.City.isNotNull()).show()\n",
    "#new_df.select(\"City\").show()"
   ]
  },
  {
   "cell_type": "code",
   "execution_count": 85,
   "id": "78cfea7c",
   "metadata": {},
   "outputs": [
    {
     "name": "stdout",
     "output_type": "stream",
     "text": [
      "+-------------------+\n",
      "|               City|\n",
      "+-------------------+\n",
      "|PASEO COSTA DEL SUR|\n",
      "|       BDA SAN LUIS|\n",
      "|PASEO COSTA DEL SUR|\n",
      "|            Cuttack|\n",
      "|              Delhi|\n",
      "+-------------------+\n",
      "\n"
     ]
    }
   ],
   "source": [
    "new_df.select(\"City\").show()"
   ]
  },
  {
   "cell_type": "code",
   "execution_count": 83,
   "id": "f4089dce",
   "metadata": {},
   "outputs": [
    {
     "data": {
      "text/plain": [
       "5"
      ]
     },
     "execution_count": 83,
     "metadata": {},
     "output_type": "execute_result"
    }
   ],
   "source": [
    "df.filter(\"City IS NOT NULL\").count()"
   ]
  },
  {
   "cell_type": "code",
   "execution_count": 60,
   "id": "200215e8",
   "metadata": {},
   "outputs": [
    {
     "name": "stdout",
     "output_type": "stream",
     "text": [
      "+-------------------+------------+-----+-----------+-------+\n",
      "|               City|RecordNumber|State|ZipCodeType|Zipcode|\n",
      "+-------------------+------------+-----+-----------+-------+\n",
      "|PASEO COSTA DEL SUR|           2|   PR|   STANDARD|    704|\n",
      "+-------------------+------------+-----+-----------+-------+\n",
      "\n"
     ]
    }
   ],
   "source": [
    "data_df.filter(col(\"City\").contains(\"PASEO\")).show()"
   ]
  },
  {
   "cell_type": "code",
   "execution_count": 100,
   "id": "9e77ae47",
   "metadata": {},
   "outputs": [
    {
     "name": "stdout",
     "output_type": "stream",
     "text": [
      "+-------+-------+\n",
      "|Zipcode|   City|\n",
      "+-------+-------+\n",
      "|    705|Cuttack|\n",
      "+-------+-------+\n",
      "\n",
      "None\n"
     ]
    }
   ],
   "source": [
    "# Creating a Temp View from the DataFrame\n",
    "df.createOrReplaceTempView(\"records\")\n",
    "\n",
    "# sql_df = spark.sql(\"select max(Zipcode),City from records group by City order by City desc\")\n",
    "sql_df =spark.sql(\"select Zipcode,City from(select *, dense_rank() over(order by Zipcode desc)r from records) where r=1\")\n",
    "print(sql_df.show(1))"
   ]
  },
  {
   "cell_type": "code",
   "execution_count": null,
   "id": "a75bc0a7",
   "metadata": {},
   "outputs": [],
   "source": []
  },
  {
   "cell_type": "code",
   "execution_count": null,
   "id": "2e31cadb",
   "metadata": {},
   "outputs": [],
   "source": []
  }
 ],
 "metadata": {
  "kernelspec": {
   "display_name": "Python 3",
   "language": "python",
   "name": "python3"
  },
  "language_info": {
   "codemirror_mode": {
    "name": "ipython",
    "version": 3
   },
   "file_extension": ".py",
   "mimetype": "text/x-python",
   "name": "python",
   "nbconvert_exporter": "python",
   "pygments_lexer": "ipython3",
   "version": "3.8.8"
  }
 },
 "nbformat": 4,
 "nbformat_minor": 5
}
