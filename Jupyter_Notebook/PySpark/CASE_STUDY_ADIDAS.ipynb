{
 "cells": [
  {
   "cell_type": "code",
   "execution_count": 1,
   "id": "93dee2e0",
   "metadata": {},
   "outputs": [],
   "source": [
    "import pyspark\n",
    "import pyspark.sql.functions as F\n",
    "from pyspark.sql import SparkSession,Row\n",
    "from pyspark.sql.functions import max\n",
    "from pyspark.sql.functions import col\n",
    "from pyspark.sql.functions import *\n",
    "from pyspark.sql.types import StructType,StructField, StringType\n",
    "\n",
    "# Creating the SparkSession\n",
    "spark = SparkSession.builder.appName('Case_Study_Adidas').master(\"local\").getOrCreate()"
   ]
  },
  {
   "cell_type": "markdown",
   "id": "f1fc59df",
   "metadata": {},
   "source": [
    "# 1. Load the data"
   ]
  },
  {
   "cell_type": "code",
   "execution_count": 2,
   "id": "cbafbbac",
   "metadata": {},
   "outputs": [],
   "source": [
    "# Load JSON file into dataframe\n",
    "\n",
    "path = 'C:\\\\BigData\\\\ol_cdump.json'\n",
    "data_df = spark.read.option(\"multiline\", \"false\").option(\"inferSchema\", \"true\").option(\"header\", \"true\").json(path)\n",
    "\n",
    "# Printing the Schema\n",
    "# df.printSchema()"
   ]
  },
  {
   "cell_type": "markdown",
   "id": "19f52328",
   "metadata": {},
   "source": [
    "# 2. Make sure your data set is cleaned enough, so we for example don't include in results with empty/null \"titles\" and/or \"number of pages\" is greater than 20 and \"publishing year\" is after 1950. "
   ]
  },
  {
   "cell_type": "code",
   "execution_count": 3,
   "id": "1374f819",
   "metadata": {
    "scrolled": true
   },
   "outputs": [
    {
     "name": "stdout",
     "output_type": "stream",
     "text": [
      "+------------------------------------------------------------------------------------+---------------+----------------+\n",
      "|title                                                                               |number_of_pages|publish_date    |\n",
      "+------------------------------------------------------------------------------------+---------------+----------------+\n",
      "|Hidden & Dangerous 2                                                                |240            |October 28, 2003|\n",
      "|Facts of life and death                                                             |33             |1970            |\n",
      "|The effect of two types of verbal hierarchy on problem solving                      |48             |1968            |\n",
      "|American broadcasting                                                               |778            |1970            |\n",
      "|Do you know your economic ABC's?                                                    |34             |1963            |\n",
      "|The fundamentals of photoengraving                                                  |48             |1966            |\n",
      "|Differential syndromes of giftedness and curriculum planning                        |194            |1967            |\n",
      "|Transnational corporations, armaments and development                               |328            |1982            |\n",
      "|Alternative approaches to the organization and staffing for social services planning|66             |1976            |\n",
      "|Food engineering data handbook                                                      |183            |1987            |\n",
      "+------------------------------------------------------------------------------------+---------------+----------------+\n",
      "only showing top 10 rows\n",
      "\n"
     ]
    }
   ],
   "source": [
    "# Filtering the data\n",
    "\n",
    "# df = data_df.filter(data_df.title.isNotNull()).filter(data_df.number_of_pages > '20').filter(data_df.publish_date > '1950')\n",
    "\n",
    "df = data_df.filter((data_df.title.isNotNull()) & (data_df.number_of_pages > '20') & (data_df.publish_date > '1950'))\n",
    "df.select(\"title\",\"number_of_pages\",\"publish_date\").distinct().show(10,truncate=False)"
   ]
  },
  {
   "cell_type": "markdown",
   "id": "c0270f14",
   "metadata": {},
   "source": [
    "# 3.1 Select all \"Harry Potter\" books"
   ]
  },
  {
   "cell_type": "code",
   "execution_count": 4,
   "id": "6d5d8a07",
   "metadata": {
    "scrolled": true
   },
   "outputs": [
    {
     "name": "stdout",
     "output_type": "stream",
     "text": [
      "+----------------------------------------+-------------+\n",
      "|title                                   |publish_date |\n",
      "+----------------------------------------+-------------+\n",
      "|Harry Potter and the philosopher's stone|1998         |\n",
      "|Harry Potter y la piedra filosofal      |2000         |\n",
      "|The Science of Harry Potter             |June 23, 2003|\n",
      "+----------------------------------------+-------------+\n",
      "\n"
     ]
    }
   ],
   "source": [
    "# Select all \"Harry Potter\" books\n",
    "\n",
    "df.select(\"*\").filter(col(\"title\").contains(\"Harry Potter\")).select(\"title\",\"publish_date\").show(truncate=False)\n",
    "\n",
    "# df.select(\"*\").where(lower(df.title).contains(\"harry potter\")).select(\"title\",\"publish_date\").show(5,False)\n",
    "# df.select(\"*\").where(upper(df.title).contains(\"HARRY POTTER\")).select(\"title\",\"publish_date\").show(5,False)"
   ]
  },
  {
   "cell_type": "markdown",
   "id": "31e87ffd",
   "metadata": {},
   "source": [
    "# 3.2 Get the book with the most pages"
   ]
  },
  {
   "cell_type": "code",
   "execution_count": 5,
   "id": "24878759",
   "metadata": {},
   "outputs": [
    {
     "name": "stdout",
     "output_type": "stream",
     "text": [
      "+---------------+-----------------------------+------------+\n",
      "|number_of_pages|title                        |publish_date|\n",
      "+---------------+-----------------------------+------------+\n",
      "|48418          |Nihon shokuminchi kenchikuron|2008        |\n",
      "+---------------+-----------------------------+------------+\n",
      "\n"
     ]
    }
   ],
   "source": [
    "# To Get the book with the most pages\n",
    "\n",
    "df.createOrReplaceTempView(\"records\")\n",
    "spark.sql(\"select number_of_pages,title,publish_date from(select *, dense_rank() over(order by number_of_pages desc)r from records) where r=1\").show(truncate=False)"
   ]
  },
  {
   "cell_type": "code",
   "execution_count": 6,
   "id": "9a1d1578",
   "metadata": {},
   "outputs": [
    {
     "name": "stdout",
     "output_type": "stream",
     "text": [
      "+---------------+-----------------------------+\n",
      "|number_of_pages|title                        |\n",
      "+---------------+-----------------------------+\n",
      "|48418          |Nihon shokuminchi kenchikuron|\n",
      "+---------------+-----------------------------+\n",
      "\n"
     ]
    }
   ],
   "source": [
    "# df.groupby().max('number_of_pages').collect()[0].asDict()['max(number_of_pages)']\n",
    "\n",
    "pages = df.select(max('number_of_pages').alias(\"number\"))\n",
    "df.join(pages, df.number_of_pages == pages.number).select(\"number_of_pages\",\"title\").show(5,False)"
   ]
  },
  {
   "cell_type": "markdown",
   "id": "28219a86",
   "metadata": {},
   "source": [
    "# 3.3 Find the Top 5 authors with most written books (assuming author in first position in the array, \"key\" field and each row is a different book)"
   ]
  },
  {
   "cell_type": "code",
   "execution_count": null,
   "id": "d9783fc5",
   "metadata": {
    "scrolled": false
   },
   "outputs": [],
   "source": [
    "author = df.selectExpr('explode(authors.key) as author_key').groupBy(\"author_key\").count().sort(desc(\"count\")).show(5,False)"
   ]
  },
  {
   "cell_type": "code",
   "execution_count": null,
   "id": "dd3d43cf",
   "metadata": {},
   "outputs": [],
   "source": [
    "author = df.selectExpr('(authors) as authors').show(20,False)"
   ]
  },
  {
   "cell_type": "code",
   "execution_count": null,
   "id": "e98535d9",
   "metadata": {},
   "outputs": [],
   "source": [
    "df2 = df.select(df.publish_date,explode(df.authors)).show(5,False)"
   ]
  },
  {
   "cell_type": "code",
   "execution_count": null,
   "id": "81708464",
   "metadata": {},
   "outputs": [],
   "source": [
    "author = df.selectExpr('explode(authors.key) as author_key').groupBy(\"author_key\").count().show(10,False)"
   ]
  },
  {
   "cell_type": "markdown",
   "id": "52a0cacc",
   "metadata": {},
   "source": [
    "# 3.4 Find the Top 5 genres with most books"
   ]
  },
  {
   "cell_type": "code",
   "execution_count": null,
   "id": "81dee2c5",
   "metadata": {
    "scrolled": true
   },
   "outputs": [],
   "source": [
    "# Find the Top 5 genres with most books\n",
    "\n",
    "df_geners = df.filter(data_df.genres.isNotNull())\n",
    "\n",
    "\n",
    "genres = df_geners.select(explode(df_geners.genres).alias(\"explode_genres\")).groupBy(\"explode_genres\").count().sort(desc(\"count\")).limit(5)\n",
    "genres.show(5,False)"
   ]
  },
  {
   "cell_type": "code",
   "execution_count": null,
   "id": "c926590a",
   "metadata": {},
   "outputs": [],
   "source": [
    "genres = df_geners.select(explode(df_geners.genres).alias(\"explode_genres\")).groupBy(\"explode_genres\").count().sort(desc(\"count\")).show(5,False)\n",
    "genres.show(5,False)"
   ]
  },
  {
   "cell_type": "markdown",
   "id": "91cca95b",
   "metadata": {},
   "source": [
    "# 3.5 Get the avg. number of pages"
   ]
  },
  {
   "cell_type": "code",
   "execution_count": null,
   "id": "979095dc",
   "metadata": {},
   "outputs": [],
   "source": [
    "# Get the avg. number of pages\n",
    "df.groupby().avg('number_of_pages').collect()[0].asDict()['avg(number_of_pages)']\n",
    "\n",
    "# df.groupby().avg('number_of_pages').show()"
   ]
  },
  {
   "cell_type": "markdown",
   "id": "98e3ff87",
   "metadata": {},
   "source": [
    "# 3.6 Per publish year, get the number of authors that published at least one book"
   ]
  },
  {
   "cell_type": "code",
   "execution_count": null,
   "id": "7ac05c16",
   "metadata": {},
   "outputs": [],
   "source": [
    "# Per publish year, get the number of authors that published at least one book\n",
    "\n",
    "df.createOrReplaceTempView(\"records\")\n",
    "spark.sql(\"select year(publish_date) as publish_year,count(authors) from records group by publish_year\").show(10)"
   ]
  },
  {
   "cell_type": "code",
   "execution_count": null,
   "id": "e8f833a6",
   "metadata": {},
   "outputs": [],
   "source": []
  }
 ],
 "metadata": {
  "kernelspec": {
   "display_name": "Python 3",
   "language": "python",
   "name": "python3"
  },
  "language_info": {
   "codemirror_mode": {
    "name": "ipython",
    "version": 3
   },
   "file_extension": ".py",
   "mimetype": "text/x-python",
   "name": "python",
   "nbconvert_exporter": "python",
   "pygments_lexer": "ipython3",
   "version": "3.8.8"
  }
 },
 "nbformat": 4,
 "nbformat_minor": 5
}
