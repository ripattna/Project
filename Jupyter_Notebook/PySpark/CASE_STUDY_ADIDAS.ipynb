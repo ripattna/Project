{
 "cells": [
  {
   "cell_type": "code",
   "execution_count": 1,
   "id": "93dee2e0",
   "metadata": {},
   "outputs": [],
   "source": [
    "import pyspark\n",
    "import pyspark.sql.functions as F\n",
    "from pyspark.sql import SparkSession,Row\n",
    "from pyspark.sql.functions import max\n",
    "from pyspark.sql.functions import col\n",
    "from pyspark.sql.functions import *\n",
    "from pyspark.sql.types import StructType,StructField, StringType\n",
    "\n",
    "# Creating the SparkSession\n",
    "spark = SparkSession.builder.appName('Case_Study_Adidas').master(\"local\").getOrCreate()"
   ]
  },
  {
   "cell_type": "markdown",
   "id": "f1fc59df",
   "metadata": {},
   "source": [
    "# 1. Load the data"
   ]
  },
  {
   "cell_type": "code",
   "execution_count": null,
   "id": "cbafbbac",
   "metadata": {},
   "outputs": [],
   "source": [
    "# Load JSON file into dataframe\n",
    "\n",
    "path = 'C:\\\\BigData\\\\ol_cdump.json'\n",
    "data_df = spark.read.option(\"multiline\", \"false\").option(\"inferSchema\", \"true\").option(\"header\", \"true\").json(path)\n",
    "\n",
    "# Printing the Schema\n",
    "# df.printSchema()"
   ]
  },
  {
   "cell_type": "markdown",
   "id": "39f4b313",
   "metadata": {},
   "source": [
    "# 2. Make sure your data set is cleaned enough, so we for example don't include in results with empty/null \"titles\" and/or \"number of pages\" is greater than 20 and \"publishing year\" is after 1950. "
   ]
  },
  {
   "cell_type": "code",
   "execution_count": null,
   "id": "1374f819",
   "metadata": {
    "scrolled": true
   },
   "outputs": [],
   "source": [
    "# Filtering the data\n",
    "\n",
    "# df = data_df.filter(data_df.title.isNotNull()).filter(data_df.number_of_pages > '20').filter(data_df.publish_date > '1950')\n",
    "\n",
    "df = data_df.filter((data_df.title.isNotNull()) & (data_df.number_of_pages > '20') & (data_df.publish_date > '1950'))\n",
    "df.select(\"title\",\"number_of_pages\",\"publish_date\").distinct().show(10,truncate=False)"
   ]
  },
  {
   "cell_type": "markdown",
   "id": "c0270f14",
   "metadata": {},
   "source": [
    "# 3.1 Select all \"Harry Potter\" books"
   ]
  },
  {
   "cell_type": "code",
   "execution_count": null,
   "id": "6d5d8a07",
   "metadata": {
    "scrolled": true
   },
   "outputs": [],
   "source": [
    "# Select all \"Harry Potter\" books\n",
    "\n",
    "df.select(\"*\").filter(col(\"title\").contains(\"Harry Potter\")).select(\"title\",\"publish_date\").show(truncate=False)\n",
    "\n",
    "# df.select(\"*\").where(lower(df.title).contains(\"harry potter\")).select(\"title\",\"publish_date\").show(5,False)\n",
    "# df.select(\"*\").where(upper(df.title).contains(\"HARRY POTTER\")).select(\"title\",\"publish_date\").show(5,False)"
   ]
  },
  {
   "cell_type": "markdown",
   "id": "31e87ffd",
   "metadata": {},
   "source": [
    "# 3.2 Get the book with the most pages"
   ]
  },
  {
   "cell_type": "code",
   "execution_count": null,
   "id": "24878759",
   "metadata": {},
   "outputs": [],
   "source": [
    "# To Get the book with the most pages\n",
    "\n",
    "df.createOrReplaceTempView(\"records\")\n",
    "spark.sql(\"select number_of_pages,title,publish_date from(select *, dense_rank() over(order by number_of_pages desc)r from records) where r=1\").show(truncate=False)"
   ]
  },
  {
   "cell_type": "code",
   "execution_count": null,
   "id": "f6740120",
   "metadata": {},
   "outputs": [],
   "source": [
    "# df.groupby().max('number_of_pages').collect()[0].asDict()['max(number_of_pages)']\n",
    "\n",
    "pages = df.select(max('number_of_pages').alias(\"number\"))\n",
    "df.join(pages, df.number_of_pages == pages.number).select(\"number_of_pages\",\"title\").show(5,False)"
   ]
  },
  {
   "cell_type": "markdown",
   "id": "28219a86",
   "metadata": {},
   "source": [
    "# 3.3 Find the Top 5 authors with most written books (assuming author in first position in the array, \"key\" field and each row is a different book)"
   ]
  },
  {
   "cell_type": "code",
   "execution_count": null,
   "id": "30f37f74",
   "metadata": {
    "scrolled": false
   },
   "outputs": [],
   "source": [
    "author = df.selectExpr('explode(authors.key) as author_key').groupBy(\"author_key\").count().sort(desc(\"count\")).show(5,False)"
   ]
  },
  {
   "cell_type": "markdown",
   "id": "52a0cacc",
   "metadata": {},
   "source": [
    "# 3.4 Find the Top 5 genres with most books"
   ]
  },
  {
   "cell_type": "code",
   "execution_count": null,
   "id": "81dee2c5",
   "metadata": {
    "scrolled": true
   },
   "outputs": [],
   "source": [
    "# Find the Top 5 genres with most books\n",
    "\n",
    "df_geners = df.filter(data_df.genres.isNotNull())\n",
    "genres = df_geners.select(explode(df_geners.genres).alias(\"explode_genres\")).groupBy(\"explode_genres\").count().sort(desc(\"count\")).show(5,False)"
   ]
  },
  {
   "cell_type": "markdown",
   "id": "91cca95b",
   "metadata": {},
   "source": [
    "# 3.5 Get the avg. number of pages"
   ]
  },
  {
   "cell_type": "code",
   "execution_count": null,
   "id": "979095dc",
   "metadata": {},
   "outputs": [],
   "source": [
    "# Get the avg. number of pages\n",
    "\n",
    "df.groupby().avg('number_of_pages').collect()[0].asDict()['avg(number_of_pages)']\n",
    "# df.groupby().avg('number_of_pages').show()"
   ]
  },
  {
   "cell_type": "markdown",
   "id": "879898d1",
   "metadata": {},
   "source": [
    "# 3.6 Per publish year, get the number of authors that published at least one book"
   ]
  },
  {
   "cell_type": "code",
   "execution_count": null,
   "id": "7ac05c16",
   "metadata": {
    "scrolled": true
   },
   "outputs": [],
   "source": [
    "# Per publish year, get the number of authors that published at least one book\n",
    "\n",
    "df.createOrReplaceTempView(\"records\")\n",
    "spark.sql(\"select year(publish_date) as publish_year,count(authors) from records group by publish_year\").show(10)"
   ]
  }
 ],
 "metadata": {
  "kernelspec": {
   "display_name": "Python 3",
   "language": "python",
   "name": "python3"
  },
  "language_info": {
   "codemirror_mode": {
    "name": "ipython",
    "version": 3
   },
   "file_extension": ".py",
   "mimetype": "text/x-python",
   "name": "python",
   "nbconvert_exporter": "python",
   "pygments_lexer": "ipython3",
   "version": "3.8.8"
  }
 },
 "nbformat": 4,
 "nbformat_minor": 5
}
