{
 "cells": [
  {
   "cell_type": "code",
   "execution_count": 1,
   "id": "6d167ca2",
   "metadata": {},
   "outputs": [],
   "source": [
    "import pyspark\n",
    "import pandas as pd\n",
    "from pyspark.sql import SparkSession\n",
    "from pyspark.sql.functions import max\n",
    "from pyspark.sql.functions import col\n",
    "from pyspark.sql.types import StructType,StructField, StringType\n",
    "\n",
    "# Creating the SparkSession\n",
    "spark = SparkSession.builder.appName('Case_Study_Adidas').master(\"local\").getOrCreate()"
   ]
  },
  {
   "cell_type": "markdown",
   "id": "d2be7961",
   "metadata": {},
   "source": [
    "# 1. Load the data"
   ]
  },
  {
   "cell_type": "code",
   "execution_count": 2,
   "id": "b01360a4",
   "metadata": {},
   "outputs": [],
   "source": [
    "# Load JSON file into dataframe\n",
    "path = 'C:\\\\BigData\\\\ol_cdump.json'\n",
    "data_df = spark.read.option(\"multiline\", \"false\").json(path)\n",
    "\n",
    "# print(type(df))\n",
    "# Printing the Schema\n",
    "# df.printSchema()"
   ]
  },
  {
   "cell_type": "markdown",
   "id": "2f6e4210",
   "metadata": {},
   "source": [
    "# 2. Make sure your data set is cleaned enough, so we for example don't include in results with empty/null \"titles\"."
   ]
  },
  {
   "cell_type": "code",
   "execution_count": 3,
   "id": "903f1f56",
   "metadata": {
    "scrolled": true
   },
   "outputs": [
    {
     "name": "stdout",
     "output_type": "stream",
     "text": [
      "+-----------------------------------------------------------------------------------------------------+------------+\n",
      "|title                                                                                                |publish_date|\n",
      "+-----------------------------------------------------------------------------------------------------+------------+\n",
      "|The effect of differentiated marking tools and motivational treatment on figural creativity          |1975        |\n",
      "|Comparison of the nominal grouping and sequenced brainstorming techniques of creative idea generation|1976        |\n",
      "|Professional accident investigation                                                                  |1977        |\n",
      "|I chauceriani scozzesi                                                                               |1964        |\n",
      "|Lezioni zurighesi sul Petrarca                                                                       |1955        |\n",
      "|El saber ginecologico del padre Feijoo                                                               |1964        |\n",
      "|Litauische und lettische Drucke des 16. Jahrhunderts                                                 |1874        |\n",
      "|Cancionero de Puerto Rico                                                                            |null        |\n",
      "|Reflex French                                                                                        |1966        |\n",
      "|Some aspects of the relationship between creativity and self-disclosure                              |1976        |\n",
      "|Creative responses to time in the novels of William Faulkner                                         |1976        |\n",
      "|Creativity and delinquency as a function of physiological arousal and the stimulation-seeking motive |1976        |\n",
      "|Shaw and death                                                                                       |1976        |\n",
      "|Adventuring with books                                                                               |1961        |\n",
      "|La lune, l'Amérique                                                                                  |1969        |\n",
      "|Selected and annotated bibliography on the state of Israel and the Zionist movement.                 |1957        |\n",
      "|A resource guide for secondary school teaching                                                       |1978        |\n",
      "|Instructor's resource manual to accompany Modern production/operations management, seventh edition   |1983        |\n",
      "|Stories from Greek history.                                                                          |1965        |\n",
      "|German short stories.                                                                                |1964        |\n",
      "+-----------------------------------------------------------------------------------------------------+------------+\n",
      "only showing top 20 rows\n",
      "\n"
     ]
    }
   ],
   "source": [
    "# Filtering the data where the title is null\n",
    "\n",
    "df = data_df.filter(data_df.title.isNotNull())\n",
    "df.select(\"title\",\"publish_date\").show(truncate=False)"
   ]
  },
  {
   "cell_type": "markdown",
   "id": "35e89bf5",
   "metadata": {},
   "source": [
    "# 3.1 Select all \"Harry Potter\" books"
   ]
  },
  {
   "cell_type": "code",
   "execution_count": 4,
   "id": "891b322b",
   "metadata": {
    "scrolled": true
   },
   "outputs": [
    {
     "name": "stdout",
     "output_type": "stream",
     "text": [
      "+----------------------------------------+-------------+\n",
      "|title                                   |publish_date |\n",
      "+----------------------------------------+-------------+\n",
      "|Harry Potter and the philosopher's stone|1998         |\n",
      "|Harry Potter y la piedra filosofal      |2000         |\n",
      "|The Science of Harry Potter             |June 23, 2003|\n",
      "+----------------------------------------+-------------+\n",
      "\n"
     ]
    }
   ],
   "source": [
    "# Select all \"Harry Potter\" books\n",
    "\n",
    "df.filter(col(\"title\").contains(\"Harry Potter\")).select(\"title\",\"publish_date\").show(truncate=False)"
   ]
  },
  {
   "cell_type": "markdown",
   "id": "24aa2b17",
   "metadata": {},
   "source": [
    "# 3.2 Get the book with the most pages"
   ]
  },
  {
   "cell_type": "code",
   "execution_count": 5,
   "id": "083b09fc",
   "metadata": {},
   "outputs": [
    {
     "name": "stdout",
     "output_type": "stream",
     "text": [
      "+---------------+-----------------------------+------------+\n",
      "|number_of_pages|title                        |publish_date|\n",
      "+---------------+-----------------------------+------------+\n",
      "|48418          |Nihon shokuminchi kenchikuron|2008        |\n",
      "+---------------+-----------------------------+------------+\n",
      "\n"
     ]
    }
   ],
   "source": [
    "# To Get the book with the most pages\n",
    "\n",
    "df.createOrReplaceTempView(\"records\")\n",
    "spark.sql(\"select number_of_pages,title,publish_date from(select *, dense_rank() over(order by number_of_pages desc)r from records) where r=1\").show(truncate=False)"
   ]
  },
  {
   "cell_type": "code",
   "execution_count": 6,
   "id": "f9360a01",
   "metadata": {},
   "outputs": [
    {
     "data": {
      "text/plain": [
       "48418"
      ]
     },
     "execution_count": 6,
     "metadata": {},
     "output_type": "execute_result"
    }
   ],
   "source": [
    "# To Get the book with the most pages(No of Pages)\n",
    "\n",
    "df.groupby().max('number_of_pages').collect()[0].asDict()['max(number_of_pages)']"
   ]
  },
  {
   "cell_type": "markdown",
   "id": "7d32bf33",
   "metadata": {},
   "source": [
    "# 3.3 Find the Top 5 authors with most written books (assuming author in first position in the array, \"key\" field and each row is a different book)"
   ]
  },
  {
   "cell_type": "code",
   "execution_count": 7,
   "id": "8e4c0105",
   "metadata": {
    "scrolled": true
   },
   "outputs": [
    {
     "name": "stdout",
     "output_type": "stream",
     "text": [
      "+-----------------------------------+\n",
      "|authors                            |\n",
      "+-----------------------------------+\n",
      "|[{null, /authors/OL5510271A, null}]|\n",
      "|[{null, /authors/OL4442921A, null}]|\n",
      "|[{null, /authors/OL607566A, null}] |\n",
      "|[{null, /authors/OL130993A, null}] |\n",
      "|[{null, /authors/OL726653A, null}] |\n",
      "+-----------------------------------+\n",
      "\n",
      "None\n"
     ]
    }
   ],
   "source": [
    "# Find the Top 5 authors with most written books \n",
    "# (assuming author in first position in the array, \"key\" field and each row is a different book)\n",
    "\n",
    "sql_df =spark.sql(\"select authors from(select *, dense_rank() over(order by number_of_pages desc)r from records) where r between 1 and 5\")\n",
    "print(sql_df.show(truncate=False))"
   ]
  },
  {
   "cell_type": "markdown",
   "id": "4c7379cc",
   "metadata": {},
   "source": [
    "# 3.4 Find the Top 5 genres with most books"
   ]
  },
  {
   "cell_type": "code",
   "execution_count": 8,
   "id": "16aeb6c4",
   "metadata": {},
   "outputs": [
    {
     "name": "stdout",
     "output_type": "stream",
     "text": [
      "+------------------------------------+\n",
      "|genres                              |\n",
      "+------------------------------------+\n",
      "|[Early works to 1800]               |\n",
      "|[Outlines, syllabi, etc]            |\n",
      "|[Bibliography]                      |\n",
      "|[Conversation and phrase books]     |\n",
      "|[Texts]                             |\n",
      "|[Bibliography]                      |\n",
      "|[Readers]                           |\n",
      "|[Texts]                             |\n",
      "|[Drama]                             |\n",
      "|[Bibliography]                      |\n",
      "|[Folklore]                          |\n",
      "|[Bibliography]                      |\n",
      "|[Juvenile literature, Bibliography.]|\n",
      "|[Bibliography]                      |\n",
      "|[Librettos]                         |\n",
      "|[Dictionaries]                      |\n",
      "|[Juvenile literature]               |\n",
      "|[Handbooks, manuals, etc]           |\n",
      "|[Sources]                           |\n",
      "|[Bibliography, Catalogs]            |\n",
      "+------------------------------------+\n",
      "only showing top 20 rows\n",
      "\n"
     ]
    }
   ],
   "source": [
    "# Find the Top 5 genres with most books\n",
    "\n",
    "df_geners = df.filter(data_df.genres.isNotNull())\n",
    "df_geners.select(\"genres\").show(truncate=False)"
   ]
  },
  {
   "cell_type": "code",
   "execution_count": null,
   "id": "8a1b485e",
   "metadata": {},
   "outputs": [],
   "source": [
    "\n",
    "df_geners.groupby().max('genres').collect()[0].asDict()['max(genres)']"
   ]
  },
  {
   "cell_type": "markdown",
   "id": "547c7c46",
   "metadata": {},
   "source": [
    "# 3.5 Get the avg. number of pages"
   ]
  },
  {
   "cell_type": "code",
   "execution_count": 9,
   "id": "3d5d9b0b",
   "metadata": {},
   "outputs": [
    {
     "data": {
      "text/plain": [
       "222.65999078989668"
      ]
     },
     "execution_count": 9,
     "metadata": {},
     "output_type": "execute_result"
    }
   ],
   "source": [
    "# Get the avg. number of pages\n",
    "df.groupby().avg('number_of_pages').collect()[0].asDict()['avg(number_of_pages)']"
   ]
  },
  {
   "cell_type": "code",
   "execution_count": null,
   "id": "88b8ee63",
   "metadata": {},
   "outputs": [],
   "source": [
    "# Per publish year, get the number of authors that published at least one book\n"
   ]
  }
 ],
 "metadata": {
  "kernelspec": {
   "display_name": "Python 3",
   "language": "python",
   "name": "python3"
  },
  "language_info": {
   "codemirror_mode": {
    "name": "ipython",
    "version": 3
   },
   "file_extension": ".py",
   "mimetype": "text/x-python",
   "name": "python",
   "nbconvert_exporter": "python",
   "pygments_lexer": "ipython3",
   "version": "3.8.8"
  }
 },
 "nbformat": 4,
 "nbformat_minor": 5
}
