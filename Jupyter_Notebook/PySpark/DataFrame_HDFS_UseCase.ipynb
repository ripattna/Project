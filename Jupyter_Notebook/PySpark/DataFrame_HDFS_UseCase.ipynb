{
 "cells": [
  {
   "cell_type": "code",
   "execution_count": 28,
   "metadata": {
    "collapsed": true
   },
   "outputs": [
    {
     "name": "stdout",
     "output_type": "stream",
     "text": [
      "+---------+-------+--------+-------+-----+--------+--------+\n",
      "|OrderDate| Region|     Rep|   Item|Units|UnitCost|   Total|\n",
      "+---------+-------+--------+-------+-----+--------+--------+\n",
      "| 1/6/2018|   East|   Jones| Pencil|   95|    1.99|  189.05|\n",
      "|1/23/2018|Central|  Kivell| Binder|   50|   19.99|   999.5|\n",
      "| 2/9/2018|Central| Jardine| Pencil|   36|    4.99|  179.64|\n",
      "|2/26/2018|Central|    Gill|    Pen|   27|   19.99|  539.73|\n",
      "|3/15/2018|   West| Sorvino| Pencil|   56|    2.99|  167.44|\n",
      "| 4/1/2018|   East|   Jones| Binder|   60|    4.99|   299.4|\n",
      "|4/18/2018|Central| Andrews| Pencil|   75|    1.99|  149.25|\n",
      "| 5/5/2018|Central| Jardine| Pencil|   90|    4.99|   449.1|\n",
      "|5/22/2018|   West|Thompson| Pencil|   32|    1.99|   63.68|\n",
      "| 6/8/2018|   East|   Jones| Binder|   60|    8.99|   539.4|\n",
      "|6/25/2018|Central|  Morgan| Pencil|   90|    4.99|   449.1|\n",
      "|7/12/2018|   East|  Howard| Binder|   29|    1.99|   57.71|\n",
      "|7/29/2018|   East|  Parent| Binder|   81|   19.99|1,619.19|\n",
      "|8/15/2018|   East|   Jones| Pencil|   35|    4.99|  174.65|\n",
      "| 9/1/2018|Central|   Smith|   Desk|    2|   125.0|     250|\n",
      "|9/18/2018|   East|   Jones|Pen Set|   16|   15.99|  255.84|\n",
      "+---------+-------+--------+-------+-----+--------+--------+\n",
      "\n",
      "None\n",
      "root\n",
      " |-- OrderDate: string (nullable = true)\n",
      " |-- Region: string (nullable = true)\n",
      " |-- Rep: string (nullable = true)\n",
      " |-- Item: string (nullable = true)\n",
      " |-- Units: integer (nullable = true)\n",
      " |-- UnitCost: double (nullable = true)\n",
      " |-- Total: string (nullable = true)\n",
      "\n",
      "Schema: None\n",
      "The partition isze: 1\n",
      "Default Parallelism: 1\n"
     ]
    }
   ],
   "source": [
    "from pyspark.sql import SparkSession\n",
    "spark = SparkSession.builder.master('local').appName('DataFrame_Hdfs').getOrCreate()\n",
    "# data_df = spark.read.csv('C:\\\\Project\\\\Files\\\\Input\\\\csv\\\\Sample.csv' ,inferSchema=True, header=True)\n",
    "\n",
    "data_df = spark.read.format('csv').options(inferSchema=True, header=True,delimiter=',').csv('C:\\\\Project\\\\Files\\\\Input\\\\csv\\\\Sample.csv')\n",
    "\n",
    "print(data_df.show())\n",
    "\n",
    "print('Schema:',data_df.printSchema())\n",
    "print('The partition isze:',data_df.rdd.getNumPartitions())\n",
    "\n",
    "print('Default Parallelism:',spark.sparkContext.defaultParallelism)"
   ]
  },
  {
   "cell_type": "code",
   "execution_count": 32,
   "metadata": {},
   "outputs": [
    {
     "name": "stdout",
     "output_type": "stream",
     "text": [
      "<Response [200]>\n",
      "200\n"
     ]
    }
   ],
   "source": [
    "import requests\n",
    "response = requests.get(\"http://api.open-notify.org/astros.json\")\n",
    "print(response)\n",
    "print(response.status_code)"
   ]
  },
  {
   "cell_type": "code",
   "execution_count": null,
   "metadata": {},
   "outputs": [],
   "source": []
  }
 ],
 "metadata": {
  "kernelspec": {
   "display_name": "Python 3",
   "language": "python",
   "name": "python3"
  },
  "language_info": {
   "codemirror_mode": {
    "name": "ipython",
    "version": 3
   },
   "file_extension": ".py",
   "mimetype": "text/x-python",
   "name": "python",
   "nbconvert_exporter": "python",
   "pygments_lexer": "ipython3",
   "version": "3.8.5"
  }
 },
 "nbformat": 4,
 "nbformat_minor": 4
}
