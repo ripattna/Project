{
 "cells": [
  {
   "cell_type": "code",
   "execution_count": null,
   "id": "99773039",
   "metadata": {},
   "outputs": [],
   "source": [
    "import pyspark\n",
    "import pandas as pd\n",
    "from pyspark.sql import SparkSession\n",
    "from pyspark.sql.functions import col\n",
    "from pyspark.sql.types import StructType,StructField, StringType\n",
    "from pyspark.sql import SparkSession, functions as F\n",
    "from urllib.request import urlopen\n",
    "\n",
    "spark = SparkSession.builder.getOrCreate()\n",
    "\n",
    "url = 'https://s3-eu-west-1.amazonaws.com/csparkdata/ol_cdump.json'\n",
    "\n",
    "jsonData = urlopen(url).read().decode('utf-8')\n",
    "rdd = spark.sparkContext.parallelize([jsonData])\n",
    "data_df = spark.read.json(rdd)\n",
    " \n",
    "\n",
    "# Creates a temporary view using the DataFrame\n",
    "df.createOrReplaceTempView(\"sample\")\n",
    "\n",
    "# SQL statements can be run by using the sql methods provided by spark\n",
    "teenagerNamesDF = spark.sql(\"SELECT * from sample limit 1\")\n",
    "\n",
    "teenagerNamesDF.show(10)"
   ]
  },
  {
   "cell_type": "code",
   "execution_count": null,
   "id": "eddcc12d",
   "metadata": {},
   "outputs": [],
   "source": [
    "import pyspark\n",
    "import pandas as pd\n",
    "from pyspark.sql import SparkSession\n",
    "from pyspark.sql.functions import col\n",
    "from pyspark.sql.types import StructType,StructField, StringType\n",
    "from pyspark.sql import SparkSession, functions as F\n",
    "from urllib.request import urlopen\n",
    "\n",
    "spark = SparkSession.builder.getOrCreate()\n",
    "\n",
    "url = 'https://s3-eu-west-1.amazonaws.com/csparkdata/ol_cdump.json'\n",
    "\n",
    "jsonData = urlopen(url).read().decode('utf-8')\n",
    "print(type(jsonData))"
   ]
  },
  {
   "cell_type": "code",
   "execution_count": 11,
   "id": "4bb4b846",
   "metadata": {},
   "outputs": [
    {
     "name": "stdout",
     "output_type": "stream",
     "text": [
      "Note: you may need to restart the kernel to use updated packages.\n"
     ]
    },
    {
     "name": "stderr",
     "output_type": "stream",
     "text": [
      "ERROR: Could not find a version that satisfies the requirement urllib\n",
      "ERROR: No matching distribution found for urllib\n"
     ]
    }
   ],
   "source": [
    "pip install urllib"
   ]
  },
  {
   "cell_type": "code",
   "execution_count": null,
   "id": "d541eb44",
   "metadata": {},
   "outputs": [],
   "source": []
  }
 ],
 "metadata": {
  "kernelspec": {
   "display_name": "Python 3",
   "language": "python",
   "name": "python3"
  },
  "language_info": {
   "codemirror_mode": {
    "name": "ipython",
    "version": 3
   },
   "file_extension": ".py",
   "mimetype": "text/x-python",
   "name": "python",
   "nbconvert_exporter": "python",
   "pygments_lexer": "ipython3",
   "version": "3.8.8"
  }
 },
 "nbformat": 4,
 "nbformat_minor": 5
}
