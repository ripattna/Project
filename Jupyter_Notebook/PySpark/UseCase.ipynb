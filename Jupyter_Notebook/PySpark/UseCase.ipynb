{
 "cells": [
  {
   "cell_type": "code",
   "execution_count": null,
   "id": "99773039",
   "metadata": {},
   "outputs": [],
   "source": [
    "import requests\n",
    "import json\n",
    "from pyspark.sql.functions import *\n",
    "from pyspark.sql import SparkSession,Row\n",
    "import pyspark.sql.functions as F\n",
    "\n",
    "spark = SparkSession.builder.appName(\"UseCase\").getOrCreate()"
   ]
  },
  {
   "cell_type": "code",
   "execution_count": null,
   "id": "eddcc12d",
   "metadata": {},
   "outputs": [],
   "source": [
    "with requests.get(\"https://s3-eu-west-1.amazonaws.com/csparkdata/ol_cdump.json\",stream=True) as r:\n",
    "  out_json_data=[json.loads(chunk) for chunk in r.iter_lines()]\n",
    "\n",
    "data_df = spark.read.json(spark.sparkContext.parallelize(out_json_data))"
   ]
  },
  {
   "cell_type": "code",
   "execution_count": null,
   "id": "4bb4b846",
   "metadata": {},
   "outputs": [],
   "source": [
    "df = data_df.filter(data_df.title.isNotNull()).filter(data_df.publish_date > 1950).filter(data_df.number_of_pages > 20)\n",
    "df.select(\"title\",\"number_of_pages\",\"publish_date\").distinct().show(10,truncate=False)"
   ]
  },
  {
   "cell_type": "code",
   "execution_count": null,
   "id": "fb2d6c8a",
   "metadata": {},
   "outputs": [],
   "source": []
  },
  {
   "cell_type": "code",
   "execution_count": null,
   "id": "a8594242",
   "metadata": {},
   "outputs": [],
   "source": []
  }
 ],
 "metadata": {
  "kernelspec": {
   "display_name": "Python 3",
   "language": "python",
   "name": "python3"
  },
  "language_info": {
   "codemirror_mode": {
    "name": "ipython",
    "version": 3
   },
   "file_extension": ".py",
   "mimetype": "text/x-python",
   "name": "python",
   "nbconvert_exporter": "python",
   "pygments_lexer": "ipython3",
   "version": "3.8.8"
  }
 },
 "nbformat": 4,
 "nbformat_minor": 5
}
