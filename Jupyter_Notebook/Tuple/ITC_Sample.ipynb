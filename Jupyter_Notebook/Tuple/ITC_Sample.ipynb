{
 "cells": [
  {
   "cell_type": "markdown",
   "metadata": {},
   "source": [
    "# Find the unique in Tuple"
   ]
  },
  {
   "cell_type": "code",
   "execution_count": 5,
   "metadata": {},
   "outputs": [],
   "source": [
    "this_list = [(1, 3), (4, 5), (3, 1), (1, 10), (5, 4)]"
   ]
  },
  {
   "cell_type": "code",
   "execution_count": 6,
   "metadata": {},
   "outputs": [
    {
     "name": "stdout",
     "output_type": "stream",
     "text": [
      "The original list : [(1, 3), (4, 5), (3, 1), (1, 10), (5, 4)]\n"
     ]
    }
   ],
   "source": [
    "print(\"The original list : \" + str(this_list))"
   ]
  },
  {
   "cell_type": "code",
   "execution_count": 9,
   "metadata": {},
   "outputs": [
    {
     "name": "stdout",
     "output_type": "stream",
     "text": [
      "The original list :  [(1, 3), (4, 5), (3, 1), (1, 10), (5, 4)]\n"
     ]
    }
   ],
   "source": [
    "print(\"The original list : \" , this_list)"
   ]
  },
  {
   "cell_type": "code",
   "execution_count": 7,
   "metadata": {},
   "outputs": [
    {
     "name": "stdout",
     "output_type": "stream",
     "text": [
      "Type of test_list: <class 'list'>\n"
     ]
    }
   ],
   "source": [
    "print('Type of test_list:',type(this_list))"
   ]
  },
  {
   "cell_type": "code",
   "execution_count": 10,
   "metadata": {},
   "outputs": [],
   "source": [
    "# Extract unique tuples from list(Order Irrespective)\n",
    "# using frozenset()\n",
    "res = set(tuple(frozenset(sub)) for sub in set(this_list))"
   ]
  },
  {
   "cell_type": "code",
   "execution_count": 11,
   "metadata": {},
   "outputs": [
    {
     "name": "stdout",
     "output_type": "stream",
     "text": [
      "The list after duplicated removal : [(4, 5), (1, 3), (1, 10)]\n"
     ]
    }
   ],
   "source": [
    "# printing result\n",
    "print(\"The list after duplicated removal : \" + str(list(res)))"
   ]
  },
  {
   "cell_type": "code",
   "execution_count": 14,
   "metadata": {},
   "outputs": [
    {
     "name": "stdout",
     "output_type": "stream",
     "text": [
      "The original list is : [(1, 3), (4, 5), (3, 1), (1, 10), (5, 4)]\n",
      "<class 'list'>\n",
      "List after removal of duplicates [(3, 1), (5, 4), (4, 5), (1, 10), (1, 3)]\n"
     ]
    }
   ],
   "source": [
    "# initializing list\n",
    "test_list = [(1, 3), (4, 5), (3, 1), (1, 10), (5, 4)]\n",
    "  \n",
    "# printing original list\n",
    "print(\"The original list is : \" + str(test_list))\n",
    "  \n",
    "# Get unique tuples from list\n",
    "# using set() + list()\n",
    "res = list(set(test_list))\n",
    "\n",
    "print(type(res))\n",
    "  \n",
    "# printing result \n",
    "print(\"List after removal of duplicates \" + str(res))"
   ]
  },
  {
   "cell_type": "code",
   "execution_count": null,
   "metadata": {},
   "outputs": [],
   "source": []
  }
 ],
 "metadata": {
  "kernelspec": {
   "display_name": "Python 3",
   "language": "python",
   "name": "python3"
  },
  "language_info": {
   "codemirror_mode": {
    "name": "ipython",
    "version": 3
   },
   "file_extension": ".py",
   "mimetype": "text/x-python",
   "name": "python",
   "nbconvert_exporter": "python",
   "pygments_lexer": "ipython3",
   "version": "3.8.5"
  }
 },
 "nbformat": 4,
 "nbformat_minor": 4
}
