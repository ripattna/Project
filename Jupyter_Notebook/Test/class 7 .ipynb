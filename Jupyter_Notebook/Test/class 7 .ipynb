{
 "cells": [
  {
   "cell_type": "code",
   "execution_count": 1,
   "metadata": {},
   "outputs": [
    {
     "name": "stdout",
     "output_type": "stream",
     "text": [
      "<class 'list'>\n"
     ]
    }
   ],
   "source": [
    "a = []\n",
    "print(type(a))"
   ]
  },
  {
   "cell_type": "code",
   "execution_count": 2,
   "metadata": {},
   "outputs": [
    {
     "name": "stdout",
     "output_type": "stream",
     "text": [
      "[10, 20, 30, 40, 50]\n"
     ]
    }
   ],
   "source": [
    "a = [10,20,30,40,50]\n",
    "print(a)"
   ]
  },
  {
   "cell_type": "code",
   "execution_count": 3,
   "metadata": {},
   "outputs": [
    {
     "name": "stdout",
     "output_type": "stream",
     "text": [
      "[10, 20, 30, 40, 50, 60]\n"
     ]
    }
   ],
   "source": [
    "a.append(60)\n",
    "print(a)"
   ]
  },
  {
   "cell_type": "code",
   "execution_count": 5,
   "metadata": {},
   "outputs": [
    {
     "name": "stdout",
     "output_type": "stream",
     "text": [
      "[10, 20, 30, 40, 50, 60, 'sreenivas']\n"
     ]
    }
   ],
   "source": [
    "a.append(\"sreenivas\")\n",
    "print(a)"
   ]
  },
  {
   "cell_type": "code",
   "execution_count": 6,
   "metadata": {},
   "outputs": [
    {
     "name": "stdout",
     "output_type": "stream",
     "text": [
      "['btech', 'mtech', 'phd']\n"
     ]
    }
   ],
   "source": [
    "q = ['btech','mtech','phd']\n",
    "price = [100,200,300]\n",
    "print(q)"
   ]
  },
  {
   "cell_type": "code",
   "execution_count": 8,
   "metadata": {},
   "outputs": [
    {
     "name": "stdout",
     "output_type": "stream",
     "text": [
      "('swathi', 28, 'hyd')\n",
      "('samsung', 20000, 'mobile', 10)\n"
     ]
    }
   ],
   "source": [
    "wife = ('swathi',28,'hyd')\n",
    "product = ('samsung',20000,'mobile',10)\n",
    "print(wife)\n",
    "print(product)\n"
   ]
  },
  {
   "cell_type": "code",
   "execution_count": 9,
   "metadata": {},
   "outputs": [
    {
     "name": "stdout",
     "output_type": "stream",
     "text": [
      "{'btech': 2006, 'mtech': 2008}\n"
     ]
    }
   ],
   "source": [
    "qual = {\n",
    "'btech':2006,\n",
    "'mtech':2008\n",
    "}\n",
    "\n",
    "print(qual)\n"
   ]
  },
  {
   "cell_type": "code",
   "execution_count": 11,
   "metadata": {},
   "outputs": [
    {
     "name": "stdout",
     "output_type": "stream",
     "text": [
      "{'p1': ('tv', 50000, 10), 'p2': ('laptop', 70000, 20), 'p3': ('mobile', 10000, 3)}\n"
     ]
    }
   ],
   "source": [
    "prodlist = {\n",
    "'p1':('tv',50000,10),\n",
    "'p2':('laptop',70000,20),\n",
    "'p3':('mobile',10000,3)\n",
    "}\n",
    "print(prodlist)"
   ]
  },
  {
   "cell_type": "code",
   "execution_count": 18,
   "metadata": {},
   "outputs": [
    {
     "name": "stdout",
     "output_type": "stream",
     "text": [
      "key: p1\n",
      "tv\n",
      "50000\n",
      "10\n",
      "********************\n",
      "key: p2\n",
      "laptop\n",
      "70000\n",
      "20\n",
      "********************\n",
      "key: p3\n",
      "mobile\n",
      "10000\n",
      "3\n",
      "********************\n"
     ]
    }
   ],
   "source": [
    "for v in prodlist:\n",
    "        print('key:',v)\n",
    "        pinfo = prodlist[v]\n",
    "        print(pinfo[0])\n",
    "        print(pinfo[1])\n",
    "        print(pinfo[2])\n",
    "        print('*'*20)"
   ]
  },
  {
   "cell_type": "code",
   "execution_count": 20,
   "metadata": {},
   "outputs": [
    {
     "name": "stdout",
     "output_type": "stream",
     "text": [
      "year: 2014\n",
      "cricket\n",
      "kabadi\n",
      "@@@@@@@@@@@@@@@@@@@@\n",
      "year: 2015\n",
      "cricket\n",
      "hockey\n",
      "@@@@@@@@@@@@@@@@@@@@\n",
      "year: 2016\n",
      "cricket\n",
      "football\n",
      "kabadi\n",
      "indor games\n",
      "@@@@@@@@@@@@@@@@@@@@\n",
      "year: 2017\n",
      "cricket\n",
      "football\n",
      "@@@@@@@@@@@@@@@@@@@@\n",
      "year: 2018\n",
      "cricket\n",
      "kabadi\n",
      "@@@@@@@@@@@@@@@@@@@@\n"
     ]
    }
   ],
   "source": [
    "sports = {\n",
    "    2014 : ['cricket','kabadi'],\n",
    "    2015 : ['cricket','hockey'],\n",
    "    2016 : ['cricket','football','kabadi','indor games'],\n",
    "    2017 : ['cricket','football'],\n",
    "    2018 : ['cricket','kabadi']\n",
    "}\n",
    "\n",
    "for v in sports:\n",
    "    print('year:',v)\n",
    "    sport = sports[v]\n",
    "    for v2 in sport:\n",
    "        print(v2)\n",
    "    print(\"@\"*20)\n"
   ]
  },
  {
   "cell_type": "code",
   "execution_count": 26,
   "metadata": {},
   "outputs": [
    {
     "name": "stdout",
     "output_type": "stream",
     "text": [
      "branch1\n",
      "p1\n",
      "100\n",
      "200\n",
      "300\n",
      "********************\n",
      "branch1\n",
      "p2\n",
      "200\n",
      "700\n",
      "500\n",
      "********************\n",
      "branch2\n",
      "p1\n",
      "300\n",
      "200\n",
      "500\n",
      "********************\n",
      "branch2\n",
      "p2\n",
      "100\n",
      "200\n",
      "300\n",
      "********************\n"
     ]
    }
   ],
   "source": [
    "sales = {\n",
    "('branch1','p1'):[100,200,300],\n",
    "('branch1','p2'):[200,700,500],\n",
    "('branch2','p1'):[300,200,500],\n",
    "('branch2','p2'):[100,200,300],\n",
    "}\n",
    "\n",
    "for v in sales:\n",
    "    #print(v)\n",
    "    for v2 in v:\n",
    "        print(v2)\n",
    "    qty = sales[v]\n",
    "    #print(qty)\n",
    "    for q in qty:\n",
    "        print(q)\n",
    "    \n",
    "    print('*'*20)\n"
   ]
  },
  {
   "cell_type": "code",
   "execution_count": 27,
   "metadata": {},
   "outputs": [
    {
     "name": "stdout",
     "output_type": "stream",
     "text": [
      "[10, 20, 10, 20, 30, 40, 10]\n"
     ]
    }
   ],
   "source": [
    "a = [10,20,10,20,30,40,10]\n",
    "print(a)"
   ]
  },
  {
   "cell_type": "code",
   "execution_count": 28,
   "metadata": {},
   "outputs": [
    {
     "name": "stdout",
     "output_type": "stream",
     "text": [
      "{40, 10, 20, 30}\n"
     ]
    }
   ],
   "source": [
    "s = {10,20,10,20,30,40,10}\n",
    "print(s)"
   ]
  },
  {
   "cell_type": "code",
   "execution_count": 29,
   "metadata": {},
   "outputs": [],
   "source": [
    "# first difference with set and list --- list allows duplicates and set does not allow duplicates"
   ]
  },
  {
   "cell_type": "code",
   "execution_count": 30,
   "metadata": {},
   "outputs": [],
   "source": [
    "#list follows insertion order but set does not follow insertion order "
   ]
  },
  {
   "cell_type": "code",
   "execution_count": 36,
   "metadata": {},
   "outputs": [
    {
     "name": "stdout",
     "output_type": "stream",
     "text": [
      "100 140705451581344\n",
      "70 140705451580384\n",
      "40 140705451579424\n",
      "10 140705451578464\n",
      "50 140705451579744\n",
      "20 140705451578784\n",
      "30 140705451579104\n"
     ]
    }
   ],
   "source": [
    "s = {10,20,10,20,30,40,10,50,100,70}\n",
    "for s1 in s:\n",
    "    print(s1,id(s1))"
   ]
  },
  {
   "cell_type": "code",
   "execution_count": null,
   "metadata": {},
   "outputs": [],
   "source": [
    "# Hashing mechanish to store elements"
   ]
  }
 ],
 "metadata": {
  "kernelspec": {
   "display_name": "Python 3",
   "language": "python",
   "name": "python3"
  },
  "language_info": {
   "codemirror_mode": {
    "name": "ipython",
    "version": 3
   },
   "file_extension": ".py",
   "mimetype": "text/x-python",
   "name": "python",
   "nbconvert_exporter": "python",
   "pygments_lexer": "ipython3",
   "version": "3.7.3"
  }
 },
 "nbformat": 4,
 "nbformat_minor": 2
}
