{
 "cells": [
  {
   "cell_type": "code",
   "execution_count": 3,
   "metadata": {},
   "outputs": [
    {
     "name": "stdout",
     "output_type": "stream",
     "text": [
      "[[34 31]\n",
      " [62 59]]\n"
     ]
    }
   ],
   "source": [
    "#matrix multiplication 2*2\n",
    "import numpy as np\n",
    "A = np.array([[1,2,3],\n",
    "              [3,4,5]])\n",
    "B = np.array([[1,5],\n",
    "              [6,1],\n",
    "              [7,8] ])\n",
    "C = A.dot(B) \n",
    "print(C)              \n"
   ]
  },
  {
   "cell_type": "code",
   "execution_count": 4,
   "metadata": {},
   "outputs": [
    {
     "name": "stdout",
     "output_type": "stream",
     "text": [
      "[[ 0.70238095 -0.36904762]\n",
      " [-0.73809524  0.4047619 ]]\n"
     ]
    }
   ],
   "source": [
    "from numpy.linalg import inv\n",
    "D = inv(C) \n",
    "print(D)"
   ]
  },
  {
   "cell_type": "code",
   "execution_count": null,
   "metadata": {},
   "outputs": [],
   "source": []
  }
 ],
 "metadata": {
  "kernelspec": {
   "display_name": "Python 3",
   "language": "python",
   "name": "python3"
  },
  "language_info": {
   "codemirror_mode": {
    "name": "ipython",
    "version": 3
   },
   "file_extension": ".py",
   "mimetype": "text/x-python",
   "name": "python",
   "nbconvert_exporter": "python",
   "pygments_lexer": "ipython3",
   "version": "3.7.3"
  }
 },
 "nbformat": 4,
 "nbformat_minor": 2
}
