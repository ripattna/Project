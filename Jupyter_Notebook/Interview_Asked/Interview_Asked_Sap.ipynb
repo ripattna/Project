{
 "cells": [
  {
   "cell_type": "code",
   "execution_count": 6,
   "metadata": {
    "collapsed": true
   },
   "outputs": [
    {
     "name": "stdout",
     "output_type": "stream",
     "text": [
      "0\n",
      "3\n",
      "6\n",
      "9\n",
      "12\n",
      "15\n",
      "18\n",
      "21\n",
      "24\n",
      "27\n",
      "30\n",
      "33\n",
      "36\n",
      "39\n",
      "42\n",
      "45\n",
      "48\n",
      "51\n",
      "54\n",
      "57\n",
      "60\n",
      "63\n",
      "66\n",
      "69\n",
      "72\n",
      "75\n",
      "78\n",
      "81\n",
      "84\n",
      "87\n",
      "90\n",
      "93\n",
      "96\n",
      "99\n"
     ]
    }
   ],
   "source": [
    "# Print 3,6,9\n",
    "x = 0\n",
    "while (x<=100):\n",
    "    print(x)\n",
    "    x = x+3"
   ]
  },
  {
   "cell_type": "code",
   "execution_count": 8,
   "metadata": {
    "collapsed": true
   },
   "outputs": [
    {
     "name": "stdout",
     "output_type": "stream",
     "text": [
      "0\n",
      "1\n",
      "2\n",
      "3\n",
      "4\n",
      "5\n",
      "6\n",
      "7\n",
      "8\n",
      "9\n",
      "10\n",
      "11\n",
      "12\n",
      "13\n",
      "14\n",
      "15\n",
      "16\n",
      "17\n",
      "18\n",
      "19\n",
      "20\n",
      "21\n",
      "22\n",
      "23\n",
      "24\n",
      "25\n",
      "26\n",
      "27\n",
      "28\n",
      "29\n",
      "30\n",
      "31\n",
      "32\n",
      "33\n",
      "34\n",
      "35\n",
      "36\n",
      "37\n",
      "38\n",
      "39\n",
      "40\n",
      "41\n",
      "42\n",
      "43\n",
      "44\n",
      "45\n",
      "46\n",
      "47\n",
      "48\n",
      "49\n",
      "50\n",
      "51\n",
      "52\n",
      "53\n",
      "54\n",
      "55\n",
      "56\n",
      "57\n",
      "58\n",
      "59\n",
      "60\n",
      "61\n",
      "62\n",
      "63\n",
      "64\n",
      "65\n",
      "66\n",
      "67\n",
      "68\n",
      "69\n",
      "70\n",
      "71\n",
      "72\n",
      "73\n",
      "74\n",
      "75\n",
      "76\n",
      "77\n",
      "78\n",
      "79\n",
      "80\n",
      "81\n",
      "82\n",
      "83\n",
      "84\n",
      "85\n",
      "86\n",
      "87\n",
      "88\n",
      "89\n",
      "90\n",
      "91\n",
      "92\n",
      "93\n",
      "94\n",
      "95\n",
      "96\n",
      "97\n",
      "98\n",
      "99\n"
     ]
    }
   ],
   "source": [
    "# Print 3,6,9\n",
    "for i in range(100):\n",
    "    print(i)\n",
    "    i = i+3"
   ]
  },
  {
   "cell_type": "code",
   "execution_count": 7,
   "metadata": {
    "collapsed": true
   },
   "outputs": [
    {
     "name": "stdout",
     "output_type": "stream",
     "text": [
      "0\n",
      "3\n",
      "6\n",
      "9\n",
      "12\n",
      "15\n",
      "18\n",
      "21\n",
      "24\n",
      "27\n",
      "30\n",
      "33\n",
      "36\n",
      "39\n",
      "42\n",
      "45\n",
      "48\n",
      "51\n",
      "54\n",
      "57\n",
      "60\n",
      "63\n",
      "66\n",
      "69\n",
      "72\n",
      "75\n",
      "78\n",
      "81\n",
      "84\n",
      "87\n",
      "90\n",
      "93\n",
      "96\n",
      "99\n"
     ]
    }
   ],
   "source": [
    "# Print 3,6,9\n",
    "x = 0\n",
    "while (x < 100):\n",
    "    print(x)\n",
    "    x = x+3"
   ]
  },
  {
   "cell_type": "code",
   "execution_count": 13,
   "metadata": {
    "collapsed": true
   },
   "outputs": [
    {
     "name": "stdout",
     "output_type": "stream",
     "text": [
      "0\n",
      "3\n",
      "6\n",
      "9\n",
      "12\n",
      "15\n",
      "18\n",
      "21\n",
      "24\n",
      "27\n",
      "30\n",
      "33\n",
      "36\n",
      "39\n",
      "42\n",
      "45\n",
      "48\n",
      "51\n",
      "54\n",
      "57\n",
      "60\n",
      "63\n",
      "66\n",
      "69\n",
      "72\n",
      "75\n",
      "78\n",
      "81\n",
      "84\n",
      "87\n",
      "90\n",
      "93\n",
      "96\n",
      "99\n"
     ]
    }
   ],
   "source": [
    "# Print 3,6,9\n",
    "def cal_Partern():\n",
    "    x = 0\n",
    "    while (x<=100):\n",
    "        print(x)\n",
    "        x = x+3\n",
    "        \n",
    "cal_p = cal_Partern()\n"
   ]
  },
  {
   "cell_type": "code",
   "execution_count": 2,
   "metadata": {},
   "outputs": [
    {
     "name": "stdout",
     "output_type": "stream",
     "text": [
      "0\n",
      "1\n",
      "2\n",
      "3\n",
      "4\n",
      "5\n",
      "6\n",
      "7\n",
      "8\n",
      "9\n",
      "10\n",
      "11\n",
      "12\n",
      "13\n",
      "14\n",
      "15\n",
      "16\n",
      "17\n",
      "18\n",
      "19\n"
     ]
    }
   ],
   "source": [
    "# Print 3,6,9\n",
    "def cal_Part():\n",
    "    for i in range(20):\n",
    "        print(i)\n",
    "        i = i+3\n",
    "        \n",
    "cal_Part()"
   ]
  },
  {
   "cell_type": "code",
   "execution_count": 34,
   "metadata": {
    "scrolled": true
   },
   "outputs": [
    {
     "name": "stdout",
     "output_type": "stream",
     "text": [
      "9\n",
      "6\n",
      "3\n",
      "0\n"
     ]
    }
   ],
   "source": [
    "x = 9\n",
    "while (x >= 0) :\n",
    "    print(x)\n",
    "    x = x-3\n"
   ]
  },
  {
   "cell_type": "code",
   "execution_count": 37,
   "metadata": {
    "collapsed": true
   },
   "outputs": [
    {
     "name": "stdout",
     "output_type": "stream",
     "text": [
      "10\n",
      "9\n",
      "8\n",
      "7\n",
      "6\n",
      "5\n",
      "4\n",
      "3\n",
      "2\n",
      "1\n",
      "0\n"
     ]
    }
   ],
   "source": [
    "x = 10\n",
    "while (x >= 0):\n",
    "    print(x)\n",
    "    x = x-1"
   ]
  },
  {
   "cell_type": "code",
   "execution_count": 15,
   "metadata": {
    "collapsed": true
   },
   "outputs": [
    {
     "name": "stdout",
     "output_type": "stream",
     "text": [
      "||\n",
      "---\n",
      "||\n",
      "---\n",
      "||\n",
      "---\n",
      "||\n",
      "---\n",
      "||\n"
     ]
    }
   ],
   "source": [
    "# Print the \n",
    "def parter(x):\n",
    "    for i in range(x):\n",
    "        if (i % 2) ==0:\n",
    "            print(\"||\")\n",
    "        else:\n",
    "            print(\"---\")\n",
    "parter(9)"
   ]
  },
  {
   "cell_type": "code",
   "execution_count": 28,
   "metadata": {
    "collapsed": true
   },
   "outputs": [
    {
     "name": "stdout",
     "output_type": "stream",
     "text": [
      "||\n",
      "---\n",
      "||\n",
      "---\n",
      "||\n",
      "---\n",
      "||\n",
      "---\n",
      "||\n"
     ]
    }
   ],
   "source": [
    "x = 1\n",
    "while (x<10):\n",
    "    x = x+1\n",
    "    if (x % 2) ==0:\n",
    "        print(\"||\")\n",
    "    else:\n",
    "        print(\"---\")"
   ]
  },
  {
   "cell_type": "code",
   "execution_count": 13,
   "metadata": {},
   "outputs": [
    {
     "data": {
      "text/plain": [
       "array([[1, 2, 3],\n",
       "       [4, 5, 6]])"
      ]
     },
     "execution_count": 13,
     "metadata": {},
     "output_type": "execute_result"
    }
   ],
   "source": [
    "import numpy as np\n",
    "import pandas as pd\n",
    "\n",
    "x = np.array([[1,2,3],[4,5,6]])\n",
    "x"
   ]
  },
  {
   "cell_type": "code",
   "execution_count": 6,
   "metadata": {
    "collapsed": true
   },
   "outputs": [
    {
     "name": "stdout",
     "output_type": "stream",
     "text": [
      "I am printing out: 1\n",
      "I am printing out: 2\n",
      "I am printing out: 3\n",
      "I am printing out: 4\n",
      "I am printing out: 5\n",
      "I am printing out: 6\n",
      "I am printing out: 7\n",
      "I am printing out: 8\n",
      "I am printing out: 9\n",
      "I am printing out: 10\n",
      "I am printing out: 11\n",
      "I am printing out: 12\n",
      "I am printing out: 13\n",
      "I am printing out: 14\n",
      "I am printing out: 15\n",
      "I am printing out: 16\n",
      "I am printing out: 17\n",
      "I am printing out: 18\n",
      "I am printing out: 19\n",
      "I am printing out: 20\n",
      "I am printing out: 21\n",
      "I am printing out: 22\n",
      "I am printing out: 23\n",
      "I am printing out: 24\n",
      "I am printing out: 25\n",
      "I am printing out: 26\n",
      "I am printing out: 27\n",
      "I am printing out: 28\n",
      "I am printing out: 29\n",
      "I am printing out: 30\n",
      "I am printing out: 31\n",
      "I am printing out: 32\n",
      "I am printing out: 33\n",
      "I am printing out: 34\n",
      "I am printing out: 35\n",
      "I am printing out: 36\n",
      "I am printing out: 37\n",
      "I am printing out: 38\n",
      "I am printing out: 39\n"
     ]
    }
   ],
   "source": [
    "for i in range(1,40):\n",
    "    print(\"I am printing out:\",i)\n",
    "    # print(\"I am printing out: {}\".format(i))"
   ]
  },
  {
   "cell_type": "code",
   "execution_count": null,
   "metadata": {},
   "outputs": [],
   "source": [
    "x = 0\n",
    "while (x<=10):\n",
    "    print(x)\n",
    "    x = x+1"
   ]
  },
  {
   "cell_type": "code",
   "execution_count": 4,
   "metadata": {},
   "outputs": [
    {
     "name": "stdout",
     "output_type": "stream",
     "text": [
      "I am printing out: 1\n",
      "I am printing out: 2\n",
      "I am printing out: 3\n",
      "I am printing out: 4\n",
      "I am printing out: 5\n",
      "I am printing out: 6\n",
      "I am printing out: 7\n",
      "I am printing out: 8\n",
      "I am printing out: 9\n"
     ]
    }
   ],
   "source": [
    "for i in range(1,10):\n",
    "    print(\"I am printing out:\",i)\n",
    "    # print(\"I am printing out: {}\".format(i))"
   ]
  },
  {
   "cell_type": "code",
   "execution_count": 5,
   "metadata": {},
   "outputs": [
    {
     "name": "stdout",
     "output_type": "stream",
     "text": [
      " \n",
      "1  \n",
      "2 2  \n",
      "3 3 3  \n",
      "4 4 4 4  \n",
      "5 5 5 5 5  \n"
     ]
    }
   ],
   "source": [
    "# rows = 6\n",
    "for num in range(6):\n",
    "    for i in range(num):\n",
    "        print(num, end=\" \")  # print number\n",
    "    # line after each row to display pattern correctly\n",
    "    print(\" \")"
   ]
  },
  {
   "cell_type": "code",
   "execution_count": 6,
   "metadata": {
    "collapsed": true
   },
   "outputs": [
    {
     "name": "stdout",
     "output_type": "stream",
     "text": [
      " \n",
      "1 hello\n",
      " \n",
      "2 hello\n",
      "2 hello\n",
      " \n",
      "3 hello\n",
      "3 hello\n",
      "3 hello\n",
      " \n",
      "4 hello\n",
      "4 hello\n",
      "4 hello\n",
      "4 hello\n",
      " \n",
      "5 hello\n",
      "5 hello\n",
      "5 hello\n",
      "5 hello\n",
      "5 hello\n",
      " \n",
      "6 hello\n",
      "6 hello\n",
      "6 hello\n",
      "6 hello\n",
      "6 hello\n",
      "6 hello\n",
      " \n",
      "7 hello\n",
      "7 hello\n",
      "7 hello\n",
      "7 hello\n",
      "7 hello\n",
      "7 hello\n",
      "7 hello\n",
      " \n",
      "8 hello\n",
      "8 hello\n",
      "8 hello\n",
      "8 hello\n",
      "8 hello\n",
      "8 hello\n",
      "8 hello\n",
      "8 hello\n",
      " \n"
     ]
    }
   ],
   "source": [
    "x = 9\n",
    "for i in range(x):\n",
    "    for j in range(i):\n",
    "        print(i,\"hello\")\n",
    "    print(\" \")"
   ]
  },
  {
   "cell_type": "code",
   "execution_count": 7,
   "metadata": {},
   "outputs": [
    {
     "name": "stdout",
     "output_type": "stream",
     "text": [
      "Enter the number of rows:5\n",
      " \n",
      "1  \n",
      "2 2  \n",
      "3 3 3  \n",
      "4 4 4 4  \n"
     ]
    }
   ],
   "source": [
    "x = int(input(\"Enter the number of rows:\"))\n",
    "for i in range(x):\n",
    "    for j in range(i):\n",
    "        print(i, end=\" \")\n",
    "    print(\" \")"
   ]
  },
  {
   "cell_type": "code",
   "execution_count": 8,
   "metadata": {},
   "outputs": [
    {
     "name": "stdout",
     "output_type": "stream",
     "text": [
      "Enter the number of rows:2\n",
      "# # \n",
      "# # \n"
     ]
    }
   ],
   "source": [
    "num = int(input(\"Enter the number of rows:\"))\n",
    "for i in range(1, num+1):\n",
    "    for j in range(1, num+1):\n",
    "        print(\"#\", end=\" \")\n",
    "    print()"
   ]
  },
  {
   "cell_type": "code",
   "execution_count": 9,
   "metadata": {},
   "outputs": [
    {
     "name": "stdout",
     "output_type": "stream",
     "text": [
      "Enter the number of rows:1\n",
      "* \n"
     ]
    }
   ],
   "source": [
    "num = int(input(\"Enter the number of rows:\"))\n",
    "for i in range(1, num+1):\n",
    "    for j in range(1, i+1):\n",
    "        print(\"*\", end=\" \")\n",
    "    print()"
   ]
  },
  {
   "cell_type": "code",
   "execution_count": 10,
   "metadata": {},
   "outputs": [
    {
     "name": "stdout",
     "output_type": "stream",
     "text": [
      "Enter the number of rows:3\n",
      "* \n",
      "* * * \n",
      "* * * * * \n"
     ]
    }
   ],
   "source": [
    "num = int(input(\"Enter the number of rows:\"))\n",
    "k = 1\n",
    "for i in range(1, num+1):\n",
    "    for j in range(1, k+1):\n",
    "        print(\"*\", end=\" \")\n",
    "    k = k+2\n",
    "    print()"
   ]
  },
  {
   "cell_type": "markdown",
   "metadata": {},
   "source": [
    "# Create empty List,Set,Tuple & Dictionary"
   ]
  },
  {
   "cell_type": "code",
   "execution_count": 4,
   "metadata": {},
   "outputs": [
    {
     "name": "stdout",
     "output_type": "stream",
     "text": [
      "<class 'list'>\n",
      "<class 'list'> None\n",
      "[]\n",
      "0\n"
     ]
    }
   ],
   "source": [
    "#Empty list\n",
    "l = []\n",
    "l1 = list()\n",
    "print(type(l),print(type(l1)))\n",
    "print(l)\n",
    "print(len(l))"
   ]
  },
  {
   "cell_type": "code",
   "execution_count": 10,
   "metadata": {},
   "outputs": [
    {
     "name": "stdout",
     "output_type": "stream",
     "text": [
      "<class 'tuple'> <class 'tuple'>\n",
      "()\n",
      "0\n"
     ]
    }
   ],
   "source": [
    "# Empty Tuple\n",
    "e1 = ()\n",
    "e = tuple()\n",
    "print(type(e), type(e1))\n",
    "print(e)\n",
    "print(len(e))"
   ]
  },
  {
   "cell_type": "code",
   "execution_count": 11,
   "metadata": {},
   "outputs": [
    {
     "name": "stdout",
     "output_type": "stream",
     "text": [
      "<class 'dict'> <class 'dict'>\n",
      "{}\n",
      "0\n"
     ]
    }
   ],
   "source": [
    "# Empty Dictionary\n",
    "d1 = {}\n",
    "d = dict()\n",
    "print(type(d), type(d1))\n",
    "print(d)\n",
    "print(len(d))\n"
   ]
  },
  {
   "cell_type": "code",
   "execution_count": 17,
   "metadata": {},
   "outputs": [
    {
     "name": "stdout",
     "output_type": "stream",
     "text": [
      "<class 'set'>\n",
      "<class 'dict'>\n",
      "set()\n",
      "0\n"
     ]
    }
   ],
   "source": [
    "# Empty Set #NB: {} don't represent an empty Set ,So use set() for an empty set.\n",
    "s1 = {}\n",
    "s = set()\n",
    "print(type(s))\n",
    "print(type(s1))\n",
    "print(s)\n",
    "print(len(s))"
   ]
  },
  {
   "cell_type": "code",
   "execution_count": 1,
   "metadata": {},
   "outputs": [
    {
     "data": {
      "text/plain": [
       "'ABCD'"
      ]
     },
     "execution_count": 1,
     "metadata": {},
     "output_type": "execute_result"
    }
   ],
   "source": [
    "# Reverse a String\n"
   ]
  },
  {
   "cell_type": "code",
   "execution_count": null,
   "metadata": {},
   "outputs": [],
   "source": [
    "a = \"ABCD\"\n",
    "a"
   ]
  },
  {
   "cell_type": "code",
   "execution_count": 3,
   "metadata": {},
   "outputs": [
    {
     "data": {
      "text/plain": [
       "'DCBA'"
      ]
     },
     "execution_count": 3,
     "metadata": {},
     "output_type": "execute_result"
    }
   ],
   "source": [
    "a = \"ABCD\"[::-1]\n",
    "a"
   ]
  },
  {
   "cell_type": "code",
   "execution_count": null,
   "metadata": {},
   "outputs": [],
   "source": []
  }
 ],
 "metadata": {
  "kernelspec": {
   "display_name": "Python 3",
   "language": "python",
   "name": "python3"
  },
  "language_info": {
   "codemirror_mode": {
    "name": "ipython",
    "version": 3
   },
   "file_extension": ".py",
   "mimetype": "text/x-python",
   "name": "python",
   "nbconvert_exporter": "python",
   "pygments_lexer": "ipython3",
   "version": "3.8.3"
  }
 },
 "nbformat": 4,
 "nbformat_minor": 4
}
