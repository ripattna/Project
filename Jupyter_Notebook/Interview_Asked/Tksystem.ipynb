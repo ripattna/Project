{
 "cells": [
  {
   "cell_type": "markdown",
   "metadata": {},
   "source": [
    "# Programming challenge description:\n",
    "Read the following scenario and write the python code: Note: input is in string and output should be in list\n",
    "\n",
    "• Replace all integers that are evenly divisible by 3 with 3\n",
    "\n",
    "• Replace all integers divisible by 5 with 5\n",
    "\n",
    "• Replace all integers divisible by both 3 and 5 with 7\n",
    "\n",
    "Input:\n",
    "22,45,14,65,97,72\n",
    "\n",
    "Output:\n",
    "[22, 7, 14, 5, 97, 3]\n",
    "\n",
    "Test 1\n",
    "Test Input\n",
    "Download Test 1 Input\n",
    "22,45,14,65,97,72\n",
    "Expected Output\n",
    "Download Test 1 Input\n",
    "[22, 7, 14, 5, 97, 3]\n"
   ]
  },
  {
   "cell_type": "code",
   "execution_count": 1,
   "metadata": {},
   "outputs": [
    {
     "name": "stdout",
     "output_type": "stream",
     "text": [
      "(22, 45, 14, 65, 97, 72)\n"
     ]
    }
   ],
   "source": [
    "import sys\n",
    "for line in sys.stdin:\n",
    "    print(line, end=\"\")\n",
    "    \n",
    "input_string  = (22,45,14,65,97,72) \n",
    "print(input_string)"
   ]
  },
  {
   "cell_type": "markdown",
   "metadata": {},
   "source": [
    "# Python code- String\n",
    "Programming challenge description:\n",
    "Sort the word in alphabetical order and remove the repeated words in the given line:\n",
    "\n",
    "Input:\n",
    "attending the interview which attending the attendee of the attendance of interview doesnt attending by attendee\n",
    "\n",
    "Output:\n",
    "attendance attendee attending by doesnt interview of the which\n",
    "\n",
    "Test 1\n",
    "Test Input\n",
    "Download Test 1 Input\n",
    "attending the interview which attending the attendee of the attendance of interview doesnt attending by attendee\n",
    "Expected Output\n",
    "Download Test 1 Input\n",
    "attendance attendee attending by doesnt interview of the which\n",
    "Test 2\n",
    "Test Input\n",
    "Download Test 2 Input\n",
    "word which create world by word which create world by me\n",
    "Expected Output\n",
    "Download Test 2 Input\n",
    "by create me which word world"
   ]
  },
  {
   "cell_type": "code",
   "execution_count": null,
   "metadata": {},
   "outputs": [],
   "source": []
  },
  {
   "cell_type": "markdown",
   "metadata": {},
   "source": [
    "# Python coding\n",
    "Programming challenge description:\n",
    "A website requires the users to input username and password to register. Write a program to check the validity of password input by users. Following are the criteria for checking the password:\n",
    "\n",
    "At least 1 letter between [a-z]\n",
    "At least 1 number between [0-9]\n",
    "At least 1 letter between [A-Z]\n",
    "At least 1 character from [$#@]\n",
    "Minimum length of transaction password: 6\n",
    "Maximum length of transaction password: 12\n",
    "Your program should accept a sequence of comma separated passwords and will check them according to the above criteria. Passwords that match the criteria are to be printed, each separated by a comma.\n",
    "\n",
    "Input:\n",
    "ABd1234@1,a F1#,2w3E*,2We3345,Abd@1,XYZcd@$134\n",
    "\n",
    "Output:\n",
    "ABd1234@1,XYZcd@$134\n",
    "\n",
    "Test 1\n",
    "Test Input\n",
    "Download Test 1 Input\n",
    "ABd1234@1,a F1#,2w3E*,2We3345,Abd@1,XYZcd@$134\n",
    "Expected Output\n",
    "Download Test 1 Input\n",
    "ABd1234@1,XYZcd@$134\n",
    "Test 2\n",
    "Test Input\n",
    "Download Test 2 Input\n",
    "MnopQr@zs,abcd@1#,WWW@13,FnerD@@#12\n",
    "Expected Output\n",
    "Download Test 2 Input\n",
    "FnerD@@#12"
   ]
  },
  {
   "cell_type": "code",
   "execution_count": null,
   "metadata": {},
   "outputs": [],
   "source": []
  },
  {
   "cell_type": "code",
   "execution_count": null,
   "metadata": {},
   "outputs": [],
   "source": []
  },
  {
   "cell_type": "code",
   "execution_count": 4,
   "metadata": {},
   "outputs": [
    {
     "name": "stdout",
     "output_type": "stream",
     "text": [
      "['Geeks', 'for', 'Geeks']\n",
      "<class 'list'>\n"
     ]
    }
   ],
   "source": [
    "def Convert(string):\n",
    "    li = list(string.split(\" \"))\n",
    "    return li\n",
    "  \n",
    "# Driver code    \n",
    "str1 = \"Geeks for Geeks\"\n",
    "lst = Convert(str1)\n",
    "print(lst)\n",
    "print(type(lst))"
   ]
  },
  {
   "cell_type": "code",
   "execution_count": null,
   "metadata": {},
   "outputs": [],
   "source": []
  }
 ],
 "metadata": {
  "kernelspec": {
   "display_name": "Python 3",
   "language": "python",
   "name": "python3"
  },
  "language_info": {
   "codemirror_mode": {
    "name": "ipython",
    "version": 3
   },
   "file_extension": ".py",
   "mimetype": "text/x-python",
   "name": "python",
   "nbconvert_exporter": "python",
   "pygments_lexer": "ipython3",
   "version": "3.8.5"
  }
 },
 "nbformat": 4,
 "nbformat_minor": 4
}
