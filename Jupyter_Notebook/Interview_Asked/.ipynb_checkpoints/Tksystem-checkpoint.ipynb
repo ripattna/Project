{
 "cells": [
  {
   "cell_type": "markdown",
   "metadata": {},
   "source": [
    "# Programming challenge description:\n",
    "Read the following scenario and write the python code: Note: input is in string and output should be in list\n",
    "\n",
    "• Replace all integers that are evenly divisible by 3 with 3\n",
    "\n",
    "• Replace all integers divisible by 5 with 5\n",
    "\n",
    "• Replace all integers divisible by both 3 and 5 with 7\n",
    "\n",
    "Input:\n",
    "22,45,14,65,97,72\n",
    "\n",
    "Output:\n",
    "[22, 7, 14, 5, 97, 3]\n",
    "\n",
    "Test 1\n",
    "Test Input\n",
    "Download Test 1 Input\n",
    "22,45,14,65,97,72\n",
    "Expected Output\n",
    "Download Test 1 Input\n",
    "[22, 7, 14, 5, 97, 3]\n"
   ]
  },
  {
   "cell_type": "code",
   "execution_count": 1,
   "metadata": {},
   "outputs": [
    {
     "name": "stdout",
     "output_type": "stream",
     "text": [
      "(22, 45, 14, 65, 97, 72)\n"
     ]
    }
   ],
   "source": [
    "import sys\n",
    "for line in sys.stdin:\n",
    "    print(line, end=\"\")\n",
    "    \n",
    "input_string  = (22,45,14,65,97,72) \n",
    "print(input_string)"
   ]
  },
  {
   "cell_type": "code",
   "execution_count": null,
   "metadata": {},
   "outputs": [],
   "source": []
  }
 ],
 "metadata": {
  "kernelspec": {
   "display_name": "Python 3",
   "language": "python",
   "name": "python3"
  },
  "language_info": {
   "codemirror_mode": {
    "name": "ipython",
    "version": 3
   },
   "file_extension": ".py",
   "mimetype": "text/x-python",
   "name": "python",
   "nbconvert_exporter": "python",
   "pygments_lexer": "ipython3",
   "version": "3.8.5"
  }
 },
 "nbformat": 4,
 "nbformat_minor": 4
}
