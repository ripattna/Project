{
 "cells": [
  {
   "cell_type": "code",
   "execution_count": 1,
   "metadata": {},
   "outputs": [
    {
     "name": "stdout",
     "output_type": "stream",
     "text": [
      "row = (101, 'Tom', 'Skagen', 'Stavanger', 'Norway')\n",
      "row = (102, 'Jerry', 'Jonny', 'Stavanger', 'Norway')\n"
     ]
    }
   ],
   "source": [
    "import pyodbc\n",
    "\n",
    "server = 'DESKTOP-BGG3J7Q'\n",
    "database = 'rissan_db'\n",
    "\n",
    "cnxn = pyodbc.connect('DRIVER={SQL Server Native Client 11.0};'\n",
    "                      'SERVER=' + server + ';'\n",
    "                      'DATABASE=' + database + ';'\n",
    "                      'Trusted_Connection=YES;')\n",
    "\n",
    "cnxn_1 = pyodbc.connect(Driver=\"{SQL Server Native Client 11.0}\",\n",
    "                        Server=\"DESKTOP-BGG3J7Q\",\n",
    "                        Database=\"rissan_db\",\n",
    "                        Trusted_Connection=\"YES\")\n",
    "\n",
    "cnxn_2 = pyodbc.connect('Driver={SQL Server Native Client 11.0};'\n",
    "                        'Server=DESKTOP-BGG3J7Q;'\n",
    "                        'Database=rissan_db;'\n",
    "                        'Trusted_Connection=Yes;')\n",
    "\n",
    "my_cursor = cnxn.cursor()\n",
    "my_cursor.execute('select * from Persons')\n",
    "\n",
    "for row in my_cursor:\n",
    "    # print(\"Row value\", row)\n",
    "    print('row = %r' % row)\n"
   ]
  },
  {
   "cell_type": "code",
   "execution_count": 1,
   "metadata": {},
   "outputs": [
    {
     "name": "stdout",
     "output_type": "stream",
     "text": [
      "Connection is established!\n",
      "('demo',)\n",
      "('information_schema',)\n",
      "('mysql',)\n",
      "('performance_schema',)\n",
      "('sakila',)\n",
      "('sys',)\n",
      "('world',)\n"
     ]
    }
   ],
   "source": [
    "import mysql.connector\n",
    "from mysql.connector import errorcode\n",
    "\n",
    "try:\n",
    "    cnx = mysql.connector.connect(host=\"localhost\", user='root', password='root', use_pure=True)\n",
    "\n",
    "except mysql.connector.Error as err:\n",
    "    if err.errno == errorcode.ER_ACCESS_DENIED_ERROR:\n",
    "        print(\"Something is wrong with your user name or password\")\n",
    "    elif err.errno == errorcode.ER_BAD_DB_ERROR:\n",
    "        print(\"Database does not exist\")\n",
    "    else:\n",
    "        print(err)\n",
    "\n",
    "else:\n",
    "    print(\"Connection is established!\")\n",
    "    # cnx.close()\n",
    "\n",
    "my_cursor = cnx.cursor()\n",
    "my_cursor.execute(\"show databases\")\n",
    "for x in my_cursor:\n",
    "    print(x)"
   ]
  },
  {
   "cell_type": "code",
   "execution_count": 3,
   "metadata": {},
   "outputs": [
    {
     "name": "stdout",
     "output_type": "stream",
     "text": [
      "The original string  is : Geeksforgeeks\n",
      "The reversed string(using loops) is : \n"
     ]
    }
   ],
   "source": [
    "def reverse(s):\n",
    "    str1 = \"\"\n",
    "    for i in s:\n",
    "        str = i + str1\n",
    "    return str1\n",
    "\n",
    "\n",
    "s = \"Geeksforgeeks\"\n",
    "\n",
    "print(\"The original string  is : \", end=\"\")\n",
    "print(s)\n",
    "\n",
    "print(\"The reversed string(using loops) is : \", end=\"\")\n",
    "print(reverse(s))\n"
   ]
  },
  {
   "cell_type": "code",
   "execution_count": 2,
   "metadata": {},
   "outputs": [
    {
     "name": "stdout",
     "output_type": "stream",
     "text": [
      "('demo',)\n",
      "('information_schema',)\n",
      "('mysql',)\n",
      "('performance_schema',)\n",
      "('sakila',)\n",
      "('sys',)\n",
      "('world',)\n"
     ]
    }
   ],
   "source": [
    "import mysql.connector\n",
    "\n",
    "conn = mysql.connector.connect(\n",
    "    host=\"localhost\",\n",
    "    user=\"root\",\n",
    "    password=\"root\",\n",
    "    use_pure=True)\n",
    "\n",
    "my_cursor = conn.cursor()\n",
    "my_cursor.execute(\"show databases\")\n",
    "\n",
    "for x in my_cursor:\n",
    "    print(x)"
   ]
  },
  {
   "cell_type": "code",
   "execution_count": 17,
   "metadata": {
    "collapsed": true
   },
   "outputs": [
    {
     "name": "stdout",
     "output_type": "stream",
     "text": [
      "(1, 'Mark', 'Male', 8000)\n",
      "(2, 'John', 'Male', 8000)\n",
      "(3, 'Pam', 'Female', 5000)\n",
      "(4, 'Sara', 'Female', 4000)\n",
      "(5, 'Todd', 'Male', 3500)\n",
      "(6, 'Mary', 'Female', 6000)\n",
      "(7, 'Ben', 'Male', 6500)\n",
      "(8, 'Jodi', 'Female', 4500)\n",
      "(9, 'Tom', 'Male', 7000)\n",
      "(10, 'Ron', 'Male', 6800)\n"
     ]
    }
   ],
   "source": [
    "import mysql.connector\n",
    "\n",
    "connection = mysql.connector.connect(host=\"localhost\",user=\"root\", password=\"root\",use_pure=True)\n",
    "\n",
    "my_cursor = connection.cursor()\n",
    "my_cursor.execute(\"select * from demo.employee\")\n",
    "\n",
    "for x in my_cursor:\n",
    "    print(x)"
   ]
  },
  {
   "cell_type": "code",
   "execution_count": 42,
   "metadata": {},
   "outputs": [
    {
     "name": "stdout",
     "output_type": "stream",
     "text": [
      "Connected to MySQL Server version: 8.0.22\n",
      "You're connected to database:  ('demo',)\n",
      "MySQL connection is closed!\n"
     ]
    }
   ],
   "source": [
    "import mysql.connector\n",
    "from mysql.connector import Error\n",
    "\n",
    "try:\n",
    "    connection = mysql.connector.connect(host='localhost',database='demo',user='root',password='root')\n",
    "    \n",
    "    if connection.is_connected():\n",
    "        db_Info = connection.get_server_info()\n",
    "        print(\"Connected to MySQL Server version:\", db_Info)\n",
    "        cursor = connection.cursor()\n",
    "        cursor.execute(\"select database();\")\n",
    "        #cursor.execute(\"select * from demo.employee limit 5;\")\n",
    "        record = cursor.fetchone()\n",
    "        print(\"You're connected to database: \", record)\n",
    "\n",
    "except Error as e:\n",
    "    print(\"Error while connecting to MySQL\", e)\n",
    "    \n",
    "finally:\n",
    "    if (connection.is_connected()):\n",
    "        cursor.close()\n",
    "        connection.close()\n",
    "        print(\"MySQL connection is closed!\")"
   ]
  },
  {
   "cell_type": "code",
   "execution_count": null,
   "metadata": {},
   "outputs": [],
   "source": []
  }
 ],
 "metadata": {
  "kernelspec": {
   "display_name": "Python 3",
   "language": "python",
   "name": "python3"
  },
  "language_info": {
   "codemirror_mode": {
    "name": "ipython",
    "version": 3
   },
   "file_extension": ".py",
   "mimetype": "text/x-python",
   "name": "python",
   "nbconvert_exporter": "python",
   "pygments_lexer": "ipython3",
   "version": "3.8.3"
  }
 },
 "nbformat": 4,
 "nbformat_minor": 4
}
