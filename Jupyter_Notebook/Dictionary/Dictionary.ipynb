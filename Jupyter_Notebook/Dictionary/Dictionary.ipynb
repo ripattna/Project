{
 "cells": [
  {
   "cell_type": "code",
   "execution_count": 77,
   "metadata": {},
   "outputs": [
    {
     "name": "stdout",
     "output_type": "stream",
     "text": [
      "Python Dictionaries are used to store data values in key:value pairs.\n",
      "A dictionary is a collection which is ordered*, changeable and does not allow duplicates.\n",
      "As of Python version 3.7, dictionaries are ordered. In Python 3.6 and earlier, dictionaries are unordered.\n"
     ]
    }
   ],
   "source": [
    "print(\"\"\"Python Dictionaries are used to store data values in key:value pairs.\n",
    "A dictionary is a collection which is ordered*, changeable and does not allow duplicates.\n",
    "As of Python version 3.7, dictionaries are ordered. In Python 3.6 and earlier, dictionaries are unordered.\"\"\")"
   ]
  },
  {
   "cell_type": "code",
   "execution_count": 103,
   "metadata": {},
   "outputs": [
    {
     "name": "stdout",
     "output_type": "stream",
     "text": [
      "The type of 'thisdict' variable: <class 'dict'>\n",
      "The lenght of the 'thisdict': 3\n"
     ]
    }
   ],
   "source": [
    "thisdict = {\n",
    "  \"brand\": \"Ford\",\n",
    "  \"model\": \"Mustang\",\n",
    "  \"year\": 1964,\n",
    "  \"year\": 2020\n",
    "}\n",
    "\n",
    "print('The type of \\'thisdict\\' variable:', type(thisdict))\n",
    "print('The lenght of the \\'thisdict\\':',len(thisdict))"
   ]
  },
  {
   "cell_type": "code",
   "execution_count": 95,
   "metadata": {},
   "outputs": [
    {
     "name": "stdout",
     "output_type": "stream",
     "text": [
      "The variable 's' variable: {'id': 1, 'item': 'Ramen'}\n",
      "1 Ramen\n"
     ]
    }
   ],
   "source": [
    "s = {'id':1, 'item':'Ramen' }\n",
    "print('The variable \\'s\\' variable:', s)\n",
    "print(s['id'],s['item'])"
   ]
  },
  {
   "cell_type": "code",
   "execution_count": 96,
   "metadata": {},
   "outputs": [
    {
     "name": "stdout",
     "output_type": "stream",
     "text": [
      "Empty Dictionary:\n",
      "{}\n"
     ]
    }
   ],
   "source": [
    "Dict = {}\n",
    "print(\"Empty Dictionary:\")\n",
    "print(Dict)"
   ]
  },
  {
   "cell_type": "code",
   "execution_count": 101,
   "metadata": {},
   "outputs": [
    {
     "name": "stdout",
     "output_type": "stream",
     "text": [
      "Dictionary with the use of dict(): \n",
      "<class 'dict'>\n",
      "{1: 'Geeks', 2: 'For', 3: 'Geeks'}\n"
     ]
    }
   ],
   "source": [
    "# Creating a Dictionary\n",
    "# with dict() method\n",
    "Dict = dict({1: 'Geeks', 2: 'For', 3:'Geeks'})\n",
    "print(\"Dictionary with the use of dict(): \")\n",
    "print(type(Dict))\n",
    "print(Dict)"
   ]
  },
  {
   "cell_type": "code",
   "execution_count": 64,
   "metadata": {},
   "outputs": [
    {
     "name": "stdout",
     "output_type": "stream",
     "text": [
      "\n",
      "Dictionary with the use of dict(): \n",
      "{1: 'Geeks', 2: 'For', 3: 'Geeks'}\n"
     ]
    }
   ],
   "source": [
    "# Creating a Dictionary\n",
    "# with dict() method\n",
    "Dict = dict({1: 'Geeks', 2: 'For', 3:'Geeks'})\n",
    "print(\"\\nDictionary with the use of dict(): \")\n",
    "print(Dict)"
   ]
  },
  {
   "cell_type": "code",
   "execution_count": 93,
   "metadata": {},
   "outputs": [
    {
     "name": "stdout",
     "output_type": "stream",
     "text": [
      "\n",
      "Dictionary with each item as a pair: \n",
      "<class 'dict'>\n",
      "{1: 'Geeks', 2: 'For'}\n"
     ]
    }
   ],
   "source": [
    "# Creating a Dictionary\n",
    "# with each item as a Pair\n",
    "Dict = dict([(1, 'Geeks'), (2, 'For')])\n",
    "print(\"\\nDictionary with each item as a pair: \")\n",
    "print(type(Dict))\n",
    "print(Dict)"
   ]
  },
  {
   "cell_type": "code",
   "execution_count": 105,
   "metadata": {},
   "outputs": [
    {
     "name": "stdout",
     "output_type": "stream",
     "text": [
      "{'brand': 'Ford', 'electric': False, 'year': 1964, 'colors': ['red', 'white', 'blue']}\n"
     ]
    }
   ],
   "source": [
    "# The values in dictionary items can be of any data type:(String, int, boolean, and list data types:)\n",
    "thisdict = {\n",
    "  \"brand\": \"Ford\",\n",
    "  \"electric\": False,\n",
    "  \"year\": 1964,\n",
    "  \"colors\": [\"red\", \"white\", \"blue\"]\n",
    "}\n",
    "print(thisdict)"
   ]
  },
  {
   "cell_type": "code",
   "execution_count": 41,
   "metadata": {},
   "outputs": [
    {
     "name": "stdout",
     "output_type": "stream",
     "text": [
      "{\"Nikhil\" : 1, \"Akshat\" : 2, \"Akash\" : 3}\n",
      "<class 'str'>\n",
      "The original string : {\"Nikhil\" : 1, \"Akshat\" : 2, \"Akash\" : 3}\n",
      "Type of res: <class 'dict'>\n",
      "The value of res: {'Nikhil': 1, 'Akshat': 2, 'Akash': 3}\n",
      "The converted dictionary : {'Nikhil': 1, 'Akshat': 2, 'Akash': 3}\n"
     ]
    }
   ],
   "source": [
    "# Converting string to dictionary :\n",
    "\n",
    "import json\n",
    "\n",
    "# initializing string \n",
    "test_string = '{\"Nikhil\" : 1, \"Akshat\" : 2, \"Akash\" : 3}' \n",
    "print(test_string)\n",
    "print(type(test_string))\n",
    "  \n",
    "# printing original string \n",
    "print(\"The original string : \" + str(test_string))\n",
    "  \n",
    "# using json.loads()\n",
    "# convert dictionary string to dictionary\n",
    "res = json.loads(test_string)\n",
    "\n",
    "print('Type of res:', type(res))\n",
    "print('The value of res:', res)\n",
    "# print result\n",
    "print(\"The converted dictionary : \" + str(res))"
   ]
  },
  {
   "cell_type": "code",
   "execution_count": 69,
   "metadata": {},
   "outputs": [
    {
     "name": "stdout",
     "output_type": "stream",
     "text": [
      "The original string :{\"id\": 1, \"item\" : \"Ramen\"}\n",
      "New variable new_dict's datatype: <class 'dict'>\n",
      "New variable new_dict's value: {'id': 1, 'item': 'Ramen'}\n",
      "\n",
      "The value is:\n",
      " dict_values([1, 'Ramen'])\n",
      "\n",
      "The key is:\n",
      " dict_keys(['id', 'item'])\n",
      "dict_items([('id', 1), ('item', 'Ramen')])\n"
     ]
    }
   ],
   "source": [
    "import json\n",
    "\n",
    "# s1 = '{\"Nikhil\" : 1, \"Akshat\" : 2, \"Akash\" : 3}' \n",
    "s1 = '{\"id\": 1, \"item\" : \"Ramen\"}'\n",
    "\n",
    "print(\"The original string :\" + str(s1))\n",
    "\n",
    "new_dict = json.loads(s1)\n",
    "print('New variable new_dict\\'s datatype:',type(new_dict))\n",
    "print('New variable new_dict\\'s value:' ,new_dict)\n",
    "\n",
    "# Printing the values of the dictionary\n",
    "val_dict = new_dict.values()\n",
    "print('\\nThe value is:\\n', val_dict)\n",
    "\n",
    "# Printing the key of the dictionary\n",
    "key_dict = new_dict.keys()\n",
    "print('\\nThe key is:\\n', key_dict)\n",
    "\n",
    "# To access dictionary element uisng \"items()\" mehtod:\n",
    "items_dict = new_dict.items()\n",
    "print(items_dict)"
   ]
  },
  {
   "cell_type": "code",
   "execution_count": null,
   "metadata": {},
   "outputs": [],
   "source": []
  }
 ],
 "metadata": {
  "kernelspec": {
   "display_name": "Python 3",
   "language": "python",
   "name": "python3"
  },
  "language_info": {
   "codemirror_mode": {
    "name": "ipython",
    "version": 3
   },
   "file_extension": ".py",
   "mimetype": "text/x-python",
   "name": "python",
   "nbconvert_exporter": "python",
   "pygments_lexer": "ipython3",
   "version": "3.8.5"
  }
 },
 "nbformat": 4,
 "nbformat_minor": 4
}
