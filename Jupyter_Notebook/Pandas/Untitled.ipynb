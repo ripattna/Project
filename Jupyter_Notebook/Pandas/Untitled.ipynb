{
 "cells": [
  {
   "cell_type": "code",
   "execution_count": 10,
   "id": "46a77cc2",
   "metadata": {},
   "outputs": [],
   "source": [
    "class Test(object):\n",
    "    i = 3  # This is a class attribute\n",
    "\n",
    "x = Test()\n",
    "x.i = 12   # Attempt to change the value of the class attribute using x instance\n",
    "#assert x.i == Test.i  # ERROR\n",
    "assert Test.i == 3    # Test.i was not affected\n",
    "assert x.i == 12      # x.i is a different object than Test.i"
   ]
  },
  {
   "cell_type": "code",
   "execution_count": 8,
   "id": "f2c98b46",
   "metadata": {},
   "outputs": [
    {
     "name": "stdout",
     "output_type": "stream",
     "text": [
      "12\n",
      "10\n"
     ]
    }
   ],
   "source": [
    "i = 10\n",
    "\n",
    "class Test(object):\n",
    "    i = 3  # This is a class attribute\n",
    "\n",
    "x = Test()\n",
    "x.i = 12 \n",
    "print(x.i)\n",
    "print(i)"
   ]
  },
  {
   "cell_type": "code",
   "execution_count": null,
   "id": "d6f24112",
   "metadata": {},
   "outputs": [],
   "source": []
  }
 ],
 "metadata": {
  "kernelspec": {
   "display_name": "Python 3",
   "language": "python",
   "name": "python3"
  },
  "language_info": {
   "codemirror_mode": {
    "name": "ipython",
    "version": 3
   },
   "file_extension": ".py",
   "mimetype": "text/x-python",
   "name": "python",
   "nbconvert_exporter": "python",
   "pygments_lexer": "ipython3",
   "version": "3.8.8"
  }
 },
 "nbformat": 4,
 "nbformat_minor": 5
}
