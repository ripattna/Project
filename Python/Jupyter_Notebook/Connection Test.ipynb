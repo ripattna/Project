{
 "cells": [
  {
   "cell_type": "code",
   "execution_count": 1,
   "metadata": {},
   "outputs": [
    {
     "name": "stdout",
     "output_type": "stream",
     "text": [
      "row = (101, 'Tom', 'Skagen', 'Stavanger', 'Norway')\n",
      "row = (102, 'Jerry', 'Jonny', 'Stavanger', 'Norway')\n"
     ]
    }
   ],
   "source": [
    "import pyodbc\n",
    "\n",
    "server = 'DESKTOP-BGG3J7Q'\n",
    "database = 'rissan_db'\n",
    "\n",
    "cnxn = pyodbc.connect('DRIVER={SQL Server Native Client 11.0};'\n",
    "                      'SERVER=' + server + ';'\n",
    "                      'DATABASE=' + database + ';'\n",
    "                      'Trusted_Connection=YES;')\n",
    "\n",
    "cnxn_1 = pyodbc.connect(Driver=\"{SQL Server Native Client 11.0}\",\n",
    "                        Server=\"DESKTOP-BGG3J7Q\",\n",
    "                        Database=\"rissan_db\",\n",
    "                        Trusted_Connection=\"YES\")\n",
    "\n",
    "cnxn_2 = pyodbc.connect('Driver={SQL Server Native Client 11.0};'\n",
    "                        'Server=DESKTOP-BGG3J7Q;'\n",
    "                        'Database=rissan_db;'\n",
    "                        'Trusted_Connection=Yes;')\n",
    "\n",
    "my_cursor = cnxn.cursor()\n",
    "my_cursor.execute('select * from Persons')\n",
    "\n",
    "for row in my_cursor:\n",
    "    # print(\"Row value\", row)\n",
    "    print('row = %r' % row)\n"
   ]
  },
  {
   "cell_type": "code",
   "execution_count": 2,
   "metadata": {},
   "outputs": [
    {
     "name": "stdout",
     "output_type": "stream",
     "text": [
      "Connection is established!\n",
      "('information_schema',)\n",
      "('mysql',)\n",
      "('performance_schema',)\n",
      "('sakila',)\n",
      "('sys',)\n",
      "('world',)\n"
     ]
    }
   ],
   "source": [
    "import mysql.connector\n",
    "from mysql.connector import errorcode\n",
    "\n",
    "try:\n",
    "    cnx = mysql.connector.connect(host=\"localhost\", user='root', password='root', use_pure=True)\n",
    "\n",
    "except mysql.connector.Error as err:\n",
    "    if err.errno == errorcode.ER_ACCESS_DENIED_ERROR:\n",
    "        print(\"Something is wrong with your user name or password\")\n",
    "    elif err.errno == errorcode.ER_BAD_DB_ERROR:\n",
    "        print(\"Database does not exist\")\n",
    "    else:\n",
    "        print(err)\n",
    "\n",
    "else:\n",
    "    print(\"Connection is established!\")\n",
    "    # cnx.close()\n",
    "\n",
    "my_cursor = cnx.cursor()\n",
    "my_cursor.execute(\"show databases\")\n",
    "for x in my_cursor:\n",
    "    print(x)\n",
    "\n",
    "\n",
    "\n"
   ]
  },
  {
   "cell_type": "code",
   "execution_count": 3,
   "metadata": {},
   "outputs": [
    {
     "name": "stdout",
     "output_type": "stream",
     "text": [
      "The original string  is : Geeksforgeeks\n",
      "The reversed string(using loops) is : \n"
     ]
    }
   ],
   "source": [
    "def reverse(s):\n",
    "    str1 = \"\"\n",
    "    for i in s:\n",
    "        str = i + str1\n",
    "    return str1\n",
    "\n",
    "\n",
    "s = \"Geeksforgeeks\"\n",
    "\n",
    "print(\"The original string  is : \", end=\"\")\n",
    "print(s)\n",
    "\n",
    "print(\"The reversed string(using loops) is : \", end=\"\")\n",
    "print(reverse(s))\n"
   ]
  },
  {
   "cell_type": "code",
   "execution_count": 4,
   "metadata": {},
   "outputs": [
    {
     "name": "stdout",
     "output_type": "stream",
     "text": [
      "('information_schema',)\n",
      "('mysql',)\n",
      "('performance_schema',)\n",
      "('sakila',)\n",
      "('sys',)\n",
      "('world',)\n"
     ]
    }
   ],
   "source": [
    "import mysql.connector\n",
    "\n",
    "conn = mysql.connector.connect(\n",
    "    host=\"localhost\",\n",
    "    user=\"root\",\n",
    "    password=\"root\",\n",
    "    use_pure=True)\n",
    "\n",
    "my_cursor = conn.cursor()\n",
    "my_cursor.execute(\"show databases\")\n",
    "\n",
    "for x in my_cursor:\n",
    "    print(x)\n",
    "\n"
   ]
  },
  {
   "cell_type": "code",
   "execution_count": null,
   "metadata": {},
   "outputs": [],
   "source": []
  }
 ],
 "metadata": {
  "kernelspec": {
   "display_name": "Python 3",
   "language": "python",
   "name": "python3"
  },
  "language_info": {
   "codemirror_mode": {
    "name": "ipython",
    "version": 3
   },
   "file_extension": ".py",
   "mimetype": "text/x-python",
   "name": "python",
   "nbconvert_exporter": "python",
   "pygments_lexer": "ipython3",
   "version": "3.8.3"
  }
 },
 "nbformat": 4,
 "nbformat_minor": 4
}
